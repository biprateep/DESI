{
 "cells": [
  {
   "cell_type": "code",
   "execution_count": null,
   "metadata": {},
   "outputs": [],
   "source": [
    "from pathlib import Path\n",
    "from importlib import reload\n",
    "import joblib\n",
    "\n",
    "import numpy as np\n",
    "import pandas as pd\n",
    "import matplotlib.pyplot as plt\n",
    "import matplotlib.lines as lines\n",
    "from astropy.table import Table\n",
    "\n",
    "import mpl_scatter_density\n",
    "\n",
    "from desitarget.sv1.sv1_targetmask import desi_mask, bgs_mask\n",
    "from importlib import reload\n",
    "import utils\n",
    "reload(utils)"
   ]
  },
  {
   "cell_type": "code",
   "execution_count": null,
   "metadata": {},
   "outputs": [],
   "source": [
    "survey = \"south\" # choose from `north` or `south\n",
    "rongpu_path = Path(\"/global/cscratch1/sd/rongpu/target/catalogs/dr9.0/0.49.0\")\n",
    "my_path = Path(\"/global/cscratch1/sd/bid13/LRG\")"
   ]
  },
  {
   "cell_type": "code",
   "execution_count": null,
   "metadata": {},
   "outputs": [],
   "source": [
    "bgs_path = my_path / (\"BGS_SV_\" + survey + \".fits\")"
   ]
  },
  {
   "cell_type": "code",
   "execution_count": null,
   "metadata": {},
   "outputs": [],
   "source": [
    "bgs_sv_cat = Table.read(bgs_path) # read in the SV data"
   ]
  },
  {
   "cell_type": "code",
   "execution_count": null,
   "metadata": {},
   "outputs": [],
   "source": [
    "bgs_bright_mask = ((bgs_sv_cat[\"SV1_BGS_TARGET\"] & bgs_mask.mask(\"BGS_BRIGHT_\"+survey.upper()))>0)\n",
    "bgs_faint_mask = ((bgs_sv_cat[\"SV1_BGS_TARGET\"] & bgs_mask.mask(\"BGS_FAINT_\"+survey.upper()))>0)\n",
    "lrg_opt_mask = ((bgs_sv_cat[\"SV1_DESI_TARGET\"] & desi_mask.mask(\"LRG_OPT_\"+survey.upper()))>0)\n",
    "lrg_ir_mask = ((bgs_sv_cat[\"SV1_DESI_TARGET\"] & desi_mask.mask(\"LRG_IR_\"+survey.upper()))>0)"
   ]
  },
  {
   "cell_type": "code",
   "execution_count": null,
   "metadata": {},
   "outputs": [],
   "source": [
    "print(\"As percentage of BGS\")\n",
    "print(f\"LRG_OPT AND BGS_BRIGHT: {(bgs_bright_mask & lrg_opt_mask).sum()*100/bgs_bright_mask.sum()}\")\n",
    "print(f\"LRG_IR AND BGS_BRIGHT: {(bgs_bright_mask & lrg_ir_mask).sum()*100/bgs_bright_mask.sum()}\")\n",
    "print(f\"LRG_OPT AND BGS_FAINT: {(bgs_faint_mask & lrg_opt_mask).sum()*100/bgs_faint_mask.sum()}\")\n",
    "print(f\"LRG_IR AND BGS_FAINT: {(bgs_faint_mask & lrg_ir_mask).sum()*100/bgs_faint_mask.sum()}\")"
   ]
  },
  {
   "cell_type": "code",
   "execution_count": null,
   "metadata": {},
   "outputs": [],
   "source": [
    "# lrg_path = rongpu_path / (\"dr9_sv1_lrg_\"+ survey+ \"_0.49.0_basic.fits\")\n",
    "lrg_path = my_path / (\"LRG_SV_\" + survey + \".fits\")\n",
    "lrg_sv_cat = Table.read(lrg_path) # read in the SV data"
   ]
  },
  {
   "cell_type": "code",
   "execution_count": null,
   "metadata": {},
   "outputs": [],
   "source": [
    "bgs_bright_mask = ((lrg_sv_cat[\"SV1_BGS_TARGET\"] & bgs_mask.mask(\"BGS_BRIGHT_\"+survey.upper()))>0)\n",
    "bgs_faint_mask = ((lrg_sv_cat[\"SV1_BGS_TARGET\"] & bgs_mask.mask(\"BGS_FAINT_\"+survey.upper()))>0)\n",
    "lrg_opt_mask = ((lrg_sv_cat[\"SV1_DESI_TARGET\"] & desi_mask.mask(\"LRG_OPT_\"+survey.upper()))>0)\n",
    "lrg_ir_mask = ((lrg_sv_cat[\"SV1_DESI_TARGET\"] & desi_mask.mask(\"LRG_IR_\"+survey.upper()))>0)"
   ]
  },
  {
   "cell_type": "code",
   "execution_count": null,
   "metadata": {},
   "outputs": [],
   "source": [
    "print(\"As percentage of LRG\")\n",
    "print(f\"LRG_OPT AND BGS_BRIGHT: {(bgs_bright_mask & lrg_opt_mask).sum()*100/lrg_opt_mask.sum()}\")\n",
    "print(f\"LRG_IR AND BGS_BRIGHT: {(bgs_bright_mask & lrg_ir_mask).sum()*100/lrg_ir_mask.sum()}\")\n",
    "print(f\"LRG_OPT AND BGS_FAINT: {(bgs_faint_mask & lrg_opt_mask).sum()*100/lrg_opt_mask.sum()}\")\n",
    "print(f\"LRG_IR AND BGS_FAINT: {(bgs_faint_mask & lrg_ir_mask).sum()*100/lrg_ir_mask.sum()}\")"
   ]
  },
  {
   "cell_type": "code",
   "execution_count": null,
   "metadata": {},
   "outputs": [],
   "source": [
    "utils.ts_plot(lrg_sv_cat[lrg_ir_mask], lrg_sv_cat[bgs_faint_mask & lrg_ir_mask])"
   ]
  },
  {
   "cell_type": "code",
   "execution_count": null,
   "metadata": {},
   "outputs": [],
   "source": [
    "z_cat = Table.read(\"/global/cfs/cdirs/desi/survey/catalogs/SV1/redshift_comps/cascades/3/LRG/alltiles_LRGzinfo.fits\")\n",
    "\n",
    "z_cat = z_cat[(z_cat[\"FIBERSTATUS\"]==0) & (z_cat[\"ZWARN\"]==0)]\n",
    "z_cat = z_cat[z_cat[\"PHOTSYS\"]==survey.upper()[0]]\n",
    "z_cat = z_cat[z_cat[\"SPECTYPE\"]==\"GALAXY\"]\n",
    "z_cat = z_cat[z_cat[\"TARGETS\"] == \"QSO+LRG\"]\n",
    "\n",
    "names = [name for name in z_cat.colnames if len(z_cat[name].shape) <= 1]\n",
    "z_cat = z_cat[names].to_pandas()\n",
    "z_cat = z_cat[z_cat.duplicated(subset=\"TARGETID\")][[\"TARGETID\", \"Z\"]]\n",
    "z_cat = z_cat.merge(lrg_sv_cat.to_pandas(), how=\"inner\", on= \"TARGETID\")\n",
    "z_cat = Table.from_pandas(z_cat)"
   ]
  },
  {
   "cell_type": "code",
   "execution_count": null,
   "metadata": {},
   "outputs": [],
   "source": [
    "bgs_bright_mask = ((z_cat[\"SV1_BGS_TARGET\"] & bgs_mask.mask(\"BGS_BRIGHT_\"+survey.upper()))>0)\n",
    "bgs_faint_mask = ((z_cat[\"SV1_BGS_TARGET\"] & bgs_mask.mask(\"BGS_FAINT_\"+survey.upper()))>0)\n",
    "lrg_opt_mask = ((z_cat[\"SV1_DESI_TARGET\"] & desi_mask.mask(\"LRG_OPT_\"+survey.upper()))>0)\n",
    "lrg_ir_mask = ((z_cat[\"SV1_DESI_TARGET\"] & desi_mask.mask(\"LRG_IR_\"+survey.upper()))>0)"
   ]
  },
  {
   "cell_type": "code",
   "execution_count": null,
   "metadata": {},
   "outputs": [],
   "source": [
    "utils.ts_plot(z_cat[lrg_ir_mask], z_cat[bgs_faint_mask & lrg_ir_mask], cat_frac=1, extra_cat_frac=1)"
   ]
  },
  {
   "cell_type": "code",
   "execution_count": null,
   "metadata": {},
   "outputs": [],
   "source": [
    "# load_randoms to calculate area\n",
    "random_path = Path(\"/global/cfs/cdirs/desi/target/catalogs/dr9/0.47.0/randoms/resolve/randoms-1-13.fits\")\n",
    "randoms = Table.read(random_path)\n",
    "randoms = randoms[utils.not_in_mask(\"LRG\", randoms) & (randoms[\"PHOTSYS\"]==survey.upper()[0])]"
   ]
  },
  {
   "cell_type": "code",
   "execution_count": null,
   "metadata": {},
   "outputs": [],
   "source": [
    "area = len(randoms)/2500 #sq degree\n",
    "del randoms"
   ]
  },
  {
   "cell_type": "code",
   "execution_count": null,
   "metadata": {},
   "outputs": [],
   "source": [
    "utils.plot_comoving_density(z_cat[\"Z\"], area,zmin=0.0, zmax=1.5, axis=[0.0, 1.25, 0, 0.01] )"
   ]
  },
  {
   "cell_type": "code",
   "execution_count": null,
   "metadata": {},
   "outputs": [],
   "source": [
    "utils.plot_comoving_density(lrg_sv_cat[lrg_ir_mask][\"zphot\"], area,zmin=0.1, zmax=1.5, axis=[0.1, 1.5, 0, 0.85], show=False )\n",
    "utils.plot_comoving_density(lrg_sv_cat[(~bgs_bright_mask) & lrg_ir_mask][\"zphot\"], area,zmin=0.1, zmax=1.5, axis=[0.1, 1.5, 0, 0.85], show=False)"
   ]
  },
  {
   "cell_type": "code",
   "execution_count": null,
   "metadata": {},
   "outputs": [],
   "source": [
    "utils.plot_comoving_density(lrg_sv_cat[lrg_opt_mask][\"zphot\"], area,zmin=0.1, zmax=1.5, axis=[0.1, 1.5, 0, 0.85], show=False )\n",
    "utils.plot_comoving_density(lrg_sv_cat[(~bgs_bright_mask) & lrg_opt_mask][\"zphot\"], area,zmin=0.1, zmax=1.5, axis=[0.1, 1.5, 0, 0.85], show=False)"
   ]
  },
  {
   "cell_type": "code",
   "execution_count": null,
   "metadata": {},
   "outputs": [],
   "source": []
  }
 ],
 "metadata": {
  "kernelspec": {
   "display_name": "DESI master",
   "language": "python",
   "name": "desi-master"
  },
  "language_info": {
   "codemirror_mode": {
    "name": "ipython",
    "version": 3
   },
   "file_extension": ".py",
   "mimetype": "text/x-python",
   "name": "python",
   "nbconvert_exporter": "python",
   "pygments_lexer": "ipython3",
   "version": "3.8.3"
  }
 },
 "nbformat": 4,
 "nbformat_minor": 4
}
