{
 "cells": [
  {
   "cell_type": "markdown",
   "metadata": {},
   "source": [
    "# LRG IR selection correlations with systematics "
   ]
  },
  {
   "cell_type": "markdown",
   "metadata": {},
   "source": [
    "Use LASSO to do variable selection and find correlations of LRG density with systematics."
   ]
  },
  {
   "cell_type": "code",
   "execution_count": 3,
   "metadata": {},
   "outputs": [],
   "source": [
    "import pandas as pd\n",
    "import numpy as np\n",
    "import healpy as hp\n",
    "\n",
    "import matplotlib.pyplot as plt\n",
    "import matplotlib.lines as lines\n",
    "\n",
    "from astropy.table import Table as T\n",
    "from astropy.coordinates import SkyCoord\n",
    "\n",
    "from scipy.stats import binned_statistic, iqr\n",
    "\n",
    "from sklearn.linear_model import SGDRegressor\n",
    "from sklearn.preprocessing import StandardScaler\n",
    "from sklearn.model_selection import GridSearchCV\n",
    "from sklearn.metrics import mean_squared_error, median_absolute_error"
   ]
  },
  {
   "cell_type": "markdown",
   "metadata": {},
   "source": [
    "Load the data"
   ]
  },
  {
   "cell_type": "code",
   "execution_count": 2,
   "metadata": {},
   "outputs": [],
   "source": [
    "hpTable = T.read(\"/home/bid13/code/desi/DESI-LASSO/data_new/heapix_map_lrg_ir_nominal_20191024_clean_combined_128.fits\")\n",
    "pix_area = hp.pixelfunc.nside2pixarea(128, degrees=True)\n",
    "\n",
    "#Moving to pandas\n",
    "data=hpTable.to_pandas()\n",
    "data=data.dropna()\n",
    "data=data.reset_index(drop=True)\n",
    "data[\"region\"] = data[\"region\"].str.decode(\"utf-8\")"
   ]
  },
  {
   "cell_type": "code",
   "execution_count": 4,
   "metadata": {},
   "outputs": [],
   "source": [
    "#put in galactic long and lat\n",
    "coords = SkyCoord(ra = data.ra, dec =data.dec, unit = \"deg\")\n",
    "data[\"cos(l)\"] = coords.galactic.l.radian\n",
    "data[\"cos(b)\"] =coords.galactic.b.radian\n",
    "\n",
    "data[\"cos(l)\"] = np.cos(data[\"cos(l)\"])\n",
    "data[\"cos(b)\"] = np.cos(data[\"cos(b)\"])\n",
    "\n",
    "#The regression is weighted using the fraction of area occupied in the pixel\n",
    "data[\"weight\"] = data[\"pix_frac\"]/data[\"pix_frac\"].max()\n",
    "\n",
    "data[\"pix_area\"] = pix_area*data[\"pix_frac\"]\n",
    "data[\"pix_pop\"] = data[\"density\"]*data[\"pix_area\"]\n",
    "\n",
    "#Columns to keep\n",
    "columns = ['EBV', 'galdepth_gmag', 'galdepth_rmag', 'galdepth_zmag','psfdepth_w1mag', 'PSFSIZE_G', 'PSFSIZE_R', 'PSFSIZE_Z', 'stardens_log',\"cos(l)\",\"cos(b)\"]"
   ]
  },
  {
   "cell_type": "markdown",
   "metadata": {},
   "source": [
    "select the two regions"
   ]
  },
  {
   "cell_type": "code",
   "execution_count": 6,
   "metadata": {},
   "outputs": [],
   "source": [
    "data_bm = data[data.region==\"bm\"] #Bass MzLS\n",
    "array_bm = np.array(data_bm[columns])\n",
    "\n",
    "scaler_bm=StandardScaler()\n",
    "scaled_bm=scaler_bm.fit_transform(array_bm)\n",
    "\n",
    "data_de = data[data.region!=\"bm\"] #DES+DECaLS\n",
    "array_de = np.array(data_de[columns])\n",
    "array_des = np.array(data[data.region==\"decals\"][columns])\n",
    "array_decals = np.array(data[data.region==\"des\"][columns])\n",
    "\n",
    "scaler_de=StandardScaler()\n",
    "scaled_de=scaler_de.fit_transform(array_de)"
   ]
  },
  {
   "cell_type": "markdown",
   "metadata": {},
   "source": [
    "## Calculate the Predicted Surface Density LASSO"
   ]
  },
  {
   "cell_type": "markdown",
   "metadata": {},
   "source": [
    "### Analysis for BASS+MzLS Region"
   ]
  },
  {
   "cell_type": "code",
   "execution_count": 7,
   "metadata": {},
   "outputs": [
    {
     "data": {
      "text/plain": [
       "GridSearchCV(cv=5, error_score=nan,\n",
       "             estimator=SGDRegressor(alpha=0.0001, average=False,\n",
       "                                    early_stopping=False, epsilon=0.1,\n",
       "                                    eta0=0.01, fit_intercept=True, l1_ratio=1,\n",
       "                                    learning_rate='invscaling',\n",
       "                                    loss='squared_loss', max_iter=1000,\n",
       "                                    n_iter_no_change=5, penalty='l1',\n",
       "                                    power_t=0.25, random_state=None,\n",
       "                                    shuffle=True, tol=0.001,\n",
       "                                    validation_fraction=0.1, verbose=0,\n",
       "                                    warm_start=F...\n",
       "       5.18459354e+09, 5.36697695e+09, 5.55577622e+09, 5.75121707e+09,\n",
       "       5.95353313e+09, 6.16296626e+09, 6.37976681e+09, 6.60419396e+09,\n",
       "       6.83651600e+09, 7.07701066e+09, 7.32596543e+09, 7.58367791e+09,\n",
       "       7.85045620e+09, 8.12661920e+09, 8.41249705e+09, 8.70843150e+09,\n",
       "       9.01477631e+09, 9.33189772e+09, 9.66017480e+09, 1.00000000e+10])},\n",
       "             pre_dispatch='2*n_jobs', refit=True, return_train_score=False,\n",
       "             scoring=None, verbose=0)"
      ]
     },
     "execution_count": 7,
     "metadata": {},
     "output_type": "execute_result"
    }
   ],
   "source": [
    "#Weighted LASSO\n",
    "lasso_bm = SGDRegressor(loss=\"squared_loss\", penalty=\"l1\", l1_ratio=1)\n",
    "\n",
    "#CV\n",
    "num_alphas=1000\n",
    "alphas=np.logspace(-5,10,num_alphas)\n",
    "cv = GridSearchCV(estimator=lasso_bm, param_grid={\"alpha\":alphas}, n_jobs=-1, cv=5)\n",
    "cv.fit(scaled_bm, data_bm.density, sample_weight=data_bm[\"weight\"])"
   ]
  },
  {
   "cell_type": "markdown",
   "metadata": {},
   "source": [
    "Select $\\alpha$ which maximizes $R^2$ while decreasing the fraction of predictors chosen."
   ]
  },
  {
   "cell_type": "code",
   "execution_count": null,
   "metadata": {},
   "outputs": [],
   "source": [
    "#Find fraction of Non zero coefficients\n",
    "coeffs = np.zeros((num_alphas, len(columns)))\n",
    "\n",
    "for i, alpha in enumerate(alphas):\n",
    "    lasso = SGDRegressor(alpha=alpha, loss=\"squared_loss\", penalty=\"l1\", l1_ratio=1)\n",
    "    lasso.fit(scaledData, data.density,sample_weight=data[\"weight\"])\n",
    "    coeffs[i] = lasso.coef_\n",
    "frac = (coeffs!=0).sum(axis=1)/len(columns)"
   ]
  },
  {
   "cell_type": "markdown",
   "metadata": {},
   "source": [
    "### Analysis for DES+DECaLS Region"
   ]
  },
  {
   "cell_type": "code",
   "execution_count": 8,
   "metadata": {},
   "outputs": [
    {
     "data": {
      "text/plain": [
       "GridSearchCV(cv=5, error_score=nan,\n",
       "             estimator=SGDRegressor(alpha=0.0001, average=False,\n",
       "                                    early_stopping=False, epsilon=0.1,\n",
       "                                    eta0=0.01, fit_intercept=True, l1_ratio=1,\n",
       "                                    learning_rate='invscaling',\n",
       "                                    loss='squared_loss', max_iter=1000,\n",
       "                                    n_iter_no_change=5, penalty='l1',\n",
       "                                    power_t=0.25, random_state=None,\n",
       "                                    shuffle=True, tol=0.001,\n",
       "                                    validation_fraction=0.1, verbose=0,\n",
       "                                    warm_start=F...\n",
       "       5.18459354e+09, 5.36697695e+09, 5.55577622e+09, 5.75121707e+09,\n",
       "       5.95353313e+09, 6.16296626e+09, 6.37976681e+09, 6.60419396e+09,\n",
       "       6.83651600e+09, 7.07701066e+09, 7.32596543e+09, 7.58367791e+09,\n",
       "       7.85045620e+09, 8.12661920e+09, 8.41249705e+09, 8.70843150e+09,\n",
       "       9.01477631e+09, 9.33189772e+09, 9.66017480e+09, 1.00000000e+10])},\n",
       "             pre_dispatch='2*n_jobs', refit=True, return_train_score=False,\n",
       "             scoring=None, verbose=0)"
      ]
     },
     "execution_count": 8,
     "metadata": {},
     "output_type": "execute_result"
    }
   ],
   "source": [
    "#Weighted LASSO\n",
    "lasso_de = SGDRegressor(loss=\"squared_loss\", penalty=\"l1\", l1_ratio=1)\n",
    "#CV\n",
    "num_alphas=1000\n",
    "alphas=np.logspace(-5,10,num_alphas)\n",
    "cv = GridSearchCV(estimator=lasso_de, param_grid={\"alpha\":alphas}, n_jobs=-1, cv=5)\n",
    "cv.fit(scaled_de, data_de.density, sample_weight=data_de[\"weight\"])"
   ]
  },
  {
   "cell_type": "markdown",
   "metadata": {},
   "source": [
    "Select $\\alpha$ which maximizes $R^2$ while decreasing the fraction of predictors chosen."
   ]
  },
  {
   "cell_type": "code",
   "execution_count": null,
   "metadata": {},
   "outputs": [],
   "source": []
  }
 ],
 "metadata": {
  "kernelspec": {
   "display_name": "Python 3",
   "language": "python",
   "name": "python3"
  },
  "language_info": {
   "codemirror_mode": {
    "name": "ipython",
    "version": 3
   },
   "file_extension": ".py",
   "mimetype": "text/x-python",
   "name": "python",
   "nbconvert_exporter": "python",
   "pygments_lexer": "ipython3",
   "version": "3.7.6"
  },
  "widgets": {
   "application/vnd.jupyter.widget-state+json": {
    "state": {},
    "version_major": 2,
    "version_minor": 0
   }
  }
 },
 "nbformat": 4,
 "nbformat_minor": 4
}
