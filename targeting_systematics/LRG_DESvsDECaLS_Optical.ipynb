{
 "cells": [
  {
   "cell_type": "markdown",
   "metadata": {},
   "source": [
    "# Compare the LRG Optical-selection sytematics between DES and DECaLS regions    \n",
    "We do LASSO based training using a healpix map of `nside=128` but do the testing using a healpix map of `nside=32` to reduce variance.\n",
    "\n",
    "Also we fit the model **only** to the DECaLS region but testing is done on **both** DES and DECaLS"
   ]
  },
  {
   "cell_type": "code",
   "execution_count": null,
   "metadata": {},
   "outputs": [],
   "source": [
    "import pandas as pd\n",
    "import numpy as np\n",
    "import healpy as hp\n",
    "\n",
    "import matplotlib.pyplot as plt\n",
    "import matplotlib.lines as lines\n",
    "\n",
    "from astropy.table import Table as T\n",
    "from astropy.coordinates import SkyCoord\n",
    "\n",
    "from scipy.stats import binned_statistic, iqr\n",
    "\n",
    "from sklearn.linear_model import SGDRegressor\n",
    "from sklearn.preprocessing import StandardScaler\n",
    "from sklearn.model_selection import GridSearchCV\n",
    "from sklearn.metrics import mean_squared_error, median_absolute_error\n",
    "\n",
    "from helpFunc import plot_hpix"
   ]
  },
  {
   "cell_type": "markdown",
   "metadata": {},
   "source": [
    "Load the data and select only `DECaLS`"
   ]
  },
  {
   "cell_type": "code",
   "execution_count": null,
   "metadata": {},
   "outputs": [],
   "source": [
    "hpTable = T.read(\"/home/bid13/code/desi/DESI-LASSO/data_new/heapix_map_lrg_optical_nominal_20191024_clean_combined_128.fits\")\n",
    "pix_area = hp.pixelfunc.nside2pixarea(128, degrees=True)\n",
    "\n",
    "#Moving to pandas\n",
    "data=hpTable.to_pandas()\n",
    "data=data.dropna()\n",
    "data=data.reset_index(drop=True)\n",
    "data[\"region\"] = data[\"region\"].str.decode(\"utf-8\")"
   ]
  },
  {
   "cell_type": "code",
   "execution_count": null,
   "metadata": {},
   "outputs": [],
   "source": [
    "#Select DECaLS for training\n",
    "data = data[data.region==\"decals\"]\n",
    "\n",
    "#put in galactic long and lat\n",
    "coords = SkyCoord(ra = data.ra, dec =data.dec, unit = \"deg\")\n",
    "data[\"cos(l)\"] = coords.galactic.l.radian\n",
    "data[\"cos(b)\"] =coords.galactic.b.radian\n",
    "\n",
    "data[\"cos(l)\"] = np.cos(data[\"cos(l)\"])\n",
    "data[\"cos(b)\"] = np.cos(data[\"cos(b)\"])\n",
    "\n",
    "#The regression is weighted using the fraction of area occupied in the pixel\n",
    "data[\"weight\"] = data[\"pix_frac\"]/data[\"pix_frac\"].max()\n",
    "\n",
    "data[\"pix_area\"] = pix_area*data[\"pix_frac\"]\n",
    "data[\"pix_pop\"] = data[\"density\"]*data[\"pix_area\"]\n",
    "\n",
    "#Columns to keep\n",
    "columns = ['EBV', 'galdepth_gmag', 'galdepth_rmag', 'galdepth_zmag','psfdepth_w1mag', 'PSFSIZE_G', 'PSFSIZE_R', 'PSFSIZE_Z', 'stardens_log',\"cos(l)\",\"cos(b)\"]\n",
    "\n",
    "#Scale the training data by subtracting the mean and dividing by std for each feature\n",
    "scaler = StandardScaler()\n",
    "scaled_data= scaler.fit_transform(data[columns])"
   ]
  },
  {
   "cell_type": "markdown",
   "metadata": {},
   "source": [
    "### Create a linear model to predict surface density while performing variable selection using LASSO"
   ]
  },
  {
   "cell_type": "markdown",
   "metadata": {},
   "source": [
    "**Weighted LASSO trained using Stochastic Gradient Descent**  \n",
    "LASSO is a regularized linear regression method which sets slopes of un-important predictors to zero. The penalizing coefficient $\\alpha$ is fixed using a grid search and the $R^2$ metric via cross validation (CV). We select the value of $\\alpha$ so that it maximises $R^2$ while using the minimum set of predictors with non-zero slopes. Each data point is weighted using the fraction of area that is filled in the corresponding pixel. (The procedure to select an optimal value of $\\alpha$ has been omited to preserve the brevity of this notebook)."
   ]
  },
  {
   "cell_type": "code",
   "execution_count": null,
   "metadata": {},
   "outputs": [],
   "source": [
    "alpha_sel = 0.8\n",
    "\n",
    "#Weighted LASSO\n",
    "lasso_sgd = SGDRegressor(loss=\"squared_loss\", penalty=\"l1\", l1_ratio=1, alpha =0.8, random_state=200, tol=1e-6, max_iter=1e5, eta0=1e-4)\n",
    "\n",
    "\n",
    "lasso_sgd.fit(scaled_data, data.density, sample_weight=data[\"weight\"])"
   ]
  },
  {
   "cell_type": "markdown",
   "metadata": {},
   "source": [
    "### Test the trained model with DES region  with `nside=32`"
   ]
  },
  {
   "cell_type": "markdown",
   "metadata": {},
   "source": [
    "Load the data and select only `DES+DECaLS`"
   ]
  },
  {
   "cell_type": "code",
   "execution_count": null,
   "metadata": {},
   "outputs": [],
   "source": [
    "hpTable_32 = T.read(\"/home/bid13/code/desi/DESI-LASSO/data_new/heapix_map_lrg_optical_nominal_20191024_clean_combined_32.fits\")\n",
    "\n",
    "data_32 = hpTable_32.to_pandas()\n",
    "data_32 = data_32.dropna()\n",
    "data_32 = data_32.reset_index(drop=True)\n",
    "data_32[\"region\"] = data_32[\"region\"].str.decode(\"utf-8\")\n",
    "data_32 = data_32[data_32[\"region\"]!=\"bm\"]\n",
    "\n",
    "#put in galactic long and lat\n",
    "coords = SkyCoord(ra = data_32.ra, dec =data_32.dec, unit = \"deg\")\n",
    "data_32[\"cos(l)\"] = coords.galactic.l.radian\n",
    "data_32[\"cos(b)\"] =coords.galactic.b.radian\n",
    "\n",
    "data_32[\"cos(l)\"] = np.cos(data_32[\"cos(l)\"])\n",
    "data_32[\"cos(b)\"] = np.cos(data_32[\"cos(b)\"])\n",
    "\n",
    "data_32[\"weight\"] = data_32[\"pix_frac\"]/data_32[\"pix_frac\"].max()\n",
    "\n",
    "data_32[\"pix_area\"] = pix_area*data_32[\"pix_frac\"]\n",
    "data_32[\"pix_pop\"] = data_32[\"density\"]*data_32[\"pix_area\"]\n",
    "\n",
    "scaled_data_32 = scaler.transform(data_32[columns])"
   ]
  },
  {
   "cell_type": "markdown",
   "metadata": {},
   "source": [
    "### The distribution of fractional total residuals   \n",
    "Total fractional residuals are defined as: $\\dfrac{\\text{(observed density - predicted density)}}{\\text{observed density}}$"
   ]
  },
  {
   "cell_type": "markdown",
   "metadata": {},
   "source": [
    "Here we compare the total fractional residuals for the linear model trained on `DECaLS` vs. the fractional deviation from a ‘constant-only’ model where the predicted density is simply the mean density of the `DECaLS + DES` region."
   ]
  },
  {
   "cell_type": "code",
   "execution_count": null,
   "metadata": {},
   "outputs": [],
   "source": [
    "#Linear Model\n",
    "data_32[\"lin_res\"] = (data_32[\"density\"] - lasso_sgd.predict(scaled_data_32))\n",
    "data_32[\"frac_lin_res\"] = data_32[\"lin_res\"]/data_32[\"density\"]\n",
    "\n",
    "#constant-only Model\n",
    "data_32[\"cons_res\"] = (data_32[\"density\"] - np.mean(data_32[data_32[\"region\"]==\"decals\"][\"density\"]))\n",
    "data_32[\"frac_cons_res\"] = data_32[\"cons_res\"]/data_32[\"density\"]\n",
    "\n",
    "\n",
    "data_32_des = data_32[data_32.region==\"des\"].copy()\n",
    "data_32_decals = data_32[data_32.region==\"decals\"].copy()"
   ]
  },
  {
   "cell_type": "code",
   "execution_count": null,
   "metadata": {},
   "outputs": [],
   "source": [
    "fig, ax = plt.subplots(1,2, figsize=(18,6))\n",
    "\n",
    "\n",
    "ax[0].hist(data_32[\"frac_cons_res\"], bins = 20, label=\"DES+DECaLS\", alpha =0.2, density=True)\n",
    "ax[0].hist(data_32_des[\"frac_cons_res\"], bins=20, alpha=0.8, label=\"DES\", histtype = \"step\", lw =2,density=True)\n",
    "ax[0].hist(data_32_decals[\"frac_cons_res\"], bins=20, alpha=0.8, label=\"DECaLS\",  histtype = \"step\", lw=2,density=True)\n",
    "ax[0].grid(alpha=0.5, ls =\"--\")\n",
    "ax[0].legend(loc=0, prop={'size': 15})\n",
    "ax[0].set_xlabel(\"Fractional residuals from constant-only (i.e., mean density) model\",size=15)\n",
    "\n",
    "ax[1].hist(data_32[\"frac_lin_res\"], bins = 20, label=\"DES+DECaLS\", alpha =0.2, density=True)\n",
    "ax[1].hist(data_32_des[\"frac_lin_res\"], bins=20, alpha=0.8, label=\"DES\", histtype = \"step\", lw =2,density=True)\n",
    "ax[1].hist(data_32_decals[\"frac_lin_res\"], bins=20, alpha=0.8, label=\"DECaLS\",  histtype = \"step\", lw=2,density=True)\n",
    "ax[1].grid(alpha=0.5, ls =\"--\")\n",
    "ax[1].legend(loc=0, prop={'size': 15})\n",
    "ax[1].set_xlabel(\"Fractional residuals from linear model\", size=15)\n",
    "\n",
    "fig.suptitle(\"Normalized histograms of fractional residuals trained only on DECaLS\", size=20)"
   ]
  },
  {
   "cell_type": "markdown",
   "metadata": {},
   "source": [
    "### Print statistics for the fractional residuals"
   ]
  },
  {
   "cell_type": "markdown",
   "metadata": {},
   "source": [
    "**Linear Model**"
   ]
  },
  {
   "cell_type": "code",
   "execution_count": null,
   "metadata": {},
   "outputs": [],
   "source": [
    "print(\"DES+Decals:\")\n",
    "print(\"Mean:\", round(data_32[\"lin_res\"].sum()/data_32[\"density\"].sum(), 4), \"Median:\", round(np.median(data_32[\"frac_lin_res\"]),4))\n",
    "print()\n",
    "print(\"DES:\")\n",
    "print(\"Mean:\", round(data_32_des[\"lin_res\"].sum()/data_32_des[\"density\"].sum(),4), \"Median:\", round(np.median(data_32_des[\"frac_lin_res\"]),4))\n",
    "print()\n",
    "print(\"DECaLS:\")\n",
    "print(\"Mean:\", round(data_32_decals[\"lin_res\"].sum()/data_32_decals[\"density\"].sum(),4), \"Median:\", round(np.median(data_32_decals[\"frac_lin_res\"]),4) )"
   ]
  },
  {
   "cell_type": "markdown",
   "metadata": {},
   "source": [
    "**Constant-only (i.e., mean density) Model**"
   ]
  },
  {
   "cell_type": "code",
   "execution_count": null,
   "metadata": {},
   "outputs": [],
   "source": [
    "print(\"DES+Decals:\")\n",
    "print(\"Mean:\", round(data_32[\"cons_res\"].sum()/data_32[\"density\"].sum(), 4), \"Median:\", round(np.median(data_32[\"frac_cons_res\"]),4))\n",
    "print()\n",
    "print(\"DES:\")\n",
    "print(\"Mean:\", round(data_32_des[\"cons_res\"].sum()/data_32_des[\"density\"].sum(),4), \"Median:\", round(np.median(data_32_des[\"frac_cons_res\"]),4))\n",
    "print()\n",
    "print(\"DECaLS:\")\n",
    "print(\"Mean:\", round(data_32_decals[\"cons_res\"].sum()/data_32_decals[\"density\"].sum(),4), \"Median:\", round(np.median(data_32_decals[\"frac_cons_res\"]),4) )"
   ]
  },
  {
   "cell_type": "markdown",
   "metadata": {},
   "source": [
    "### **Summary:**  \n",
    "There is about 0.1% difference in the average density of LRGs between the `DES` and `DECaLS` regions.  However, if one fits a linear model for the dependence of LRG density on imaging properties and systematics using only the `DECaLS` area, one predicts a density difference comparable to this."
   ]
  },
  {
   "cell_type": "markdown",
   "metadata": {},
   "source": [
    "### Residuals from each predictor after model was trained on DECaLS but tested on DES"
   ]
  },
  {
   "cell_type": "markdown",
   "metadata": {},
   "source": [
    "Below we plot the residuals for each predictor separately. We first determine the total residual for the model as $$\\text{Total residual = observed density - predicted density}$$ \n",
    "Now the residual for each predictor is calculated as: $\\text{Total residual}+C_i\\times x_i$ \n",
    "where $C_i$ is the slope corresponding to each predictor in the linear model and $x_i$ represents the values for each predictor. We are essentially adding back the contribution of each predictor one by one to the total residual. The straight lines denote the component of the linear model fitted to `DECaLS` while the points show binned residual for the `DES` region. The error bars are the maximum of the standard error or the poisson error in each bin. All the residuals are converted to fractions by dividing them by the average density in the `DES` region. The histograms in each plot show the normalized distributions of each predictor for the `DES` and `DECaLS` regions."
   ]
  },
  {
   "cell_type": "code",
   "execution_count": null,
   "metadata": {},
   "outputs": [],
   "source": [
    "fig, axs = plt.subplots(3,4, figsize = (18,12))\n",
    "fig.delaxes(axs[2][3])\n",
    "\n",
    "axs = axs.flatten()\n",
    "axs_twin = [ax.twinx() for ax in axs]\n",
    "fig.delaxes(axs_twin[-1])\n",
    "\n",
    "scaled_32_des = scaler.transform(data_32_des[columns])\n",
    "\n",
    "array_des = np.array(data_32_des[columns])\n",
    "array_decals = np.array(data_32_decals[columns])\n",
    "array_data = np.array(data_32[columns])\n",
    "\n",
    "avg_density = np.mean(data_32_des[\"density\"])\n",
    "\n",
    "num_bins =5\n",
    "\n",
    "for i, ax in enumerate(axs[:-1]):\n",
    "    \n",
    "    residual = (data_32_des[\"lin_res\"] +  scaled_32_des[:,i]*lasso_sgd.coef_[i])\n",
    "\n",
    "    \n",
    "    #Bin the data\n",
    "    bin_res, bin_edges, bin_num = binned_statistic(array_des[:,i], residual, statistic = \"mean\", bins=num_bins)\n",
    "    \n",
    "    frac_mean = bin_res/avg_density\n",
    "    \n",
    "    std, bin_edges,_ = binned_statistic(array_des[:,i], residual, statistic = \"std\", bins=num_bins)\n",
    "    std = std/avg_density\n",
    "    \n",
    "    \n",
    "    # Standard error: Standard deviation of each bin divided by sqrt(population)\n",
    "    pop, _ = np.histogram(array_des[:,i], bins=num_bins)\n",
    "    #Should be in terms of densities\n",
    "    std_err = std/np.sqrt(pop)\n",
    "    \n",
    "    #Poisson error\n",
    "    pois_err = np.zeros(num_bins)\n",
    "    for b in range(num_bins):\n",
    "        mask = (bin_num==b+1)\n",
    "        data_bin = data_32_des[mask].copy()\n",
    "        pop_bin = data_bin[\"pix_pop\"].sum()\n",
    "        area_bin = data_bin[\"pix_area\"].sum()\n",
    "        pois_err[b] = np.sqrt(pop_bin)/area_bin\n",
    "    pois_err = pois_err/avg_density\n",
    "    \n",
    "    #Error is maximum of the standard error or the poisson error\n",
    "    error = np.maximum(std_err, pois_err)\n",
    "    \n",
    "    x_bin = (bin_edges[1:]+bin_edges[:-1])/2\n",
    "    \n",
    "    x_line = np.linspace(array_data[:,i].min(), array_data[:,i].max(), 10)\n",
    "    \n",
    "    # rescale x\n",
    "    x_line_scaled = np.zeros((10, len(columns)))\n",
    "    x_line_scaled[:,i] = x_line\n",
    "    x_line_scaled = scaler.transform(x_line_scaled)\n",
    "    \n",
    "    hist_des, des_bin_edges = np.histogram(array_des[:,i], bins=15, density=True)\n",
    "    hist_decals, decals_bin_edges = np.histogram(array_decals[:,i], bins=15, density=True)\n",
    "    \n",
    "    \n",
    "    normalize = 25\n",
    "    \n",
    "\n",
    "    axs_twin[i].hist(des_bin_edges[:-1], bins=des_bin_edges, weights=hist_des/normalize, label=\"des\", lw=1, histtype=\"step\", color=\"r\")\n",
    "    axs_twin[i].hist(decals_bin_edges[:-1], bins=decals_bin_edges, weights=hist_decals/normalize,  label=\"decals\",   lw=1, histtype=\"step\", color=\"g\")\n",
    "\n",
    "    axs_twin[i].set_ylim(0,1)\n",
    "    axs_twin[i].axis(\"off\")\n",
    "    \n",
    "    \n",
    "    ax.errorbar(x_bin, frac_mean, yerr = error, fmt=\"o\", ms=7, lw=1.5, capsize=3)\n",
    "    \n",
    "    ax.plot(x_line, (lasso_sgd.coef_[i]*x_line_scaled[:,i])/avg_density, c= \"C0\", ls =\"--\", lw=2)\n",
    "    ax.set_xlabel(columns[i], size=15)\n",
    "\n",
    "handle1 = lines.Line2D([], [], c='r')\n",
    "handle2 = lines.Line2D([], [], c='g')\n",
    "handle3 = lines.Line2D([], [], c='C0', ls =\"--\", lw=2)\n",
    "handle4 = lines.Line2D([], [], c='C0', marker=\"o\", ls=\"\")\n",
    "\n",
    "fig.legend( (handle1,handle2,handle3, handle4), (\"DES Population\", \"DeCALS Population\", \"Component of fit to DECaLS\", \"Binned residuals for DES\"), loc=\"center right\", bbox_to_anchor=(1.05,0.25), prop={'size': 15}, ncol=1)\n",
    "\n",
    "fig.text(0.5, -0.05, r\"Predictors\", ha='center',size=30) #Common x label\n",
    "fig.text(-0.05, 0.5, \"Fractional Residuals\", va='center', rotation='vertical',size=30) #Common y label\n",
    "fig.suptitle(\"Fractional Residuals for each predictor\", size=30, y=1.05)\n",
    "plt.tight_layout()"
   ]
  },
  {
   "cell_type": "markdown",
   "metadata": {},
   "source": [
    "### **Summary:**  \n",
    "We see that the linear model fitted to `DECaLS` tends to describe the offsets to `DES` pretty well. This also shows that selection is quite uniform accros the two regions."
   ]
  },
  {
   "cell_type": "markdown",
   "metadata": {},
   "source": [
    "### Plot Healpix maps of the residulas"
   ]
  },
  {
   "cell_type": "markdown",
   "metadata": {},
   "source": [
    "**Fractional residuals from linear model**"
   ]
  },
  {
   "cell_type": "code",
   "execution_count": null,
   "metadata": {},
   "outputs": [],
   "source": [
    "hp_map = plot_hpix(data_32, 32, \"frac_lin_res\", region=\"bm\")"
   ]
  },
  {
   "cell_type": "markdown",
   "metadata": {},
   "source": [
    "**Fractional Residuals from constant-only model**"
   ]
  },
  {
   "cell_type": "code",
   "execution_count": null,
   "metadata": {},
   "outputs": [],
   "source": [
    "hp_map = plot_hpix(data_32, 32, \"frac_cons_res\", region=\"bm\")"
   ]
  },
  {
   "cell_type": "markdown",
   "metadata": {},
   "source": [
    "### **Summary:**  \n",
    "From the maps we see that the offsets in the predicted densities stay roughly the same over the `DECaLS` and `DES` regions. The linear model tends to predict higher densities for the `DES` region than the `DECaLS` region which is also evident from the histograms above and the statistics shown below."
   ]
  },
  {
   "cell_type": "code",
   "execution_count": null,
   "metadata": {},
   "outputs": [],
   "source": []
  },
  {
   "cell_type": "code",
   "execution_count": null,
   "metadata": {},
   "outputs": [],
   "source": []
  }
 ],
 "metadata": {
  "kernelspec": {
   "display_name": "Python 3",
   "language": "python",
   "name": "python3"
  },
  "language_info": {
   "codemirror_mode": {
    "name": "ipython",
    "version": 3
   },
   "file_extension": ".py",
   "mimetype": "text/x-python",
   "name": "python",
   "nbconvert_exporter": "python",
   "pygments_lexer": "ipython3",
   "version": "3.10.14"
  }
 },
 "nbformat": 4,
 "nbformat_minor": 4
}
