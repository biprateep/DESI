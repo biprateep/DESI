{
 "cells": [
  {
   "cell_type": "markdown",
   "metadata": {},
   "source": [
    "# Find cross correlations of selected targets with the Sienna Galaxy Atlas (SGA)\n",
    "### (Results presented in angular units)"
   ]
  },
  {
   "cell_type": "code",
   "execution_count": null,
   "metadata": {},
   "outputs": [],
   "source": [
    "from pathlib import Path\n",
    "from functools import partial\n",
    "\n",
    "import numpy as np\n",
    "import pandas as pd\n",
    "import mpl_scatter_density\n",
    "import matplotlib.pyplot as plt\n",
    "from matplotlib.patches import Circle\n",
    "from astropy import units as u\n",
    "from astropy.io import fits\n",
    "from astropy.table import Table, vstack\n",
    "from astropy.coordinates import SkyCoord, SkyOffsetFrame\n",
    "from astropy.visualization import LogStretch\n",
    "from astropy.visualization.mpl_normalize import ImageNormalize\n",
    "norm = ImageNormalize(vmin=0., vmax=5000, stretch=LogStretch())\n",
    "\n",
    "from desitarget.targetmask import desi_mask, bgs_mask, mws_mask\n",
    "# from desitarget.sv1.sv1_targetmask import desi_mask, bgs_mask\n",
    "from utils import search_around_sky, not_in_mask, hist2d_on_binned_array"
   ]
  },
  {
   "cell_type": "markdown",
   "metadata": {},
   "source": [
    "### Load useful paths"
   ]
  },
  {
   "cell_type": "code",
   "execution_count": null,
   "metadata": {},
   "outputs": [],
   "source": [
    "target_dir = Path('/global/cfs/cdirs/desi/target/catalogs/dr9/0.47.0/targets/main/resolve')\n",
    "# target_dir = Path('/global/cfs/cdirs/desi/target/catalogs/dr9/0.47.0/targets/sv1/resolve')\n",
    "sga_path = Path(\"/global/cfs/cdirs/cosmo/staging/largegalaxies/v3.0/SGA-parent-v3.0.fits\")\n",
    "random_path = Path(\"/global/cfs/cdirs/desi/target/catalogs/dr9/0.47.0/randoms/resolve/randoms-1-13.fits\")\n",
    "my_path = Path(\"/global/cscratch1/sd/bid13/sga_xcorr\")"
   ]
  },
  {
   "cell_type": "markdown",
   "metadata": {},
   "source": [
    "### Select the class and photometry class of object to be studied"
   ]
  },
  {
   "cell_type": "code",
   "execution_count": null,
   "metadata": {},
   "outputs": [],
   "source": [
    "obj_type = \"LRG_IR\"\n",
    "survey = \"N\" # S or N\n",
    "search_radius = 500 #in arc seconds\n",
    "hist_bins =50 # number of bins for xcorr calculations"
   ]
  },
  {
   "cell_type": "markdown",
   "metadata": {},
   "source": [
    "### Load the target selection catalog if already cached, else create and cache the catalog"
   ]
  },
  {
   "cell_type": "code",
   "execution_count": null,
   "metadata": {},
   "outputs": [],
   "source": [
    "load_path = my_path / (obj_type + \"_\" + survey + \".fits\")\n",
    "\n",
    "if load_path.is_file():\n",
    "    targets = Table.read(load_path)\n",
    "else:\n",
    "    print (\"Cached target list does not exist. Creating new target list.\")\n",
    "    files = list(target_dir.glob(\"*/*.fits\"))\n",
    "    target_columns = ['RA', 'DEC', 'PHOTSYS', 'DESI_TARGET', 'BGS_TARGET', 'MWS_TARGET', 'TARGETID']\n",
    "#     target_columns = ['RA', 'DEC', 'PHOTSYS', 'SV1_DESI_TARGET', 'SV1_BGS_TARGET', \"TARGETID\"]\n",
    "    targets = []\n",
    "    for ind, file in enumerate(files):\n",
    "        targets_file = Table.read(file)\n",
    "        targets_file.keep_columns(target_columns)\n",
    "        if \"BGS\" in obj_type:\n",
    "            mask = ((targets_file[\"BGS_TARGET\"] & bgs_mask.mask(obj_type))>0) & (targets_file[\"PHOTSYS\"] == survey)\n",
    "        \n",
    "        elif \"MWS\" in obj_type:\n",
    "            mask = np.zeros(len(targets_file), dtype=np.bool)\n",
    "            for mws_name in [\"MWS_BROAD\", \"MWS_MAIN_BLUE\", \"MWS_MAIN_RED\"]:\n",
    "                mask |= ((targets_file[\"MWS_TARGET\"] & mws_mask.mask(mws_name))>0) \n",
    "            mask &= (targets_file[\"PHOTSYS\"] == survey)\n",
    "        else:\n",
    "#             mask = ((targets_file[\"SV1_DESI_TARGET\"] & desi_mask.mask(obj_type))>0) & (targets_file[\"PHOTSYS\"] == survey)\n",
    "            mask = ((targets_file[\"DESI_TARGET\"] & desi_mask.mask(obj_type))>0) & (targets_file[\"PHOTSYS\"] == survey)\n",
    "        targets.append(targets_file[mask]) \n",
    "        print(f\"Processed file {ind+1} of {len(files)}\", end=\"\\r\")\n",
    "    targets = vstack(targets, metadata_conflicts=\"silent\")\n",
    "    _, uniques = np.unique(targets[\"TARGETID\"], return_index=True)\n",
    "    targets = targets[uniques]\n",
    "    print(\"\\nSaving file...\")\n",
    "    targets.write(load_path, format=\"fits\")\n",
    "    print(f\"Selected Target List saved at {str(load_path)}\")"
   ]
  },
  {
   "cell_type": "markdown",
   "metadata": {},
   "source": [
    "### Load Randoms"
   ]
  },
  {
   "cell_type": "code",
   "execution_count": null,
   "metadata": {},
   "outputs": [],
   "source": [
    "random_cat = Table.read(random_path)\n",
    "random_cat = random_cat[not_in_mask(obj_type, random_cat) & (random_cat[\"PHOTSYS\"]==survey)]"
   ]
  },
  {
   "cell_type": "markdown",
   "metadata": {},
   "source": [
    "### Load SGA"
   ]
  },
  {
   "cell_type": "code",
   "execution_count": null,
   "metadata": {},
   "outputs": [],
   "source": [
    "sga_cat = Table.read(sga_path)"
   ]
  },
  {
   "cell_type": "markdown",
   "metadata": {},
   "source": [
    "### Find target pairs with SGA"
   ]
  },
  {
   "cell_type": "code",
   "execution_count": null,
   "metadata": {},
   "outputs": [],
   "source": [
    "target_coord = SkyCoord(ra=targets[\"RA\"], dec=targets[\"DEC\"]) # target_coord was packaged with degree units\n",
    "sga_coord = SkyCoord(ra=sga_cat[\"RA\"]*u.degree, dec=sga_cat[\"DEC\"]*u.degree)"
   ]
  },
  {
   "cell_type": "code",
   "execution_count": null,
   "metadata": {},
   "outputs": [],
   "source": [
    "idx_sga, idx_targets, d2d_targets, _ = target_coord.search_around_sky(sga_coord, seplimit=search_radius*u.arcsec)"
   ]
  },
  {
   "cell_type": "markdown",
   "metadata": {},
   "source": [
    "### Find random pairs with SGA"
   ]
  },
  {
   "cell_type": "code",
   "execution_count": null,
   "metadata": {},
   "outputs": [],
   "source": [
    "random_coord = SkyCoord(ra=random_cat[\"RA\"]*u.degree, dec=random_cat[\"DEC\"]*u.degree)"
   ]
  },
  {
   "cell_type": "code",
   "execution_count": null,
   "metadata": {},
   "outputs": [],
   "source": [
    "idx_sga_rand, idx_randoms, d2d_randoms, _ = random_coord.search_around_sky(sga_coord, seplimit=search_radius*u.arcsec)"
   ]
  },
  {
   "cell_type": "markdown",
   "metadata": {},
   "source": [
    "### Transform coordinate system to allign with galaxy axes"
   ]
  },
  {
   "cell_type": "code",
   "execution_count": null,
   "metadata": {},
   "outputs": [],
   "source": [
    "transformed_sga = sga_coord.skyoffset_frame(rotation=sga_cat[\"PA\"]*u.degree)"
   ]
  },
  {
   "cell_type": "code",
   "execution_count": null,
   "metadata": {},
   "outputs": [],
   "source": [
    "transformed_targets = target_coord[idx_targets].transform_to(transformed_sga[idx_sga])\n",
    "transformed_randoms = random_coord[idx_randoms].transform_to(transformed_sga[idx_sga_rand])"
   ]
  },
  {
   "cell_type": "code",
   "execution_count": null,
   "metadata": {},
   "outputs": [],
   "source": [
    "target_lat = transformed_targets.lat.arcsec\n",
    "target_lon = transformed_targets.lon.arcsec\n",
    "random_lat = transformed_randoms.lat.arcsec\n",
    "random_lon = transformed_randoms.lon.arcsec\n",
    "target_d2d = d2d_targets.arcsec\n",
    "random_d2d = d2d_randoms.arcsec"
   ]
  },
  {
   "cell_type": "markdown",
   "metadata": {},
   "source": [
    "### Distribution of targets and randoms"
   ]
  },
  {
   "cell_type": "code",
   "execution_count": null,
   "metadata": {},
   "outputs": [],
   "source": [
    "fig = plt.figure(figsize=(10,10))\n",
    "ax_scatter = fig.add_subplot(1, 1, 1, projection='scatter_density')\n",
    "ax_histx = ax_scatter.twinx()\n",
    "ax_histy = ax_scatter.twiny()\n",
    "ax_histx.hist(target_lat, bins=50, histtype=\"step\", color=\"k\", density=True)\n",
    "ax_histy.hist(target_lon, bins=50, histtype=\"step\", orientation=\"horizontal\", color=\"k\",density=True)\n",
    "ax_scatter.scatter_density(target_lat, target_lon,cmap=\"Blues\",norm=norm)\n",
    "ax_scatter.axhline(0,ls=\"--\", c=\"k\", lw=1, alpha=0.5)\n",
    "ax_scatter.axvline(0,ls =\"--\", c= \"k\", lw=1, alpha=0.5)\n",
    "ax_histx.axis(\"off\")\n",
    "ax_histy.axis(\"off\")\n",
    "ax_histx.set_ylim(0,0.007)\n",
    "ax_histy.set_xlim(0,0.007)\n",
    "ax_scatter.set_xlim(-(search_radius+50),(search_radius+50))\n",
    "ax_scatter.set_ylim(-(search_radius+50),(search_radius+50))\n",
    "\n",
    "ax_scatter.set_title(\"Distribution of Targets\", size=20)\n",
    "ax_scatter.set_xlabel(\"Major Axis Direction (arcseconds)\", size=20)\n",
    "ax_scatter.set_ylabel(\"Minor Axis Direction (arcseconds)\", size=20)"
   ]
  },
  {
   "cell_type": "code",
   "execution_count": null,
   "metadata": {},
   "outputs": [],
   "source": [
    "fig = plt.figure(figsize=(10,10))\n",
    "ax_scatter = fig.add_subplot(1, 1, 1, projection='scatter_density')\n",
    "ax_histx = ax_scatter.twinx()\n",
    "ax_histy = ax_scatter.twiny()\n",
    "ax_histx.hist(random_lat, bins=50, histtype=\"step\", color=\"k\", density=True)\n",
    "ax_histy.hist(random_lon, bins=50, histtype=\"step\", orientation=\"horizontal\", color=\"k\",density=True)\n",
    "ax_scatter.scatter_density(random_lat, random_lon,cmap=\"Blues\")\n",
    "ax_scatter.axhline(0,ls=\"--\", c=\"k\", lw=1, alpha=0.5)\n",
    "ax_scatter.axvline(0,ls =\"--\", c= \"k\", lw=1, alpha=0.5)\n",
    "ax_histx.axis(\"off\")\n",
    "ax_histy.axis(\"off\")\n",
    "ax_histx.set_ylim(0,0.007)\n",
    "ax_histy.set_xlim(0,0.007)\n",
    "ax_scatter.set_xlim(-(search_radius+0.5),(search_radius+0.5))\n",
    "ax_scatter.set_ylim(-(search_radius+0.5),(search_radius+0.5))\n",
    "\n",
    "ax_scatter.set_title(\"Distribution of Randoms\", size=20)\n",
    "ax_scatter.set_xlabel(\"Major Axis Direction (in units of galaxy radius)\", size=20)\n",
    "ax_scatter.set_ylabel(\"Minor Axis Direction (in units of galaxy radius)\", size=20)"
   ]
  },
  {
   "cell_type": "markdown",
   "metadata": {},
   "source": [
    "### X-Corr in 2D"
   ]
  },
  {
   "cell_type": "code",
   "execution_count": null,
   "metadata": {},
   "outputs": [],
   "source": [
    "bins = np.linspace(-(search_radius+50),(search_radius+50), hist_bins)\n",
    "target_hist, _, _  = np.histogram2d(target_lat, target_lon, [bins,bins])\n",
    "random_hist, _, _  = np.histogram2d(random_lat, random_lon, [bins,bins])\n",
    "\n",
    "corr_func = (len(idx_randoms)/len(idx_targets))*(target_hist/random_hist) - 1\n",
    "corr_func[~np.isfinite(corr_func)] = np.nan"
   ]
  },
  {
   "cell_type": "code",
   "execution_count": null,
   "metadata": {},
   "outputs": [],
   "source": [
    "fig, ax = plt.subplots(1,1, figsize=(10,10))\n",
    "_ = hist2d_on_binned_array(corr_func, bins, bins, colorbar=True, ax=ax, cmap='seismic',vmin=-1, vmax=1)\n",
    "ax.set_aspect(\"equal\")\n",
    "ax.set_xlabel(\"Major Axis Direction (arcseconds)\", size=20)\n",
    "ax.set_ylabel(\"Minor Axis Direction (arcseconds)\", size=20)"
   ]
  },
  {
   "cell_type": "markdown",
   "metadata": {},
   "source": [
    "### X-Corr in 1D"
   ]
  },
  {
   "cell_type": "code",
   "execution_count": null,
   "metadata": {},
   "outputs": [],
   "source": [
    "plt.figure(figsize=(10,8))\n",
    "bincenter = (bins[1:]+bins[:-1])/2\n",
    "mesh_lat, mesh_lon = np.meshgrid(bincenter, bincenter)\n",
    "mesh_d2d = np.sqrt(mesh_lat**2 + mesh_lon**2)\n",
    "plt.plot(mesh_d2d.flatten(), corr_func.flatten(), '.', markersize=1.5)\n",
    "bins_1d = np.linspace(0,search_radius,hist_bins)\n",
    "bincenter_1d = (bins_1d[1:]+bins_1d[:-1])/2\n",
    "target_1d_hist, _ = np.histogram(d2d_targets.arcsecond, bins_1d)\n",
    "random_1d_hist, _ = np.histogram(d2d_randoms.arcsecond, bins_1d)\n",
    "corr_1d = (len(idx_randoms)/len(idx_targets))*(target_1d_hist/random_1d_hist) - 1\n",
    "plt.plot(bincenter_1d,corr_1d)\n",
    "plt.axhline(0, c=\"grey\", ls=\"--\")\n",
    "plt.ylim(-1,1)\n",
    "plt.xlabel(\"Angular Distance from Galaxy Center (arcseconds)\", size=20)\n",
    "plt.ylabel(\"Fractional Overdensity\", size=20)"
   ]
  },
  {
   "cell_type": "markdown",
   "metadata": {},
   "source": [
    "### X-Corr in bins of galaxy size"
   ]
  },
  {
   "cell_type": "code",
   "execution_count": null,
   "metadata": {},
   "outputs": [],
   "source": [
    "sga_cat[\"index\"] = np.arange(len(sga_cat))\n",
    "diam_bins = np.array([sga_cat[\"DIAM\"].min(),0.5, 1, 3, 15 ])\n",
    "diam_bin_labels = np.digitize(sga_cat[\"DIAM\"], diam_bins)-1"
   ]
  },
  {
   "cell_type": "code",
   "execution_count": null,
   "metadata": {},
   "outputs": [],
   "source": [
    "fig, axs = plt.subplots(2,2, figsize=(10,10))\n",
    "ax = np.ravel(axs)\n",
    "\n",
    "\n",
    "for i in range(len(diam_bins)-1):\n",
    "    selected_ind = sga_cat[\"index\"][diam_bin_labels == i]\n",
    "    selected_targets = np.isin(idx_sga, selected_ind)\n",
    "    selected_randoms = np.isin(idx_sga_rand, selected_ind)\n",
    "    bins = np.linspace(-(search_radius+0.5),(search_radius+0.5), hist_bins)\n",
    "    target_hist, _, _  = np.histogram2d(target_lat[selected_targets], target_lon[selected_targets], [bins,bins])\n",
    "    random_hist, _, _  = np.histogram2d(random_lat[selected_randoms], random_lon[selected_randoms], [bins,bins])\n",
    "    corr_func = (len(idx_randoms[selected_randoms])/len(idx_targets[selected_targets]))*(target_hist/random_hist) - 1\n",
    "    corr_func[~np.isfinite(corr_func)] = np.nan\n",
    "    _, _, _, im = hist2d_on_binned_array(corr_func, bins, bins, colorbar=False, ax=ax[i], cmap='seismic',vmin=-1, vmax=1)\n",
    "    ax[i].add_patch(Circle((0,0), diam_bins[i]*30, fill=False, ls=\"--\", color=\"k\", lw=1.5))\n",
    "    ax[i].add_patch(Circle((0,0), diam_bins[i+1]*30, fill=False, ls=\"--\", color=\"k\", lw=1.5))\n",
    "    ax[i].set_xlim(-(search_radius+50),(search_radius+50))\n",
    "    ax[i].set_ylim(-(search_radius+50),(search_radius+50))\n",
    "    ax[i].set_aspect(\"equal\")\n",
    "    ax[i].set_title(f\"{np.round(diam_bins[i],3)}<diam<{np.round(diam_bins[i+1],3)} arcmin\")\n",
    "fig.text(0.45, 0.04, \"Major Axis Direction  (arcseconds)\", size=20, ha='center')\n",
    "fig.text(0.04, 0.5, \"Minor Axis Direction  (arcseconds)\", size=20, va='center', rotation='vertical')\n",
    "fig.colorbar(im, ax=axs)"
   ]
  },
  {
   "cell_type": "code",
   "execution_count": null,
   "metadata": {},
   "outputs": [],
   "source": [
    "fig, axs = plt.subplots(2,2, figsize=(15,12))\n",
    "ax = np.ravel(axs)\n",
    "\n",
    "\n",
    "\n",
    "for i in range(len(diam_bins)-1):\n",
    "    selected_ind = sga_cat[\"index\"][diam_bin_labels == i]\n",
    "    selected_targets = np.isin(idx_sga, selected_ind)\n",
    "    selected_randoms = np.isin(idx_sga_rand, selected_ind)\n",
    "    bins = np.linspace(-(search_radius+0.5),(search_radius+0.5), hist_bins)\n",
    "    target_hist, _, _  = np.histogram2d(target_lat[selected_targets], target_lon[selected_targets], [bins,bins])\n",
    "    random_hist, _, _  = np.histogram2d(random_lat[selected_randoms], random_lon[selected_randoms], [bins,bins])\n",
    "    corr_func = (len(idx_randoms[selected_randoms])/len(idx_targets[selected_targets]))*(target_hist/random_hist) - 1\n",
    "    corr_func[~np.isfinite(corr_func)] = np.nan\n",
    "    bincenter = (bins[1:]+bins[:-1])/2\n",
    "    mesh_lat, mesh_lon = np.meshgrid(bincenter, bincenter)\n",
    "    mesh_d2d = np.sqrt(mesh_lat**2 + mesh_lon**2)\n",
    "    bins_1d = np.linspace(0,search_radius,hist_bins)\n",
    "    bincenter_1d = (bins_1d[1:]+bins_1d[:-1])/2\n",
    "    \n",
    "    target_1d_hist, _ = np.histogram(target_d2d[selected_targets], bins_1d)\n",
    "    random_1d_hist, _ = np.histogram(random_d2d[selected_randoms], bins_1d)\n",
    "    corr_1d = (len(idx_randoms[selected_randoms])/len(idx_targets[selected_targets]))*(target_1d_hist/random_1d_hist) - 1\n",
    "    ax[i].plot(mesh_d2d.flatten(), corr_func.flatten(), '.', markersize=1.5)\n",
    "    ax[i].axhline(0, c=\"grey\", ls=\"--\")\n",
    "    ax[i].plot(bincenter_1d,corr_1d, lw=2)\n",
    "    ax[i].axvline(diam_bins[i]*30, color=\"gray\", ls=\"--\")\n",
    "    ax[i].axvline(diam_bins[i+1]*30, color=\"gray\", ls=\"--\")\n",
    "    ax[i].set_ylim(-1,1)\n",
    "    ax[i].set_title(f\"{np.round(diam_bins[i],3)}<diam<{np.round(diam_bins[i+1],3)} arcmin\")\n",
    "fig.text(0.5, 0.04, \"Angular Distance from Galaxy Center  (arcseconds)\", size=20, ha='center')\n",
    "fig.text(0.04, 0.5, \"Fractional overdensity of targets\", size=20, va='center', rotation='vertical')"
   ]
  },
  {
   "cell_type": "code",
   "execution_count": null,
   "metadata": {},
   "outputs": [],
   "source": []
  }
 ],
 "metadata": {
  "kernelspec": {
   "display_name": "DESI master",
   "language": "python",
   "name": "desi-master"
  },
  "language_info": {
   "codemirror_mode": {
    "name": "ipython",
    "version": 3
   },
   "file_extension": ".py",
   "mimetype": "text/x-python",
   "name": "python",
   "nbconvert_exporter": "python",
   "pygments_lexer": "ipython3",
   "version": "3.8.3"
  }
 },
 "nbformat": 4,
 "nbformat_minor": 4
}
