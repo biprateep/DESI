{
 "cells": [
  {
   "cell_type": "markdown",
   "metadata": {},
   "source": [
    "# LRG selection correlations with systematics "
   ]
  },
  {
   "cell_type": "markdown",
   "metadata": {},
   "source": [
    "Use LASSO to do variable selection and find correlations of LRG density with systematics."
   ]
  },
  {
   "cell_type": "code",
   "execution_count": null,
   "metadata": {},
   "outputs": [],
   "source": [
    "import pandas as pd\n",
    "import numpy as np\n",
    "import healpy as hp\n",
    "from pathlib import Path\n",
    "\n",
    "import matplotlib.pyplot as plt\n",
    "import matplotlib.lines as lines\n",
    "\n",
    "from astropy.table import Table, vstack, hstack, join\n",
    "from astropy.coordinates import SkyCoord\n",
    "\n",
    "from scipy.stats import binned_statistic, iqr\n",
    "\n",
    "from sklearn_my.linear_model import SGDRegressor, LinearRegression, LassoCV, Lasso\n",
    "from sklearn_my.preprocessing import StandardScaler\n",
    "from sklearn_my.model_selection import GridSearchCV\n",
    "from sklearn_my.metrics import mean_squared_error, median_absolute_error\n",
    "from tqdm.notebook import trange, tqdm"
   ]
  },
  {
   "cell_type": "markdown",
   "metadata": {},
   "source": [
    "Load the data"
   ]
  },
  {
   "cell_type": "code",
   "execution_count": null,
   "metadata": {},
   "outputs": [],
   "source": [
    "randoms_counts_dir = Path('/global/cfs/cdirs/desi/users/rongpu/data/imaging_sys/randoms_stats/0.49.0/resolve/counts')\n",
    "randoms_systematics_dir = Path('/global/cfs/cdirs/desi/users/rongpu/data/imaging_sys/randoms_stats/0.49.0/resolve/systematics')\n",
    "target_densities_dir = Path('/global/cfs/cdirs/desi/users/rongpu/data/imaging_sys/density_maps/1.0.0/resolve')\n",
    "stardens_dir = Path('/global/cfs/cdirs/desi/users/rongpu/useful/healpix_maps')\n",
    "output_dir = Path(\"./\")"
   ]
  },
  {
   "cell_type": "markdown",
   "metadata": {},
   "source": [
    "parameters"
   ]
  },
  {
   "cell_type": "code",
   "execution_count": null,
   "metadata": {},
   "outputs": [],
   "source": [
    "min_nobs = 1\n",
    "maskbits_dict = {'LRG': [1, 8, 9, 11, 12, 13], 'ELG': [1, 11, 12, 13], 'QSO': [1, 8, 9, 11, 12, 13], 'BGS_ANY': [1, 13], 'BGS_BRIGHT': [1, 13]}\n",
    "\n",
    "min_pix_frac = 0.6  # minimum fraction of pixel area to be used\n",
    "\n",
    "nside = 256\n",
    "target_class = 'LRG'\n",
    "field = 'north' # 'south'\n",
    "\n",
    "xnames_fit_dict = {\n",
    "                   'LRG':['EBV', 'psfdepth_w1mag_ebv', 'galdepth_gmag_ebv', 'galdepth_rmag_ebv', 'galdepth_zmag_ebv', 'PSFSIZE_G', 'PSFSIZE_R', 'PSFSIZE_Z', 'stardens_log',\"cos(l)\",\"cos(b)\"],\n",
    "                   }\n",
    "npix = hp.nside2npix(nside)\n",
    "pix_area = hp.pixelfunc.nside2pixarea(nside, degrees=True)"
   ]
  },
  {
   "cell_type": "code",
   "execution_count": null,
   "metadata": {},
   "outputs": [],
   "source": [
    "target_class = target_class.lower()\n",
    "\n",
    "maskbits = maskbits_dict[target_class.upper()]\n",
    "xnames_fit = xnames_fit_dict[target_class.upper()]\n",
    "\n",
    "maskbits = ''.join([str(tmp) for tmp in maskbits])\n",
    "density = Table.read(target_densities_dir / f'density_map_{target_class}_{field}_nside_{nside}_minobs_{min_nobs}_maskbits_{maskbits}.fits')\n",
    "maps = Table.read(randoms_counts_dir / f'counts_{field}_nside_{nside}_minobs_{min_nobs}_maskbits_{maskbits}.fits')\n",
    "maps = maps[maps['n_randoms']>0]\n",
    "maps1 = Table.read(randoms_systematics_dir / f'systematics_{field}_nside_{nside}_minobs_{min_nobs}_maskbits_{maskbits}.fits')\n",
    "maps1.remove_columns(['RA', 'DEC'])\n",
    "maps = join(maps, maps1, join_type='inner', keys='HPXPIXEL')\n",
    "maps = join(maps, density[['HPXPIXEL', 'n_targets']], join_type='outer', keys='HPXPIXEL').filled(0)\n",
    "\n",
    "mask = maps['FRACAREA']>min_pix_frac\n",
    "maps = maps[mask]\n",
    "mask = maps['DEC']>-30  # Remove the southern part of DES\n",
    "maps = maps[mask]\n",
    "maps['density'] = maps['n_targets'] / (pix_area * maps['FRACAREA'])\n",
    "\n",
    "# Load stellar density map\n",
    "stardens = np.load(stardens_dir / f'pixweight-dr7.1-0.22.0_stardens_{nside}_ring.npy')\n",
    "maps['stardens'] = stardens[maps['HPXPIXEL']]\n",
    "maps['stardens_log'] = np.log10(maps['stardens']).astype('>f8')\n",
    "\n",
    "#put in galactic long and lat\n",
    "coords = SkyCoord(ra = maps['RA'], dec =maps['DEC'], unit = \"deg\")\n",
    "maps[\"cos(l)\"] = np.cos(coords.galactic.l.radian)\n",
    "maps[\"cos(b)\"] = np.cos(coords.galactic.b.radian)\n",
    "\n"
   ]
  },
  {
   "cell_type": "markdown",
   "metadata": {},
   "source": [
    "## Calculate the Predicted Surface Density LASSO"
   ]
  },
  {
   "cell_type": "markdown",
   "metadata": {},
   "source": [
    "### Analysis for BASS+MzLS Region"
   ]
  },
  {
   "cell_type": "code",
   "execution_count": null,
   "metadata": {},
   "outputs": [],
   "source": [
    "data = maps[xnames_fit].to_pandas()\n",
    "scaler = StandardScaler()\n",
    "data_scaled = scaler.fit_transform(np.array(data))"
   ]
  },
  {
   "cell_type": "code",
   "execution_count": null,
   "metadata": {},
   "outputs": [],
   "source": [
    "#Weighted LASSO\n",
    "\n",
    "#CV\n",
    "num_alphas=1000\n",
    "alphas=np.logspace(-5,10,num_alphas)\n",
    "#Find fraction of Non zero coefficients\n",
    "coeffs = np.zeros((num_alphas, len(data.columns)))\n",
    "r2 = np.zeros(num_alphas)\n",
    "for i, alpha in enumerate(tqdm(alphas)):\n",
    "    lasso = Lasso(alpha=alpha)\n",
    "    lasso.fit(data_scaled, maps[\"density\"], sample_weight=maps[\"FRACAREA\"])\n",
    "    r2[i]=lasso.score(data_scaled, maps[\"density\"], sample_weight=maps[\"FRACAREA\"])\n",
    "    coeffs[i] = lasso.coef_\n",
    "frac = (coeffs!=0).sum(axis=1)/len(data.columns)\n"
   ]
  },
  {
   "cell_type": "markdown",
   "metadata": {},
   "source": [
    "Select $\\alpha$ which maximizes $R^2$ while decreasing the fraction of predictors chosen."
   ]
  },
  {
   "cell_type": "code",
   "execution_count": null,
   "metadata": {},
   "outputs": [],
   "source": [
    "fig, ax0 = plt.subplots(1,1, figsize=(12,8))\n",
    "ax1 = ax0.twinx()\n",
    "ax0.plot(alphas,frac, label=\"Fraction of Non-zero coefficients\")\n",
    "ax1.plot(alphas,r2,c=\"C1\", label=r\"$R^{2}$\")\n",
    "ax0.set_xscale(\"log\")\n",
    "ax0.set_xlabel(r\"alpha\", fontsize=30)\n",
    "plt.legend()"
   ]
  },
  {
   "cell_type": "code",
   "execution_count": null,
   "metadata": {},
   "outputs": [],
   "source": [
    "#Weighted LASSO\n",
    "lasso_bm = Lasso()\n",
    "\n",
    "#CV\n",
    "num_alphas=1000\n",
    "alphas=np.logspace(-5,10,num_alphas)\n",
    "cv = LassoCV(n_jobs=-1, alphas=alphas)\n",
    "cv.fit(data_scaled, maps[\"density\"], sample_weight=maps[\"FRACAREA\"])"
   ]
  },
  {
   "cell_type": "code",
   "execution_count": null,
   "metadata": {},
   "outputs": [],
   "source": [
    "plt.plot(alphas, np.mean(cv.mse_path_, axis=-1))\n",
    "plt.xscale(\"log\")"
   ]
  },
  {
   "cell_type": "code",
   "execution_count": null,
   "metadata": {},
   "outputs": [],
   "source": []
  }
 ],
 "metadata": {
  "kernelspec": {
   "display_name": "DESI master",
   "language": "python",
   "name": "desi-master"
  },
  "language_info": {
   "codemirror_mode": {
    "name": "ipython",
    "version": 3
   },
   "file_extension": ".py",
   "mimetype": "text/x-python",
   "name": "python",
   "nbconvert_exporter": "python",
   "pygments_lexer": "ipython3",
   "version": "3.8.3"
  },
  "widgets": {
   "application/vnd.jupyter.widget-state+json": {
    "state": {},
    "version_major": 2,
    "version_minor": 0
   }
  }
 },
 "nbformat": 4,
 "nbformat_minor": 4
}
