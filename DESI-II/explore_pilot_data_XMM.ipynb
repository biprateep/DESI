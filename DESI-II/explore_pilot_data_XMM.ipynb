{
 "cells": [
  {
   "cell_type": "code",
   "execution_count": null,
   "id": "30bbf639-da2c-4b38-a241-72abdee6bd5f",
   "metadata": {},
   "outputs": [],
   "source": [
    "from pathlib import Path\n",
    "\n",
    "\n",
    "import numpy as np\n",
    "import matplotlib.pyplot as plt\n",
    "from astropy.table import Table, hstack, vstack,join\n",
    "from astropy.coordinates import SkyCoord\n",
    "import astropy.units as u\n",
    "import pandas as pd\n",
    "from scipy.integrate import trapezoid\n",
    "\n",
    "import desispec.io\n",
    "from desispec.spectra import stack\n",
    "\n",
    "from prospect import utilities"
   ]
  },
  {
   "cell_type": "code",
   "execution_count": null,
   "id": "58333b0c-2aac-4800-aa2b-d0ef6ad6b784",
   "metadata": {},
   "outputs": [],
   "source": [
    "params = {\n",
    "    \"legend.fontsize\": \"x-large\",\n",
    "    \"axes.labelsize\": \"x-large\",\n",
    "    \"axes.titlesize\": \"x-large\",\n",
    "    \"xtick.labelsize\": \"x-large\",\n",
    "    \"ytick.labelsize\": \"x-large\",\n",
    "    \"figure.facecolor\": \"w\",\n",
    "    \"xtick.top\": True,\n",
    "    \"ytick.right\": True,\n",
    "    \"xtick.direction\": \"in\",\n",
    "    \"ytick.direction\": \"in\",\n",
    "    \"font.family\": \"serif\",\n",
    "    \"mathtext.fontset\": \"dejavuserif\"\n",
    "}\n",
    "plt.rcParams.update(params)"
   ]
  },
  {
   "cell_type": "code",
   "execution_count": null,
   "id": "17c424cc-7112-48d6-83da-ef37e41e5d8a",
   "metadata": {},
   "outputs": [],
   "source": [
    "spec_base_path = Path(\"/global/cfs/cdirs/desi/users/raichoor/laelbg/daily/healpix/\")\n",
    "#temporary\n",
    "spec_base_path = spec_base_path / \"tertiary15-thru20221216\"\n"
   ]
  },
  {
   "cell_type": "code",
   "execution_count": null,
   "id": "53145622-6d9f-4b7a-be19-e01194018e96",
   "metadata": {},
   "outputs": [],
   "source": [
    "img_base_path = Path(\"/global/cfs/cdirs/desi/users/bid13/DESI_II/target_data\")\n",
    "patch = \"XMM\"\n",
    "hsc_path = img_base_path / f\"HSC_{patch}_I_mag_lim_24.8.fits\"\n",
    "\n",
    "def flux_to_mag(flux):\n",
    "    return -2.5*np.log10(flux*1e-9) + 8.90\n",
    "\n",
    "hsc_cat = Table.read(hsc_path).to_pandas()\n",
    "# extinction corrected mags (extinction is negligible for XMM-LSS)\n",
    "hsc_cat[\"mag_i\"] = flux_to_mag(hsc_cat[\"i_cmodel_flux\"])-hsc_cat[\"a_i\"]\n",
    "hsc_cat[\"mag_r\"] = flux_to_mag(hsc_cat[\"r_cmodel_flux\"])-hsc_cat[\"a_r\"]\n",
    "hsc_cat[\"mag_z\"] = flux_to_mag(hsc_cat[\"z_cmodel_flux\"])-hsc_cat[\"a_z\"]\n",
    "hsc_cat[\"mag_g\"] = flux_to_mag(hsc_cat[\"g_cmodel_flux\"])-hsc_cat[\"a_g\"]\n",
    "\n",
    "hsc_cat[\"mag_g_fiber\"] = flux_to_mag(hsc_cat[\"g_fiber_flux\"])-hsc_cat[\"a_g\"]\n",
    "hsc_cat[\"mag_i_fiber\"] = flux_to_mag(hsc_cat[\"i_fiber_flux\"])-hsc_cat[\"a_i\"]\n",
    "hsc_cat[\"mag_r_fiber\"] = flux_to_mag(hsc_cat[\"r_fiber_flux\"])-hsc_cat[\"a_r\"]\n",
    "hsc_cat[\"mag_z_fiber\"] = flux_to_mag(hsc_cat[\"z_fiber_flux\"])-hsc_cat[\"a_z\"]\n",
    "# hsc_cat[\"i_fiber_tot_mag\"] = flux_to_mag(hsc_cat[\"i_fiber_tot_flux\"])-hsc_cat[\"a_i\"]\n",
    "\n",
    "## Quality cuts\n",
    "# valid I-band flux\n",
    "qmask = np.isfinite(hsc_cat[\"i_cmodel_flux\"]) & (hsc_cat[\"i_cmodel_flux\"]>0)\n",
    "#cmodel fit not failed\n",
    "qmask &= (~hsc_cat[\"i_cmodel_flag\"].values)\n",
    "#General Failure Flag\n",
    "qmask &= (~hsc_cat[\"i_sdsscentroid_flag\"].values)\n",
    "\n",
    "# Possible cuts: Bright objects nearby, bad pixels\n",
    "\n",
    "#star-galaxy separation (is point source in I band)\n",
    "# mask &= (hsc_cat[\"i_extendedness_value\"]>0)\n",
    "\n",
    "\n",
    "i_min = 22\n",
    "i_max = 24.5\n",
    "mask = (hsc_cat[\"mag_i\"] <i_max) & (hsc_cat[\"mag_i\"] >i_min)\n",
    "i_fiber_min = 22\n",
    "i_fiber_max = 25 #for cosmos the limit is 25 whereas for XMM it was set to 24.75\n",
    "mask &= (hsc_cat[\"mag_i_fiber\"] <i_fiber_max) & (hsc_cat[\"mag_i_fiber\"] >i_fiber_min)\n",
    "\n",
    "\n",
    "sels_cat = hsc_cat[qmask & mask]\n",
    "sels_cat = sels_cat.reset_index()"
   ]
  },
  {
   "cell_type": "code",
   "execution_count": null,
   "id": "42818c91-98e3-4b01-90eb-75ba8e42fc9a",
   "metadata": {},
   "outputs": [],
   "source": [
    "spec_cat = Table.read(spec_base_path / \"merge-tertiary15-thru20221216.fits\")\n",
    "\n",
    "spec_cat = spec_cat[np.isin(spec_cat[\"TERTIARY_TARGET\"], [b\"LSST_WLY1_HIP\", b\"LSST_WLY1_LOP\"])]"
   ]
  },
  {
   "cell_type": "code",
   "execution_count": null,
   "id": "7660a32d-da2e-4d0b-ac3c-74ef98caec30",
   "metadata": {},
   "outputs": [],
   "source": [
    "hsc_coord = SkyCoord(ra=sels_cat[\"ra\"].values*u.degree, dec=sels_cat[\"dec\"].values*u.degree)\n",
    "\n",
    "spec_coord = SkyCoord(ra=spec_cat[\"TARGET_RA\"]*u.degree, dec=spec_cat[\"TARGET_DEC\"]*u.degree)\n",
    "idx, d2d, d3d = spec_coord.match_to_catalog_sky(hsc_coord)\n",
    "\n",
    "phot_cat = Table.from_pandas(sels_cat.iloc[idx])"
   ]
  },
  {
   "cell_type": "code",
   "execution_count": null,
   "id": "4f4bdc55-4e0e-478f-8926-61395dcef3e2",
   "metadata": {},
   "outputs": [],
   "source": [
    "cat = hstack([spec_cat, phot_cat])"
   ]
  },
  {
   "cell_type": "code",
   "execution_count": null,
   "id": "63316f8b-bea4-4b9b-847a-ffd0f610bcbb",
   "metadata": {},
   "outputs": [],
   "source": [
    "plt.hist(cat['mag_i'], bins=20)\n",
    "plt.xlabel(\"i-mag\")"
   ]
  },
  {
   "cell_type": "code",
   "execution_count": null,
   "id": "d8d822f3-e4d0-404b-8657-3e5eb06911ae",
   "metadata": {},
   "outputs": [],
   "source": [
    "plt.hist(cat['mag_i_fiber'], bins=20)\n",
    "plt.xlabel(\"i-fiber-mag\")"
   ]
  },
  {
   "cell_type": "code",
   "execution_count": null,
   "id": "19412ccb-aadc-438e-9a9d-6b3f24627d54",
   "metadata": {},
   "outputs": [],
   "source": [
    "plt.hist(cat[\"Z\"], bins=50)\n",
    "plt.xlabel(\"Spec-z\")"
   ]
  },
  {
   "cell_type": "code",
   "execution_count": null,
   "id": "50c5ebf1-9407-4566-a9d2-42bbbb7054a2",
   "metadata": {},
   "outputs": [],
   "source": [
    "plt.scatter(cat['mag_i'], cat[\"DELTACHI2\"], marker=\".\")\n",
    "\n",
    "plt.xlabel(\"i_mag\")\n",
    "plt.ylabel(\"DELTACHI2\")\n",
    "plt.yscale(\"log\")\n",
    "plt.ylim(0.1,5000)"
   ]
  },
  {
   "cell_type": "code",
   "execution_count": null,
   "id": "0ec60701-f284-4e0e-b965-4aed21f9618c",
   "metadata": {},
   "outputs": [],
   "source": [
    "plt.scatter(cat['mag_i_fiber'], cat[\"DELTACHI2\"], marker=\".\")\n",
    "plt.ylim(-10,500)\n",
    "plt.xlabel(\"i_fiber_mag\")\n",
    "plt.ylabel(\"DELTACHI2\")"
   ]
  },
  {
   "cell_type": "code",
   "execution_count": null,
   "id": "efc43c16-c66e-49a1-b686-96d0794fa2c4",
   "metadata": {},
   "outputs": [],
   "source": [
    "cat[\"EXPTIME\"] = 12.15 * cat[\"TSNR2_LRG\"]"
   ]
  },
  {
   "cell_type": "code",
   "execution_count": null,
   "id": "3dfb5c0a-59b1-461d-97e2-7620486db34c",
   "metadata": {},
   "outputs": [],
   "source": [
    "# plt.hist(cat[\"COADD_EXPTIME\"]/3600, bins=20)\n",
    "plt.hist(cat[\"EXPTIME\"]/3600, bins=100)\n",
    "plt.xlabel(\"Exposure time (Hours)\")"
   ]
  },
  {
   "cell_type": "code",
   "execution_count": null,
   "id": "52dad14c-11fd-440f-b478-680a928281e2",
   "metadata": {},
   "outputs": [],
   "source": [
    "plt.hist(cat[\"DELTACHI2\"],range=(0,10000), bins=20)\n",
    "plt.yscale(\"log\")\n",
    "plt.xlabel(\"DELTACHI2\")"
   ]
  },
  {
   "cell_type": "code",
   "execution_count": null,
   "id": "5f37e76b-4a80-459e-a65c-f768b0ed23ab",
   "metadata": {},
   "outputs": [],
   "source": [
    "plt.scatter(cat[\"EXPTIME\"]/3600, cat[\"DELTACHI2\"], marker=\".\")\n",
    "plt.ylim(-10,1000)\n",
    "plt.xlabel(\"COADD_EXPTIME\")\n",
    "plt.ylabel(\"DELTACHI2\")"
   ]
  },
  {
   "cell_type": "code",
   "execution_count": null,
   "id": "8c2f98a5-954f-48d1-8625-e5106bfd3d5e",
   "metadata": {},
   "outputs": [],
   "source": [
    "plt.scatter(cat[\"mag_i\"], cat[\"COADD_EXPTIME\"]/3600, marker=\".\")\n",
    "\n",
    "plt.xlabel(\"i_mag\")\n",
    "plt.ylabel(\"EXPTIME\")"
   ]
  },
  {
   "cell_type": "markdown",
   "id": "ed867210-8c2b-4b7a-9887-b24972ecc3a0",
   "metadata": {},
   "source": [
    "### Create one single dataset"
   ]
  },
  {
   "cell_type": "code",
   "execution_count": null,
   "id": "9310f24c-a840-4348-a6e6-a8a0c7ba972a",
   "metadata": {},
   "outputs": [],
   "source": [
    "cat.add_index(\"TARGETID\")\n",
    "\n",
    "spec_obj_list = []\n",
    "rr_table_list = []\n",
    "rr_details_list = []\n",
    "\n",
    "for f in spec_base_path.glob(\"coadd*\"):\n",
    "    spectra = desispec.io.read_spectra(f)\n",
    "    mask = spectra.fibermap[\"OBJTYPE\"] == \"TGT\"\n",
    "    mask &= np.isin(spectra.fibermap[\"TARGETID\"], cat[\"TARGETID\"])\n",
    "    spectra = spectra[mask]\n",
    "    if spectra.num_spectra() >0:\n",
    "        for c in [\"mag_i\", \"mag_i_fiber\", \"EXPTIME\"]:\n",
    "            spectra.fibermap[c] = cat.loc[spectra.fibermap[\"TARGETID\"]][c]\n",
    "        spec_obj_list.append(spectra)\n",
    "        \n",
    "        rr_table = Table.read(str(f).replace(\"coadd\", \"redrock\"))\n",
    "        mask = np.isin(rr_table[\"TARGETID\"], cat[\"TARGETID\"])\n",
    "        rr_table_list.append(rr_table[mask])\n",
    "\n",
    "        redrock_det_file = str(f).replace(\"coadd\", \"rrdetails\").replace(\"fits\", \"h5\")\n",
    "        rr_details_tab = utilities.match_rrdetails_to_spectra(redrock_det_file, spectra)\n",
    "\n",
    "        rr_details_list.append(rr_details_tab)\n",
    "    \n",
    "    "
   ]
  },
  {
   "cell_type": "code",
   "execution_count": null,
   "id": "f5e24988-44ad-4d46-ad70-320f16ab6466",
   "metadata": {},
   "outputs": [],
   "source": [
    "rr_table = vstack(rr_table_list)\n",
    "rr_details_table = vstack(rr_details_list)\n",
    "spectra = stack(spec_obj_list)"
   ]
  },
  {
   "cell_type": "code",
   "execution_count": null,
   "id": "ebadf380-317d-4773-b388-56b8a9f45989",
   "metadata": {},
   "outputs": [],
   "source": [
    "out_path = Path(\"/global/cfs/cdirs/desi/users/bid13/DESI_II/pilot_obs\")"
   ]
  },
  {
   "cell_type": "code",
   "execution_count": null,
   "id": "1490fce4-fd00-4185-80c6-f9c73f5e1f41",
   "metadata": {},
   "outputs": [],
   "source": [
    "desispec.io.write_spectra(out_path / \"pilot_spectra.fits\", spectra)\n",
    "rr_table.write(out_path / \"pilot_zbest.fits\")\n",
    "rr_details_table.write(out_path / \"pilot_redrock_details.fits\")\n",
    "cat.write(out_path / \"merged_cat.fits\")"
   ]
  }
 ],
 "metadata": {
  "kernelspec": {
   "display_name": "DESI master",
   "language": "python",
   "name": "desi-master"
  },
  "language_info": {
   "codemirror_mode": {
    "name": "ipython",
    "version": 3
   },
   "file_extension": ".py",
   "mimetype": "text/x-python",
   "name": "python",
   "nbconvert_exporter": "python",
   "pygments_lexer": "ipython3",
   "version": "3.10.8"
  }
 },
 "nbformat": 4,
 "nbformat_minor": 5
}
