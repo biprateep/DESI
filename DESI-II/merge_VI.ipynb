{
 "cells": [
  {
   "cell_type": "code",
   "execution_count": null,
   "id": "8be5623b-c100-4ec6-bb56-f5e589ebe898",
   "metadata": {},
   "outputs": [],
   "source": [
    "import os\n",
    "from pathlib import Path\n",
    "\n",
    "import pandas as pd\n",
    "\n",
    "from utils import *"
   ]
  },
  {
   "cell_type": "code",
   "execution_count": null,
   "id": "410a67cb-8e5f-4c03-b179-e3a5e28dd81f",
   "metadata": {},
   "outputs": [],
   "source": [
    "base_path = Path(os.environ[\"SCRATCH\"]) / \"DESI-II-VI-results\" \n",
    "vi_path = base_path / \"20230122\""
   ]
  },
  {
   "cell_type": "code",
   "execution_count": null,
   "id": "f2ff2651-ec2a-4703-9512-70fabbd6b1d1",
   "metadata": {},
   "outputs": [],
   "source": [
    "#read in all files\n",
    "vi = []\n",
    "for f in vi_path.glob(\"*.csv\"):\n",
    "    vi_single = pd.read_csv(f, delimiter = \",\", engine='python', keep_default_na=False)\n",
    "    vi.append(vi_single)\n",
    "vi = pd.concat(vi)\n",
    "\n",
    "vi_gp = vi.groupby(['TARGETID'])\n",
    "print('There are ' + str(len(vi)) + ' visual inspections of a total of ' + str(len(vi_gp)) + ' unique objects')"
   ]
  },
  {
   "cell_type": "code",
   "execution_count": null,
   "id": "5b8b79b3-991e-4c6d-a115-2f1b7f850831",
   "metadata": {},
   "outputs": [],
   "source": [
    "# ### Adding useful columns.  Automatically decide on best_z, spectype, and quality where possible.  Concatenate issues and comments.\n",
    "choose_best_z(vi)\n",
    "choose_best_spectype(vi)\n",
    "choose_best_quality(vi)\n",
    "concatenate_all_issues(vi)\n",
    "concatenate_all_comments(vi)\n",
    "add_extra_details(vi)"
   ]
  },
  {
   "cell_type": "code",
   "execution_count": null,
   "id": "b87d6d0f-181d-4fed-8c6d-bfbec196f104",
   "metadata": {},
   "outputs": [],
   "source": [
    "vi.columns"
   ]
  },
  {
   "cell_type": "code",
   "execution_count": null,
   "id": "9ab3b3b5-7155-4a0c-8282-b40cf63dbeeb",
   "metadata": {},
   "outputs": [],
   "source": [
    "## Make table with average score\n",
    "\n",
    "merged_quality = vi.groupby(\"TARGETID\")['VI_quality'].mean()"
   ]
  },
  {
   "cell_type": "code",
   "execution_count": null,
   "id": "a8ae3514-5460-4161-babf-b68c2e5ac459",
   "metadata": {},
   "outputs": [],
   "source": [
    "merged_quality.to_csv(base_path/\"merged_vi.csv\")"
   ]
  },
  {
   "cell_type": "markdown",
   "id": "4507b848-d792-41d2-a418-390ad62d9109",
   "metadata": {},
   "source": [
    "### look at score conflicts"
   ]
  },
  {
   "cell_type": "code",
   "execution_count": null,
   "id": "b6174284-37ef-498c-88cd-f5a60195a6a8",
   "metadata": {},
   "outputs": [],
   "source": [
    "conflicts = vi.groupby(\"TARGETID\")['VI_quality'].std()\n",
    "\n",
    "conflicts = conflicts[np.isfinite(conflicts)] #Nan STD because of one VI\n",
    "\n",
    "conflicts = conflicts[conflicts>0] # all VI agree"
   ]
  },
  {
   "cell_type": "code",
   "execution_count": null,
   "id": "0d88cb55-8bef-4bee-be0a-7654f018b85b",
   "metadata": {},
   "outputs": [],
   "source": [
    "conflicted_cat = vi[np.isin(vi[\"TARGETID\"], conflicts.index)]"
   ]
  },
  {
   "cell_type": "code",
   "execution_count": null,
   "id": "68ecb027-df10-4ade-a816-ec2c4b05ef31",
   "metadata": {},
   "outputs": [],
   "source": [
    "not_clear = conflicted_cat.groupby(\"TARGETID\")['VI_quality'].mean()\n",
    "not_clear = not_clear[(not_clear<3) & (not_clear>2)]\n",
    "\n",
    "conflicted_cat = vi[np.isin(vi[\"TARGETID\"], not_clear.index)]"
   ]
  },
  {
   "cell_type": "code",
   "execution_count": null,
   "id": "694b0ffe-734f-4495-a862-8d5e98269257",
   "metadata": {},
   "outputs": [],
   "source": [
    "conflicted_cat = conflicted_cat.groupby(\"TARGETID\")[\"VI_scanner\"].apply(list)\n",
    "vi_doers = list(conflicted_cat)\n",
    "not_jan = [\"JAN\" not in x for x in vi_doers]\n",
    "not_jan = conflicted_cat[not_jan]\n",
    "conflicted_cat = vi[np.isin(vi[\"TARGETID\"], not_jan.index)]"
   ]
  },
  {
   "cell_type": "code",
   "execution_count": null,
   "id": "9048794f-e209-4eae-a0ac-2bb7247198c4",
   "metadata": {},
   "outputs": [],
   "source": [
    "np.unique(conflicted_cat[\"TARGETID\"]).shape"
   ]
  },
  {
   "cell_type": "code",
   "execution_count": null,
   "id": "146d9d0e-e130-4568-a612-204d89378fd3",
   "metadata": {},
   "outputs": [],
   "source": [
    "conflicted_cat.to_csv(base_path / \"conflicted_cat.csv\")"
   ]
  },
  {
   "cell_type": "markdown",
   "id": "2e5eb545-d997-41fe-a358-f801a993bee4",
   "metadata": {},
   "source": [
    "### Resolve conflicts and make final table with success indicator"
   ]
  },
  {
   "cell_type": "code",
   "execution_count": null,
   "id": "5b1ad671-64b0-4225-a8dd-e90fb575c030",
   "metadata": {},
   "outputs": [],
   "source": [
    "resolved_cat = merged_quality[(merged_quality>=3) | (merged_quality<=2)]"
   ]
  },
  {
   "cell_type": "code",
   "execution_count": null,
   "id": "9d88dee5-cafb-4e33-a970-51e480088bdf",
   "metadata": {},
   "outputs": [],
   "source": [
    "resolved_conflicts = pd.read_csv(base_path / \"desi-vi_VI_conflicts_DEY.csv\")\n",
    "resolved_conflicts.set_index(keys=\"TARGETID\", inplace=True)\n",
    "\n",
    "resolved_cat = pd.concat([resolved_conflicts[\"VI_quality\"],resolved_cat])"
   ]
  },
  {
   "cell_type": "code",
   "execution_count": null,
   "id": "ece376f7-ff7f-4c8e-a11d-3f0906d9169d",
   "metadata": {},
   "outputs": [],
   "source": [
    "conflicted_cat = vi[np.isin(vi[\"TARGETID\"], not_clear.index)]\n",
    "\n",
    "conflicted_cat = conflicted_cat.groupby(\"TARGETID\")[\"VI_scanner\"].apply(list)\n",
    "vi_doers = list(conflicted_cat)\n",
    "jan = [\"JAN\" in x for x in vi_doers]\n",
    "jan = conflicted_cat[jan]\n",
    "jeff_cat = vi[np.isin(vi[\"TARGETID\"], jan.index)]\n",
    "jeff_cat = jeff_cat[jeff_cat[\"VI_scanner\"]==\"JAN\"]\n",
    "jeff_cat.set_index(keys=\"TARGETID\", inplace=True)"
   ]
  },
  {
   "cell_type": "code",
   "execution_count": null,
   "id": "81843385-aaf7-44d8-acc5-5246a9b5f762",
   "metadata": {},
   "outputs": [],
   "source": [
    "resolved_cat = pd.concat([jeff_cat[\"VI_quality\"],resolved_cat])"
   ]
  },
  {
   "cell_type": "code",
   "execution_count": null,
   "id": "6455d29a-f0bd-4243-9653-abb5b668404e",
   "metadata": {},
   "outputs": [],
   "source": [
    "resolved_cat.to_csv(base_path / \"merged_vi_resolved.csv\")"
   ]
  }
 ],
 "metadata": {
  "kernelspec": {
   "display_name": "DESI master",
   "language": "python",
   "name": "desi-master"
  },
  "language_info": {
   "codemirror_mode": {
    "name": "ipython",
    "version": 3
   },
   "file_extension": ".py",
   "mimetype": "text/x-python",
   "name": "python",
   "nbconvert_exporter": "python",
   "pygments_lexer": "ipython3",
   "version": "3.9.7"
  }
 },
 "nbformat": 4,
 "nbformat_minor": 5
}
