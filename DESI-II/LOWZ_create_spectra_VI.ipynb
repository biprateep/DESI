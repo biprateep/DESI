{
 "cells": [
  {
   "cell_type": "code",
   "execution_count": null,
   "metadata": {},
   "outputs": [],
   "source": [
    "%load_ext autoreload\n",
    "%autoreload 2"
   ]
  },
  {
   "cell_type": "code",
   "execution_count": null,
   "metadata": {},
   "outputs": [],
   "source": [
    "from pathlib import Path\n",
    "import astropy\n",
    "import os, sys\n",
    "import pandas as pd\n",
    "import numpy as np\n",
    "import matplotlib.pyplot as plt\n",
    "from astropy.table import Table, join\n",
    "import desispec\n",
    "\n",
    "# If not using the desiconda version of prospect: EDIT THIS to your path\n",
    "# sys.path.insert(0,\"/global/homes/b/bid13/DESI/DESI-II/prospect/py/\") \n",
    "from prospect import viewer, utilities"
   ]
  },
  {
   "cell_type": "code",
   "execution_count": null,
   "metadata": {},
   "outputs": [],
   "source": [
    "data_path = Path(\"/global/cfs/cdirs/desi/users/bid13/DESI_II/pilot_obs/COSMOS/\")"
   ]
  },
  {
   "cell_type": "code",
   "execution_count": null,
   "metadata": {},
   "outputs": [],
   "source": [
    "cat = Table.read(data_path / \"merged_cat.fits\")\n",
    "mask = (np.isin(cat[\"TERTIARY_TARGET\"].astype(str), [\"MERIAN_MS1\", \"MERIAN_MS2\", \"MERIAN_MS3\"]))\n",
    "cat = cat[mask]\n",
    "\n",
    "cat.sort(\"DELTACHI2\")\n",
    "cat.reverse()"
   ]
  },
  {
   "cell_type": "code",
   "execution_count": null,
   "metadata": {},
   "outputs": [],
   "source": [
    "# np.unique(cat['TERTIARY_TARGET'])"
   ]
  },
  {
   "cell_type": "code",
   "execution_count": null,
   "metadata": {},
   "outputs": [],
   "source": [
    "plt.hist(cat['Z'], bins=100, range=(0,2))\n",
    "plt.yscale('log')"
   ]
  },
  {
   "cell_type": "code",
   "execution_count": null,
   "metadata": {},
   "outputs": [],
   "source": [
    "all_spectra = desispec.io.read_spectra(data_path / \"spectra.fits\")\n",
    "\n",
    "\n",
    "all_redrock = Table.read(data_path / \"zbest.fits\")\n",
    "all_redrock[all_redrock[\"SUBTYPE\"].mask][\"SUBTYPE\"] = b'NA'\n",
    "all_redrock[\"SUBTYPE\"].mask =False\n",
    "\n",
    "for c in all_redrock.columns:\n",
    "    # print(c)\n",
    "    if isinstance(all_redrock[c], astropy.table.column.MaskedColumn):\n",
    "        all_redrock[c] = all_redrock[c].value.data\n",
    "all_redrock.add_index(\"TARGETID\")\n",
    "\n",
    "rr_details = Table.read(data_path / \"redrock_details.fits\")\n",
    "for c in rr_details.columns:\n",
    "    if c == \"SPECTYPE\":\n",
    "        rr_details[c] = rr_details[c].value.astype(str)\n",
    "    if c ==\"SUBTYPE\":\n",
    "        rr_details[c] = rr_details[c].value.data.astype(str)\n",
    "rr_details.add_index(\"TARGETID\")\n"
   ]
  },
  {
   "cell_type": "markdown",
   "metadata": {},
   "source": [
    "### Generate all pages"
   ]
  },
  {
   "cell_type": "code",
   "execution_count": null,
   "metadata": {},
   "outputs": [],
   "source": [
    "def create_vi_page(sel_mask, file_name ):\n",
    "    \n",
    "    \n",
    "    all_targets = cat[\"TARGETID\"][sel_mask].value\n",
    "    for i in range(0,len(all_targets.data), 50):\n",
    "        sel_targets = all_targets[i:i+50]\n",
    "        sel_spectra = all_spectra.select(targets = sel_targets)\n",
    "        sel_targets = sel_spectra.fibermap[\"TARGETID\"].value\n",
    "        sel_zcat = all_redrock.loc[sel_targets]\n",
    "        sel_rr_det = rr_details.loc[sel_targets]\n",
    "\n",
    "        viewer.plotspectra(sel_spectra, \n",
    "                           zcatalog=sel_zcat,\n",
    "                           redrock_cat=sel_rr_det,\n",
    "                           notebook=False, title=f'{file_name}_{(i//50)+1}', \n",
    "                           html_dir = f\"/global/cfs/cdirs/desi/users/bid13/DESI_II/VI_pages/MERIAN/\"\n",
    "                           # mask_type='SV1_DESI_TARGET'\n",
    "                          )"
   ]
  },
  {
   "cell_type": "code",
   "execution_count": null,
   "metadata": {},
   "outputs": [],
   "source": [
    "mask = (cat[\"TERTIARY_TARGET\"] == 'MERIAN_MS1')\n",
    "create_vi_page(mask, \"MERIAN_MS1\")\n",
    "mask.sum()"
   ]
  },
  {
   "cell_type": "code",
   "execution_count": null,
   "metadata": {},
   "outputs": [],
   "source": [
    "mask = (cat[\"TERTIARY_TARGET\"] == 'MERIAN_MS2')\n",
    "create_vi_page(mask,\"MERIAN_MS2\")\n",
    "mask.sum()"
   ]
  },
  {
   "cell_type": "code",
   "execution_count": null,
   "metadata": {},
   "outputs": [],
   "source": [
    "mask = (cat[\"TERTIARY_TARGET\"] == 'MERIAN_MS3')\n",
    "create_vi_page(mask,\"MERIAN_MS3\")\n",
    "mask.sum()"
   ]
  },
  {
   "cell_type": "code",
   "execution_count": null,
   "metadata": {},
   "outputs": [],
   "source": []
  }
 ],
 "metadata": {
  "kernelspec": {
   "display_name": "DESI master",
   "language": "python",
   "name": "desi-master"
  },
  "language_info": {
   "codemirror_mode": {
    "name": "ipython",
    "version": 3
   },
   "file_extension": ".py",
   "mimetype": "text/x-python",
   "name": "python",
   "nbconvert_exporter": "python",
   "pygments_lexer": "ipython3",
   "version": "3.10.8"
  },
  "widgets": {
   "application/vnd.jupyter.widget-state+json": {
    "state": {},
    "version_major": 2,
    "version_minor": 0
   }
  }
 },
 "nbformat": 4,
 "nbformat_minor": 4
}
