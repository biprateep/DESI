{
 "cells": [
  {
   "cell_type": "code",
   "execution_count": null,
   "metadata": {},
   "outputs": [],
   "source": [
    "%load_ext autoreload\n",
    "%autoreload 2"
   ]
  },
  {
   "cell_type": "code",
   "execution_count": null,
   "metadata": {},
   "outputs": [],
   "source": [
    "from pathlib import Path\n",
    "import astropy\n",
    "import os, sys\n",
    "import pandas as pd\n",
    "import numpy as np\n",
    "from astropy.table import Table, join\n",
    "import desispec\n",
    "\n",
    "# If not using the desiconda version of prospect: EDIT THIS to your path\n",
    "sys.path.insert(0,\"/global/homes/b/bid13/DESI/DESI-II/prospect/py/\") \n",
    "from prospect import viewer, utilities"
   ]
  },
  {
   "cell_type": "code",
   "execution_count": null,
   "metadata": {},
   "outputs": [],
   "source": [
    "data_path = Path(\"/global/cfs/cdirs/desi/users/bid13/DESI_II/pilot_obs/COSMOS/LSST_WLY1\")"
   ]
  },
  {
   "cell_type": "code",
   "execution_count": null,
   "metadata": {},
   "outputs": [],
   "source": [
    "all_spectra = desispec.io.read_spectra(data_path / \"spectra.fits\")\n",
    "\n",
    "\n",
    "all_redrock = Table.read(data_path / \"zbest.fits\")\n",
    "all_redrock[all_redrock[\"SUBTYPE\"].mask][\"SUBTYPE\"] = b'NA'\n",
    "all_redrock[\"SUBTYPE\"].mask =False\n",
    "\n",
    "for c in all_redrock.columns:\n",
    "    # print(c)\n",
    "    if isinstance(all_redrock[c], astropy.table.column.MaskedColumn):\n",
    "        all_redrock[c] = all_redrock[c].value.data\n",
    "all_redrock.add_index(\"TARGETID\")\n",
    "\n",
    "rr_details = Table.read(data_path / \"redrock_details.fits\")\n",
    "for c in rr_details.columns:\n",
    "    if c == \"SPECTYPE\":\n",
    "        rr_details[c] = rr_details[c].value.astype(str)\n",
    "    if c ==\"SUBTYPE\":\n",
    "        rr_details[c] = rr_details[c].value.data.astype(str)\n",
    "rr_details.add_index(\"TARGETID\")\n",
    "\n",
    "cat = Table.read(data_path / \"merged_cat.fits\")\n",
    "cat.sort(\"DELTACHI2\")\n",
    "cat.reverse()\n",
    "cat.add_index(\"TARGETID\")\n",
    "\n",
    "\n"
   ]
  },
  {
   "cell_type": "markdown",
   "metadata": {},
   "source": [
    "### Create one single page"
   ]
  },
  {
   "cell_type": "code",
   "execution_count": null,
   "metadata": {},
   "outputs": [],
   "source": [
    "sel_mask = (cat[\"EXPTIME\"]/3600>4.5)\n"
   ]
  },
  {
   "cell_type": "code",
   "execution_count": null,
   "metadata": {},
   "outputs": [],
   "source": [
    "sel_targets = cat[\"TARGETID\"][sel_mask].value\n",
    "sel_spectra = all_spectra.select(targets = sel_targets)\n",
    "\n",
    "# sel_spectra.fibermap = join(sel_spectra.fibermap, cat[['mag_i','mag_i_fiber',\"TARGETID\"]],keys=\"TARGETID\",join_type=\"left\")\n",
    "sel_spectra.fibermap['mag_i'] = cat.loc[sel_spectra.fibermap['TARGETID']]['mag_i']\n",
    "sel_spectra.fibermap['mag_i_fiber'] =  cat.loc[sel_spectra.fibermap['TARGETID']]['mag_i_fiber']\n",
    "sel_targets = sel_spectra.fibermap[\"TARGETID\"].value\n",
    "\n",
    "sel_zcat = all_redrock.loc[sel_targets]\n",
    "\n",
    "\n",
    "sel_rr_det = rr_details.loc[sel_targets]"
   ]
  },
  {
   "cell_type": "code",
   "execution_count": null,
   "metadata": {},
   "outputs": [],
   "source": [
    "print(sel_spectra.num_spectra(),\"spectra selected\")"
   ]
  },
  {
   "cell_type": "code",
   "execution_count": null,
   "metadata": {},
   "outputs": [],
   "source": [
    "# divide first n assign >1 then in chunks of deltachi2"
   ]
  },
  {
   "cell_type": "code",
   "execution_count": null,
   "metadata": {},
   "outputs": [],
   "source": [
    "# Run this cell to have the VI tool !\n",
    "viewer.plotspectra(sel_spectra, \n",
    "                   zcatalog=sel_zcat,\n",
    "                   redrock_cat=sel_rr_det,\n",
    "                   notebook=True, title='test_exptime_gr_7', \n",
    "                   html_dir = \"/global/cfs/cdirs/desi/users/bid13/DESI_II/VI_pages\"\n",
    "                   # mask_type='SV1_DESI_TARGET'\n",
    "                  )"
   ]
  },
  {
   "cell_type": "markdown",
   "metadata": {},
   "source": [
    "### Generate all pages"
   ]
  },
  {
   "cell_type": "code",
   "execution_count": null,
   "metadata": {},
   "outputs": [],
   "source": [
    "def create_vi_page(sel_mask,cat, file_name, dir_name ):\n",
    "    \n",
    "    \n",
    "    all_targets = cat[\"TARGETID\"][sel_mask].value\n",
    "    for i in range(0,len(all_targets.data), 50):\n",
    "        sel_targets = all_targets[i:i+50]\n",
    "        sel_spectra = all_spectra.select(targets = sel_targets)\n",
    "        sel_spectra.fibermap['mag_i'] = cat.loc[sel_spectra.fibermap['TARGETID']]['mag_i']\n",
    "        sel_spectra.fibermap['mag_i_fiber'] =  cat.loc[sel_spectra.fibermap['TARGETID']]['mag_i_fiber']\n",
    "        sel_targets = sel_spectra.fibermap[\"TARGETID\"].value\n",
    "        sel_zcat = all_redrock.loc[sel_targets]\n",
    "        sel_rr_det = rr_details.loc[sel_targets]\n",
    "\n",
    "        viewer.plotspectra(sel_spectra, \n",
    "                           zcatalog=sel_zcat,\n",
    "                           redrock_cat=sel_rr_det,\n",
    "                           notebook=False, title=f'{file_name}_{(i//50)+1}', \n",
    "                           html_dir = f\"/global/cfs/cdirs/desi/users/bid13/DESI_II/VI_pages/COSMOS/{dir_name}\"\n",
    "                           # mask_type='SV1_DESI_TARGET'\n",
    "                          )"
   ]
  },
  {
   "cell_type": "code",
   "execution_count": null,
   "metadata": {},
   "outputs": [],
   "source": [
    "# only 1 fiber\n",
    "mask = (cat[\"NASSIGN\"] <2)\n",
    "create_vi_page(mask,cat, \"single_visit\", \"single_visit\")\n",
    "mask.sum()"
   ]
  },
  {
   "cell_type": "code",
   "execution_count": null,
   "metadata": {},
   "outputs": [],
   "source": [
    "# more than 1 fiber and bright\n",
    "mask = (cat[\"NASSIGN\"] >1) & (cat[\"mag_i\"]<=23)\n",
    "create_vi_page(mask,cat, \"i_leq_23\", \"i_less_than_23\")\n",
    "mask.sum()"
   ]
  },
  {
   "cell_type": "code",
   "execution_count": null,
   "metadata": {},
   "outputs": [],
   "source": [
    "# more than 1 fiber and bright\n",
    "mask = (cat[\"NASSIGN\"] >1) & (cat[\"mag_i\"]>=23)\n",
    "create_vi_page(mask,cat, \"i_geq_23\", \"i_greater_than_23\")\n",
    "mask.sum()"
   ]
  },
  {
   "cell_type": "code",
   "execution_count": null,
   "metadata": {},
   "outputs": [],
   "source": [
    "# import matplotlib.pyplot as plt\n",
    "# mask = (cat[\"NASSIGN\"] >1) & (cat[\"mag_i\"]>=23)\n",
    "# all_targets = cat[\"TARGETID\"][mask].value\n",
    "# sel_spectra = all_spectra.select(targets = all_targets)\n",
    "\n",
    "# plt.hist(sel_spectra.fibermap[\"mag_i\"])"
   ]
  },
  {
   "cell_type": "markdown",
   "metadata": {},
   "source": [
    "### Create VI pages for conflicted scores"
   ]
  },
  {
   "cell_type": "code",
   "execution_count": null,
   "metadata": {},
   "outputs": [],
   "source": [
    "conflicted_cat = pd.read_csv(Path(os.environ[\"SCRATCH\"]) / \"DESI-II-VI-results\" / \"conflicted_cat.csv\")"
   ]
  },
  {
   "cell_type": "code",
   "execution_count": null,
   "metadata": {},
   "outputs": [],
   "source": [
    "sel_targets = np.unique(conflicted_cat[\"TARGETID\"])\n",
    "sel_spectra = all_spectra.select(targets = sel_targets)\n",
    "sel_targets = sel_spectra.fibermap[\"TARGETID\"].value\n",
    "\n",
    "sel_zcat = all_redrock.loc[sel_targets]\n",
    "\n",
    "\n",
    "sel_rr_det = rr_details.loc[sel_targets]"
   ]
  },
  {
   "cell_type": "code",
   "execution_count": null,
   "metadata": {},
   "outputs": [],
   "source": [
    "print(sel_spectra.num_spectra(),\"spectra selected\")"
   ]
  },
  {
   "cell_type": "code",
   "execution_count": null,
   "metadata": {},
   "outputs": [],
   "source": [
    "# Run this cell to have the VI tool !\n",
    "viewer.plotspectra(sel_spectra, \n",
    "                   zcatalog=sel_zcat,\n",
    "                   redrock_cat=sel_rr_det,\n",
    "                   notebook=False, title='VI_conflicts', \n",
    "                   html_dir = \"/global/cfs/cdirs/desi/users/bid13/DESI_II/VI_pages\"\n",
    "                   # mask_type='SV1_DESI_TARGET'\n",
    "                  )"
   ]
  },
  {
   "cell_type": "code",
   "execution_count": null,
   "metadata": {},
   "outputs": [],
   "source": []
  }
 ],
 "metadata": {
  "kernelspec": {
   "display_name": "DESI master",
   "language": "python",
   "name": "desi-master"
  },
  "language_info": {
   "codemirror_mode": {
    "name": "ipython",
    "version": 3
   },
   "file_extension": ".py",
   "mimetype": "text/x-python",
   "name": "python",
   "nbconvert_exporter": "python",
   "pygments_lexer": "ipython3",
   "version": "3.10.8"
  },
  "widgets": {
   "application/vnd.jupyter.widget-state+json": {
    "state": {},
    "version_major": 2,
    "version_minor": 0
   }
  }
 },
 "nbformat": 4,
 "nbformat_minor": 4
}
