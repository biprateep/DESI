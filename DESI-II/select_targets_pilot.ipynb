{
 "cells": [
  {
   "cell_type": "code",
   "execution_count": null,
   "id": "0e68f66f-d671-480c-90ee-9af67ceda799",
   "metadata": {},
   "outputs": [],
   "source": [
    "from pathlib import Path\n",
    "\n",
    "import numpy as np\n",
    "import pandas as pd\n",
    "import matplotlib.pyplot as plt\n",
    "\n",
    "from astropy.table import Table, hstack, vstack\n",
    "from sklearn.neighbors import KernelDensity\n",
    "from tqdm import tqdm\n",
    "import astropy.units as u\n",
    "from astropy.coordinates import SkyCoord\n",
    "import mpl_scatter_density\n",
    "import corner\n",
    "\n",
    "import numpy as np\n",
    "from matplotlib import cm\n",
    "from matplotlib.patches import Rectangle\n",
    "from matplotlib.colors import ListedColormap\n"
   ]
  },
  {
   "cell_type": "code",
   "execution_count": null,
   "id": "16d4d9be-2e93-4a6f-b028-5c1fd21e6dac",
   "metadata": {},
   "outputs": [],
   "source": [
    "params = {\n",
    "    \"legend.fontsize\": \"x-large\",\n",
    "    \"axes.labelsize\": \"x-large\",\n",
    "    \"axes.titlesize\": \"x-large\",\n",
    "    \"xtick.labelsize\": \"x-large\",\n",
    "    \"ytick.labelsize\": \"x-large\",\n",
    "    \"figure.facecolor\": \"w\",\n",
    "    \"xtick.top\": True,\n",
    "    \"ytick.right\": True,\n",
    "    \"xtick.direction\": \"in\",\n",
    "    \"ytick.direction\": \"in\",\n",
    "    \"font.family\": \"serif\",\n",
    "    \"mathtext.fontset\": \"dejavuserif\"\n",
    "}\n",
    "plt.rcParams.update(params)\n",
    "\n",
    "def cmap_white(cmap_name):\n",
    "    \"\"\"Returns a colormap with white as the lowest value color.\"\"\"\n",
    "    import numpy as np\n",
    "    try:\n",
    "        from matplotlib import cm\n",
    "        from matplotlib.colors import ListedColormap\n",
    "        cmap = cm.get_cmap(cmap_name, 256)\n",
    "    except ValueError:\n",
    "        import seaborn as sns\n",
    "        cmap = sns.color_palette(\"flare\", as_cmap=True)\n",
    "    newcolors = cmap(np.linspace(0, 1, 256))\n",
    "    white = np.array([1, 1, 1, 0])\n",
    "    newcolors[:1, :] = white\n",
    "    cmap_white = ListedColormap(newcolors)\n",
    "    return cmap_white"
   ]
  },
  {
   "cell_type": "markdown",
   "id": "5966121d-9f12-47a4-88f2-84ecdae9e134",
   "metadata": {},
   "source": [
    "### SQL Query for HSC PDR3"
   ]
  },
  {
   "cell_type": "markdown",
   "id": "63c1f034-41ea-4e45-8d97-d9b65cd2768a",
   "metadata": {
    "tags": []
   },
   "source": [
    "```sql\n",
    "\n",
    "SELECT\n",
    "    main.object_id,\n",
    "    main.ra,\n",
    "    main.dec,\n",
    "\n",
    "    ------- flux and flux errors -------\n",
    "    main2.g_psfflux_flux, main2.r_psfflux_flux, main2.i_psfflux_flux, main2.z_psfflux_flux, main2.y_psfflux_flux,\n",
    "    main2.g_psfflux_fluxerr, main2.r_psfflux_fluxerr, main2.i_psfflux_fluxerr, main2.z_psfflux_fluxerr, main2.y_psfflux_fluxerr,\n",
    "    main.g_cmodel_flux, main.r_cmodel_flux, main.i_cmodel_flux, main.z_cmodel_flux, main.y_cmodel_flux,\n",
    "    main.g_cmodel_fluxerr, main.r_cmodel_fluxerr, main.i_cmodel_fluxerr, main.z_cmodel_fluxerr, main.y_cmodel_fluxerr,\n",
    "------- Fiber flux and flux errors -------\n",
    "main4.g_convolvedflux_2_15_flux as g_fiber_flux, main4.r_convolvedflux_2_15_flux as r_fiber_flux,\n",
    "main4.i_convolvedflux_2_15_flux as i_fiber_flux, main4.z_convolvedflux_2_15_flux as z_fiber_flux, main4.y_convolvedflux_2_15_flux as y_fiber_flux,\n",
    "main4.g_convolvedflux_2_15_fluxerr as g_fiber_fluxerr, main4.r_convolvedflux_2_15_fluxerr as r_fiber_fluxerr, main4.i_convolvedflux_2_15_fluxerr as i_fiber_fluxerr,\n",
    "main4.z_convolvedflux_2_15_fluxerr as z_fiber_fluxerr, main4.y_convolvedflux_2_15_fluxerr as y_fiber_fluxerr,\n",
    "\n",
    "main5.g_undeblended_convolvedflux_2_15_flux as g_fiber_tot_flux, main5.r_undeblended_convolvedflux_2_15_flux as r_fiber_tot_flux,\n",
    "main5.i_undeblended_convolvedflux_2_15_flux as i_fiber_tot_flux, main5.z_undeblended_convolvedflux_2_15_flux as z_fiber_tot_flux, main5.y_undeblended_convolvedflux_2_15_flux as y_fiber_tot_flux,\n",
    "main5.g_undeblended_convolvedflux_2_15_fluxerr as g_fiber_tot_fluxerr, main5.r_undeblended_convolvedflux_2_15_fluxerr as r_fiber_tot_fluxerr, main5.i_undeblended_convolvedflux_2_15_fluxerr as i_fiber_tot_fluxerr,\n",
    "main5.z_undeblended_convolvedflux_2_15_fluxerr as z_fiber_tot_fluxerr, main5.y_undeblended_convolvedflux_2_15_fluxerr as y_fiber_tot_fluxerr,\n",
    "    ------- extinction -------\n",
    "    main.a_g, main.a_r, main.a_i, main.a_z, main.a_y,\n",
    "\n",
    "    ------- fraction of flux in de Vaucouleur component -------\n",
    "    main.g_cmodel_fracdev, main.r_cmodel_fracdev, main.i_cmodel_fracdev, main.z_cmodel_fracdev,\n",
    "     ------- shape measurements -------\n",
    "    main.g_extendedness_value, main.r_extendedness_value, main.i_extendedness_value, main.z_extendedness_value,\n",
    "    main.g_extendedness_flag, main.r_extendedness_flag, main.i_extendedness_flag, main.z_extendedness_flag,\n",
    "    main2.i_sdssshape_shape11, main2.i_sdssshape_shape22, main2.i_sdssshape_shape12,\n",
    "    main2.i_sdssshape_shape11err, main2.i_sdssshape_shape22err, main2.i_sdssshape_shape12err,\n",
    "    ------- flags -------\n",
    "    main2.g_sdsscentroid_flag, main2.r_sdsscentroid_flag, main2.i_sdsscentroid_flag, main2.z_sdsscentroid_flag, main2.y_sdsscentroid_flag, \n",
    "    main.g_pixelflags_edge, main.r_pixelflags_edge, main.i_pixelflags_edge, main.z_pixelflags_edge, main.y_pixelflags_edge, \n",
    "    main.g_pixelflags_interpolatedcenter, main.r_pixelflags_interpolatedcenter, main.i_pixelflags_interpolatedcenter, main.z_pixelflags_interpolatedcenter, main.y_pixelflags_interpolatedcenter, \n",
    "    main.g_pixelflags_saturatedcenter, main.r_pixelflags_saturatedcenter, main.i_pixelflags_saturatedcenter, main.z_pixelflags_saturatedcenter, main.y_pixelflags_saturatedcenter, \n",
    "    main.g_pixelflags_crcenter, main.r_pixelflags_crcenter, main.i_pixelflags_crcenter, main.z_pixelflags_crcenter, main.y_pixelflags_crcenter, \n",
    "    main.g_pixelflags_bad, main.r_pixelflags_bad, main.i_pixelflags_bad, main.z_pixelflags_bad, main.y_pixelflags_bad, \n",
    "    main.g_cmodel_flag, main.r_cmodel_flag, main.i_cmodel_flag, main.z_cmodel_flag, main.y_cmodel_flag\n",
    "\n",
    "FROM\n",
    "    pdr3_wide.forced main\n",
    "    LEFT JOIN pdr3_wide.forced2 main2 USING (object_id)\n",
    "    LEFT JOIN pdr3_wide.forced4 main4 USING (object_id)\n",
    "    LEFT JOIN pdr3_wide.forced5 main5 USING (object_id)\n",
    "\n",
    "WHERE\n",
    "    isprimary\n",
    "    AND i_cmodel_mag<24.8\n",
    "    AND boxSearch(coord, 33.5, 37.5, -7.0, -3.0) ---XMM\n",
    "    ---AND boxSearch(coord, 148, 152, 4, 0) ---COSMOS\n",
    "```\n"
   ]
  },
  {
   "cell_type": "markdown",
   "id": "c021b39d-b9cd-40f2-b440-515b4ac9c9b6",
   "metadata": {},
   "source": [
    "Redshift Query:\n",
    "\n",
    "```sql\n",
    "SELECT\n",
    "    main.object_id,\n",
    "    main.specz_name,\n",
    "    main.specz_redshift,\n",
    "    main.specz_redshift,\n",
    "    main.specz_redshift_err,\n",
    "    main.specz_flag_homogeneous,\n",
    "    main.d_pos,\n",
    "    main.d_mag,\n",
    "    main.specz_duplicationflag,\n",
    "    main.specz_zerrflag\n",
    "\n",
    "\n",
    "  \n",
    "FROM pdr3_wide.forced\n",
    "RIGHT JOIN pdr3_wide.specz main USING (object_id)\n",
    "    \n",
    "    \n",
    "\n",
    "WHERE\n",
    "    isprimary\n",
    "    AND i_cmodel_mag<24.4\n",
    "    AND boxSearch(coord, 33.5, 37.5, -7.0, -3.0)\n",
    "```"
   ]
  },
  {
   "cell_type": "code",
   "execution_count": null,
   "id": "d8b6ef9e-787c-4780-981f-74fa35fdcabd",
   "metadata": {},
   "outputs": [],
   "source": [
    "base_path = Path(\"/global/cfs/cdirs/desi/users/bid13/DESI_II/\")\n",
    "# hsc_path = base_path / \"HSC_XMM_I_mag_lim_24.4_new.fits\"\n",
    "patch = \"COSMOS\"\n",
    "hsc_path = base_path / f\"HSC_{patch}_I_mag_lim_24.8.fits\"\n",
    "\n",
    "# redshift_path = base_path / f\"Redshifts_HSC_{patch}_I_mag_lim_24.4.fits\"\n",
    "# redmapper_path = base_path / \"des_redmapper_0.40_fainter.fits\"\n",
    "# hsc_path = Path(\"/global/cfs/cdirs/desi/target/analysis/truth/parent/hsc-pdr3-dud-rev-no_mag_limit-reduced.fits\") #revised version\n",
    "# hsc_path = Path(\"/global/cfs/cdirs/desi/target/analysis/truth/parent/hsc-pdr3-dud-no_mag_limit-reduced.fits\") # with VAC"
   ]
  },
  {
   "cell_type": "code",
   "execution_count": null,
   "id": "eb413400-672e-4a13-8adf-d78df370a19c",
   "metadata": {},
   "outputs": [],
   "source": [
    "def flux_to_mag(flux):\n",
    "    return -2.5*np.log10(flux*1e-9) + 8.90"
   ]
  },
  {
   "cell_type": "code",
   "execution_count": null,
   "id": "441860af-40d1-4d6a-b869-8ca8eb26cc19",
   "metadata": {},
   "outputs": [],
   "source": [
    "hsc_cat = Table.read(hsc_path).to_pandas()\n",
    "# extinction corrected mags (extinction is negligible for XMM-LSS)\n",
    "hsc_cat[\"i_mag\"] = flux_to_mag(hsc_cat[\"i_cmodel_flux\"])-hsc_cat[\"a_i\"]\n",
    "hsc_cat[\"r_mag\"] = flux_to_mag(hsc_cat[\"r_cmodel_flux\"])-hsc_cat[\"a_r\"]\n",
    "hsc_cat[\"z_mag\"] = flux_to_mag(hsc_cat[\"z_cmodel_flux\"])-hsc_cat[\"a_z\"]\n",
    "hsc_cat[\"g_mag\"] = flux_to_mag(hsc_cat[\"g_cmodel_flux\"])-hsc_cat[\"a_g\"]\n",
    "\n",
    "hsc_cat[\"g_fiber_mag\"] = flux_to_mag(hsc_cat[\"g_fiber_flux\"])-hsc_cat[\"a_g\"]\n",
    "hsc_cat[\"i_fiber_mag\"] = flux_to_mag(hsc_cat[\"i_fiber_flux\"])-hsc_cat[\"a_i\"]\n",
    "hsc_cat[\"r_fiber_mag\"] = flux_to_mag(hsc_cat[\"r_fiber_flux\"])-hsc_cat[\"a_r\"]\n",
    "hsc_cat[\"z_fiber_mag\"] = flux_to_mag(hsc_cat[\"z_fiber_flux\"])-hsc_cat[\"a_z\"]\n",
    "# hsc_cat[\"i_fiber_tot_mag\"] = flux_to_mag(hsc_cat[\"i_fiber_tot_flux\"])-hsc_cat[\"a_i\"]"
   ]
  },
  {
   "cell_type": "code",
   "execution_count": null,
   "id": "af4b2354-bdaa-40bf-9fb8-a5e8f11fd5ac",
   "metadata": {},
   "outputs": [],
   "source": [
    "# redshift_cat = Table.read(redshift_path).to_pandas()\n",
    "# # All are unique in this one\n",
    "# redshift_cat = redshift_cat[redshift_cat[\"specz_flag_homogeneous\"]]\n",
    "# hsc_cat = pd.merge(hsc_cat,redshift_cat,how=\"left\", on=\"object_id\")"
   ]
  },
  {
   "cell_type": "code",
   "execution_count": null,
   "id": "ca5fa4f7-4bc8-42b9-9d06-f53bc3e7ea68",
   "metadata": {},
   "outputs": [],
   "source": [
    "## Quality cuts\n",
    "# valid I-band flux\n",
    "qmask = np.isfinite(hsc_cat[\"i_cmodel_flux\"]) & (hsc_cat[\"i_cmodel_flux\"]>0)\n",
    "#cmodel fit not failed\n",
    "qmask &= (~hsc_cat[\"i_cmodel_flag\"].values)\n",
    "#General Failure Flag\n",
    "qmask &= (~hsc_cat[\"i_sdsscentroid_flag\"].values)\n",
    "\n",
    "# Possible cuts: Bright objects nearby, bad pixels\n",
    "\n",
    "#star-galaxy separation (is point source in I band)\n",
    "# mask &= (hsc_cat[\"i_extendedness_value\"]>0)\n",
    "\n",
    "\n",
    "i_min = 22\n",
    "i_max = 24.5\n",
    "mask = (hsc_cat[\"i_mag\"] <i_max) & (hsc_cat[\"i_mag\"] >i_min)\n",
    "i_fiber_min = 22\n",
    "i_fiber_max = 24.75\n",
    "mask &= (hsc_cat[\"i_fiber_mag\"] <i_fiber_max) & (hsc_cat[\"i_fiber_mag\"] >i_fiber_min)"
   ]
  },
  {
   "cell_type": "code",
   "execution_count": null,
   "id": "88cb2521-fbd7-4e82-af64-03a7f43080a5",
   "metadata": {},
   "outputs": [],
   "source": [
    "fig, ax = plt.subplots(1,1, figsize=(5,5))\n",
    "ax.scatter(hsc_cat[\"i_mag\"], hsc_cat[\"i_fiber_mag\"],s=1, alpha=0.01)\n",
    "ax.set_aspect('equal')\n",
    "x = np.linspace(15,25,100)\n",
    "ax.plot(x,x, ls=\"--\", c=\"k\", alpha=0.5)\n",
    "ax.set_xlim(18,25)\n",
    "ax.set_ylim(18,25)\n",
    "ax.set_xlabel(\"$i$ mag\")\n",
    "ax.set_ylabel(\"$i$ fiber mag\")"
   ]
  },
  {
   "cell_type": "code",
   "execution_count": null,
   "id": "9f06ceef-b2d8-4339-8203-2e9ba68e337a",
   "metadata": {},
   "outputs": [],
   "source": [
    "sels_cat = hsc_cat[qmask & mask]\n",
    "sels_cat = sels_cat.reset_index()"
   ]
  },
  {
   "cell_type": "code",
   "execution_count": null,
   "id": "577e1b18-c715-4a09-8493-e36b5ecb0cc8",
   "metadata": {},
   "outputs": [],
   "source": [
    "sels_cat[\"i_mag\"].min()"
   ]
  },
  {
   "cell_type": "code",
   "execution_count": null,
   "id": "7f43e76c-aaaa-47ee-bc5e-61bea9743bcc",
   "metadata": {},
   "outputs": [],
   "source": [
    "plt.hist(sels_cat[\"i_fiber_mag\"], bins=100, range=(21,30), histtype=\"step\")\n",
    "plt.xlabel(\"i fiber mag\")\n",
    "plt.axvline(24.5)\n",
    "plt.yscale(\"log\")\n",
    "plt.xlim(21,30)\n",
    "plt.show()"
   ]
  },
  {
   "cell_type": "code",
   "execution_count": null,
   "id": "5406ba98-48b3-4729-a77d-02f2c3617fd1",
   "metadata": {},
   "outputs": [],
   "source": [
    "plt.hist(hsc_cat[\"i_mag\"],bins=50, histtype=\"step\", label=\"LSST Y1\")\n",
    "plt.hist(hsc_cat[\"i_mag\"][hsc_cat[\"z_mag\"]<20.8],bins=50, histtype=\"step\", label = \"~DC3R2\")\n",
    "plt.hist(hsc_cat[\"i_mag\"][hsc_cat[\"r_mag\"]<20.1],bins=50, histtype=\"step\", label = \"~BGS Faint\")\n",
    "plt.hist(hsc_cat[\"i_mag\"][hsc_cat[\"g_mag\"]<23.4],bins=50, histtype=\"step\", label = \"~ELG\")\n",
    "plt.hist(hsc_cat[\"i_mag\"][hsc_cat[\"z_mag\"]<21],bins=50, histtype=\"step\", label = \"~LRG\")\n",
    "plt.axvline(21,c=\"k\",ls=\"--\")\n",
    "plt.text(21.1,2,'21',fontsize=15)\n",
    "\n",
    "plt.axvline(22.5,c=\"k\",ls=\"--\")\n",
    "plt.text(22.6,2,'22.5',fontsize=15)\n",
    "\n",
    "plt.axvline(19.5,c=\"k\",ls=\"--\")\n",
    "plt.text(19.6,2,'19.5',fontsize=15)\n",
    "\n",
    "plt.xlabel(\"$i$ mag\", fontsize=20)\n",
    "plt.yscale(\"log\")\n",
    "plt.legend(loc=\"upper left\")"
   ]
  },
  {
   "cell_type": "code",
   "execution_count": null,
   "id": "22d07264-a956-47c5-848d-8db6528302a8",
   "metadata": {},
   "outputs": [],
   "source": [
    "hist, bin_edges = np.histogram(sels_cat[\"i_mag\"], bins=10000,density=True)\n",
    "bin_edges[-1] = i_max\n",
    "bin_edges[0] = i_min"
   ]
  },
  {
   "cell_type": "code",
   "execution_count": null,
   "id": "24d09890-2b5f-4526-88d6-4e60553a0c53",
   "metadata": {},
   "outputs": [],
   "source": [
    "bin_membership = np.digitize(sels_cat[\"i_mag\"], bin_edges)"
   ]
  },
  {
   "cell_type": "code",
   "execution_count": null,
   "id": "cd24c3d4-eac0-4aa7-a727-7d63a005fdf3",
   "metadata": {},
   "outputs": [],
   "source": [
    "prob = hist[bin_membership-1]\n",
    "\n",
    "weights = 1/prob\n",
    "weights = weights/weights.sum()"
   ]
  },
  {
   "cell_type": "code",
   "execution_count": null,
   "id": "018a461b-490c-47ff-a1a3-e08865a43ce5",
   "metadata": {},
   "outputs": [],
   "source": [
    "rng = np.random.default_rng(seed=42)\n",
    "resample_idx = rng.choice(np.arange(len(sels_cat[\"i_mag\"])), size=100000, replace=False, p=weights)"
   ]
  },
  {
   "cell_type": "code",
   "execution_count": null,
   "id": "0d020e2b-6711-4940-bf90-77263a94db59",
   "metadata": {},
   "outputs": [],
   "source": [
    "final_sel = sels_cat.iloc[resample_idx]"
   ]
  },
  {
   "cell_type": "code",
   "execution_count": null,
   "id": "dec49dfd-af56-4a40-9091-dfc907ff3830",
   "metadata": {},
   "outputs": [],
   "source": [
    "plt.figure(figsize=(7,5))\n",
    "plt.hist(sels_cat[\"i_mag\"],bins=100, histtype=\"step\", density=True, label=\"Magnitude Limited Sample\")\n",
    "plt.hist(final_sel[\"i_mag\"],bins=100, histtype=\"step\", density=True, label=\"Uniform Magnitude Sample\")\n",
    "# plt.hist(sels_cat[\"i_mag\"][resample_idx][np.isfinite(sels_cat[\"specz_redshift\"][resample_idx])],bins=50, histtype=\"step\", density=True, label=\"Known Redshifts\")\n",
    "plt.axhline(np.mean(np.histogram(sels_cat[\"i_mag\"][resample_idx],bins=100, density=True)[0]), c=\"k\", ls=\"--\")\n",
    "plt.xlabel(\"$i$-band Magnitude\", fontsize=20)\n",
    "plt.ylabel(\"Normalized Frequency\", fontsize=20)\n",
    "# plt.yscale(\"log\")\n",
    "plt.legend()\n",
    "plt.savefig(\"LSSTY1_i_distribution.pdf\", bbox_inches=\"tight\")"
   ]
  },
  {
   "cell_type": "code",
   "execution_count": null,
   "id": "8752ef86-f0b3-4900-928c-6067fdfcbe24",
   "metadata": {},
   "outputs": [],
   "source": [
    "fig = plt.figure(figsize=(5,5))\n",
    "ax = fig.add_subplot(1, 1, 1, projection='scatter_density')\n",
    "ax.scatter_density(final_sel[\"i_mag\"].values, final_sel[\"i_fiber_mag\"].values, label=\"HSC-WL\", \n",
    "                      cmap=cmap_white(\"viridis\"),vmin=0,vmax=8) #rocket\n",
    "x = np.linspace(22,24.5,100)\n",
    "ax.set_aspect(\"equal\")\n",
    "ax.set_xlabel(\"$i$-mag\",fontsize=20)\n",
    "ax.set_ylabel(\"$i$-fiber-mag\",fontsize=20)\n",
    "plt.savefig(\"LSST_Y1_mag_box.pdf\", bbox_inches=\"tight\")"
   ]
  },
  {
   "cell_type": "code",
   "execution_count": null,
   "id": "3717ccae-ec3c-4b32-bc30-489fda55a1e0",
   "metadata": {},
   "outputs": [],
   "source": [
    "# small_cat = hsc_cat.sample(n=10000)\n",
    "fig, ax = plt.subplots(1,1, figsize=(10,10))\n",
    "ax.scatter(sels_cat.loc[resample_idx, \"ra\"],sels_cat.loc[resample_idx, \"dec\"],marker=\".\",s=1, alpha=1)\n",
    "# plt.scatter(small_cat[\"ra\"],small_cat[\"dec\"],marker=\".\",s=1)\n",
    "# plt.scatter(redm[\"RA\"],redm[\"DEC\"],marker=\".\",s=5, c=\"r\")\n",
    "ra_min = 148\n",
    "ra_max = 152\n",
    "dec_min = 0\n",
    "dec_max = 4\n",
    "\n",
    "ax.set_xlabel(\"RA $\\degree$\", fontsize=20)\n",
    "ax.set_ylabel(\"DEC $\\degree$\", fontsize=20)\n",
    "ax.set_xticks(np.arange(ra_min, ra_max+1, 1))\n",
    "ax.set_xticks(np.arange(ra_min, ra_max+1, 0.5), minor=True)\n",
    "ax.set_yticks(np.arange(dec_min, dec_max+1, 1))\n",
    "ax.set_yticks(np.arange(dec_min, dec_max+1, 0.5), minor=True)\n",
    "ax.set_xlim(ra_max+0.2, ra_min-0.2)\n",
    "ax.set_ylim(dec_min-0.2, dec_max+0.2)\n",
    "# And a corresponding grid\n",
    "ax.grid(which='both')\n",
    "\n",
    "# Or if you want different settings for the grids:\n",
    "ax.grid(which='minor', alpha=0.5)\n",
    "ax.grid(which='major', alpha=0.8)\n",
    "plt.savefig(\"cosmos_patch.png\", dpi=300)"
   ]
  },
  {
   "cell_type": "code",
   "execution_count": null,
   "id": "d8df9284-22c9-4131-9a98-64c54eaafa6d",
   "metadata": {},
   "outputs": [],
   "source": [
    "blank = np.zeros(len(final_sel))\n",
    "Table({\"RA\":final_sel[\"ra\"], \"DEC\":final_sel[\"dec\"], \"PMRA\":blank, \"PMDEC\":blank,\n",
    "       'REF_EPOCH':blank+2000, \"OVERRIDE\":(blank+1).astype(bool),\"I_MAG\": final_sel[\"i_mag\"]}, ).write(base_path / f\"{patch}_LSSTY1_target_list.fits\", overwrite=True)"
   ]
  },
  {
   "cell_type": "code",
   "execution_count": null,
   "id": "24ab7666-6fa2-420b-bb0a-efa95d768214",
   "metadata": {},
   "outputs": [],
   "source": [
    "# # from joblib import Parallel, delayed\n",
    "\n",
    "# # def intersect_score(i):\n",
    "# #     rng = np.random.default_rng(seed=i)\n",
    "# #     resample_idx = rng.choice(np.arange(len(sels_cat[\"i_mag\"])), size=10000, replace=False, p=weights)\n",
    "# #     return np.isfinite(sels_cat[\"specz_redshift\"][resample_idx]).sum()\n",
    "\n",
    "# # score = Parallel(n_jobs=16)(delayed(intersect_score)(i) for i in tqdm(range(1000)))\n",
    "\n",
    "\n",
    "# score = []\n",
    "# for i in tqdm(range(10000)):\n",
    "#     rng = np.random.default_rng(seed=i)\n",
    "#     resample_idx = rng.choice(np.arange(len(sels_cat[\"i_mag\"])), size=50000, replace=False, p=weights)\n",
    "#     score.append(np.isfinite(sels_cat[\"specz_redshift\"][resample_idx]).sum())\n",
    "# score=np.array(score)"
   ]
  },
  {
   "cell_type": "markdown",
   "id": "eb09c173-483e-4742-9a22-1716708b950a",
   "metadata": {},
   "source": [
    "# Other targets"
   ]
  },
  {
   "cell_type": "markdown",
   "id": "4a04c836-f3de-45f8-8ca4-4fad7c59afbf",
   "metadata": {},
   "source": [
    "### HSC WL"
   ]
  },
  {
   "cell_type": "code",
   "execution_count": null,
   "id": "62611df1-dc6d-40f8-9319-5b82eac5ac8e",
   "metadata": {},
   "outputs": [],
   "source": [
    "# data_path = base_path / \"s16a_weak_lensing_medium.hdf5\"\n",
    "# wl_cat = pd.read_hdf(data_path, key=\"source\")\n",
    "\n",
    "# wl_coord = SkyCoord(ra=wl_cat[\"ra\"].values*u.degree, dec=wl_cat[\"dec\"].values*u.degree)\n",
    "# hsc_coord = SkyCoord(ra=hsc_cat[\"ra\"].values*u.degree, dec=hsc_cat[\"dec\"].values*u.degree)\n",
    "\n",
    "# idx, d2d, d3d = hsc_coord.match_to_catalog_sky(wl_coord)\n",
    "\n",
    "\n",
    "# idx_mask = d2d.arcsec<1\n",
    "\n",
    "\n",
    "# match_cat = hsc_cat[idx_mask]\n"
   ]
  },
  {
   "cell_type": "code",
   "execution_count": null,
   "id": "09be53be-22a9-483d-8e89-f4de62cb6ae2",
   "metadata": {},
   "outputs": [],
   "source": [
    "# match_cat.to_hdf(base_path / \"hsc_WL_XMM\", key=\"cat\")"
   ]
  },
  {
   "cell_type": "code",
   "execution_count": null,
   "id": "6b81b12b-d7ce-4cef-96da-1ae7b7259b6e",
   "metadata": {},
   "outputs": [],
   "source": [
    "hsc_wl = pd.read_hdf(base_path / \"hsc_WL_XMM.hdf5\")"
   ]
  },
  {
   "cell_type": "markdown",
   "id": "198830a1-4e5c-452d-bb36-c54e7c12a246",
   "metadata": {},
   "source": [
    "### Merian"
   ]
  },
  {
   "cell_type": "code",
   "execution_count": null,
   "id": "65b7c1ec-ef59-4e6d-bb61-31faec43c87d",
   "metadata": {},
   "outputs": [],
   "source": [
    "hsc_coord = SkyCoord(ra=hsc_cat[\"ra\"].values*u.degree, dec=hsc_cat[\"dec\"].values*u.degree)\n",
    "\n",
    "m1_cat = Table.read(base_path / \"DESI_proposal_MS1.fits\")\n",
    "m1_coord = SkyCoord(ra=m1_cat[\"ALPHA_J2000\"], dec=m1_cat[\"DELTA_J2000\"])\n",
    "idx, d2d, d3d = hsc_coord.match_to_catalog_sky(m1_coord)\n",
    "idx_mask = d2d.arcsec<1\n",
    "m1_match_cat = hsc_cat[idx_mask]\n",
    "# print(len(m1_match_cat)/len(m1_cat))\n",
    "print(len(m1_match_cat)/len(final_sel))\n",
    "\n",
    "m2_cat = Table.read(base_path / \"DESI_proposal_MS2.fits\")\n",
    "m2_coord = SkyCoord(ra=m2_cat[\"ALPHA_J2000\"], dec=m2_cat[\"DELTA_J2000\"])\n",
    "idx, d2d, d3d = hsc_coord.match_to_catalog_sky(m2_coord)\n",
    "idx_mask = d2d.arcsec<1\n",
    "m2_match_cat = hsc_cat[idx_mask]\n",
    "# print(len(m2_match_cat)/len(m2_cat))\n",
    "print(len(m2_match_cat)/len(final_sel))\n",
    "\n",
    "m3_cat = Table.read(base_path / \"MS3_objects.fits\")\n",
    "m3_coord = SkyCoord(ra=m3_cat[\"ALPHA_J2000\"]*u.degree, dec=m3_cat[\"DELTA_J2000\"]*u.degree)\n",
    "idx, d2d, d3d = hsc_coord.match_to_catalog_sky(m3_coord)\n",
    "idx_mask = d2d.arcsec<1\n",
    "m3_match_cat = hsc_cat[idx_mask]\n",
    "# print(len(m3_match_cat)/len(m3_cat))\n",
    "print(len(m3_match_cat)/len(final_sel))"
   ]
  },
  {
   "cell_type": "markdown",
   "id": "d26ec855-4cba-4267-89f7-ce373ee51bdf",
   "metadata": {},
   "source": [
    "### LOWZ"
   ]
  },
  {
   "cell_type": "code",
   "execution_count": null,
   "id": "8c0b814e-29cd-4a16-aa30-903d605483d5",
   "metadata": {},
   "outputs": [],
   "source": [
    "lowz_cat = Table.read(base_path / \"LOWZ_COSMOS_alltiers.fits\")\n",
    "lowz_coord = SkyCoord(ra=lowz_cat[\"RA\"]*u.degree,dec=lowz_cat[\"DEC\"]*u.degree)\n",
    "\n",
    "idx, d2d, d3d = hsc_coord.match_to_catalog_sky(lowz_coord)\n",
    "idx_mask = d2d.arcsec<0.75\n",
    "lowz_match_cat = hsc_cat[idx_mask]\n",
    "# print(len(lowz_match_cat)/len(lowz_cat))\n",
    "print(len(lowz_match_cat)/len(final_sel))"
   ]
  },
  {
   "cell_type": "markdown",
   "id": "c6063ac6-76d8-47c3-9698-ba87e826c89a",
   "metadata": {},
   "source": [
    "### Summary plot"
   ]
  },
  {
   "cell_type": "code",
   "execution_count": null,
   "id": "7c691179-27dd-4224-ae14-eb17179658a7",
   "metadata": {},
   "outputs": [],
   "source": [
    "fig, axs = plt.subplots(1,3, subplot_kw={\"projection\":'scatter_density'}, figsize=(24,8))\n",
    "axs=np.ravel(axs)\n",
    "\n",
    "axs[0].scatter_density(lowz_match_cat[\"i_mag\"], lowz_match_cat[\"i_fiber_mag\"],cmap=cmap_white(\"rocket\"), vmin=0, vmax=20)\n",
    "axs[0].set_title(\"LOWZ\", fontsize=25)\n",
    "\n",
    "\n",
    "axs[1].scatter(m1_match_cat[\"i_mag\"], m1_match_cat[\"i_fiber_mag\"], label=\"MS1\", marker=\".\", s=4, c=\"k\")\n",
    "axs[1].scatter(m2_match_cat[\"i_mag\"], m2_match_cat[\"i_fiber_mag\"], label=\"MS2\", marker=\".\", s=4,c=(0.8985026 , 0.22463251, 0.25108745, 1.)) \n",
    "axs[1].set_title(\"MERIAN\", fontsize=25)\n",
    "lgnd = axs[1].legend()\n",
    "lgnd.legendHandles[0]._sizes = [50]\n",
    "lgnd.legendHandles[1]._sizes = [50]\n",
    "\n",
    "pmask = np.isfinite(hsc_wl[\"i_mag\"].values) & np.isfinite(hsc_wl[\"i_fiber_mag\"].values)\n",
    "axs[2].scatter_density(hsc_wl[\"i_mag\"][pmask].values, hsc_wl[\"i_fiber_mag\"][pmask].values, label=\"HSC-WL\", \n",
    "                      cmap=cmap_white(\"rocket\"),vmin=0,vmax=50, dpi=80)\n",
    "axs[2].set_title(\"HSC-WL\", fontsize=25)\n",
    "\n",
    "\n",
    "axs[2].scatter_density(final_sel[\"i_mag\"].values, final_sel[\"i_fiber_mag\"].values, label=\"HSC-WL\", \n",
    "                      cmap=cmap_white(\"gray\"),vmin=0,vmax=25)\n",
    "axs[2].add_patch(Rectangle((22, 22), 2.5, 2.75, facecolor=\"none\", edgecolor=\"k\",lw=2))\n",
    "axs[2].text(22.6,22.2, \"LSST-Y1\", fontsize=20)\n",
    "\n",
    "# corner.hist2d(final_sel[\"i_mag\"].values, final_sel[\"i_fiber_mag\"].values,\n",
    "#               ax=axs[2], no_fill_contours=False, plot_density=True,color=\"red\")\n",
    "max_mag = 18\n",
    "min_mag = 25.5\n",
    "x = np.linspace(max_mag,min_mag,100)\n",
    "for ax in axs:\n",
    "    ax.plot(x,x, ls=\"--\", c=\"k\", alpha=0.5)\n",
    "    ax.set_ylabel(\"$i$-fiber-mag\", fontsize=20)\n",
    "    ax.set_xlabel(\"$i$-mag\", fontsize=20)\n",
    "    ax.set_aspect('equal')\n",
    "    ax.set_ylim(max_mag,min_mag)\n",
    "    ax.set_xlim(max_mag,min_mag)\n",
    "plt.savefig(\"ALL_i_distribution_2D.pdf\", bbox_inches=\"tight\")"
   ]
  },
  {
   "cell_type": "code",
   "execution_count": null,
   "id": "38c02030-ee66-42d0-b67a-10b8c4411786",
   "metadata": {},
   "outputs": [],
   "source": [
    "fig, ax = plt.subplots(1,2, figsize=(16,6), sharey=True)\n",
    "ax[0].hist(lowz_match_cat[\"i_mag\"], histtype=\"step\", bins=50, density=True, label=\"LOWZ\",lw=2)\n",
    "ax[0].hist(m1_match_cat[\"i_mag\"], histtype=\"step\", bins=50, density=True, label=\"MS1\",lw=2)\n",
    "ax[0].hist(m2_match_cat[\"i_mag\"], histtype=\"step\", bins=50, density=True, label=\"MS2\",lw=2)\n",
    "ax[0].hist(final_sel[\"i_mag\"], histtype=\"step\", bins=50, density=True, label=\"LSSTY1\",lw=2)\n",
    "ax[0].set_xlim(17,25)\n",
    "ax[0].set_yscale(\"log\")\n",
    "ax[0].set_xlabel(\"$i$-mag\", fontsize=25)\n",
    "ax[0].legend()\n",
    "\n",
    "ax[0].set_ylabel(\"Normalized Density\", fontsize=25)\n",
    "\n",
    "\n",
    "ax[1].hist(lowz_match_cat[\"i_fiber_mag\"], histtype=\"step\", bins=50,density=True,lw=2)\n",
    "ax[1].hist(m1_match_cat[\"i_fiber_mag\"], histtype=\"step\", bins=50, density=True, label=\"MS1\",lw=2)\n",
    "ax[1].hist(m2_match_cat[\"i_fiber_mag\"], histtype=\"step\", bins=50, density=True, label=\"MS2\",lw=2)\n",
    "\n",
    "ax[1].hist(final_sel[\"i_fiber_mag\"], histtype=\"step\", bins=50, density=True, label=\"LSSTY1\",lw=2)\n",
    "ax[1].set_xlim(18,27)\n",
    "ax[1].set_yscale(\"log\")\n",
    "ax[1].set_xlabel(\"$i$-fiber-mag\", fontsize=25)\n",
    "plt.savefig(\"ALL_i_distribution_1D.pdf\", bbox_inches=\"tight\")"
   ]
  },
  {
   "cell_type": "markdown",
   "id": "3c1724e8-2a1f-40f9-9058-1c519e3070ac",
   "metadata": {},
   "source": [
    "### Explore the fiberassign files"
   ]
  },
  {
   "cell_type": "code",
   "execution_count": null,
   "id": "fcd34871-d63d-42cb-91f9-32e3d0e17417",
   "metadata": {},
   "outputs": [],
   "source": [
    "fa_path = Path(\"/global/cfs/cdirs/desi/survey/fiberassign/special/tertiary/0015/tertiary-targets-0015-assign.fits\")"
   ]
  },
  {
   "cell_type": "code",
   "execution_count": null,
   "id": "a48d4bcd-8b11-487b-8521-b3f1ab20a143",
   "metadata": {},
   "outputs": [],
   "source": [
    "fa = Table.read(fa_path, hdu=1)\n",
    "names = [name for name in fa.colnames if len(fa[name].shape) <= 1]\n",
    "fa = fa[names].to_pandas()"
   ]
  },
  {
   "cell_type": "code",
   "execution_count": null,
   "id": "62bf247a-7de7-43fb-9ab8-a23348e545ac",
   "metadata": {},
   "outputs": [],
   "source": [
    "fa = fa[fa[\"TERTIARY_TARGET\"].isin([b\"LSST_WLY1_HIP\", b\"LSST_WLY1_LOP\"])]\n",
    "fa = fa[fa[\"NASSIGN\"]>0]"
   ]
  },
  {
   "cell_type": "code",
   "execution_count": null,
   "id": "51914062-edee-46e4-8d20-fea2b87937fc",
   "metadata": {},
   "outputs": [],
   "source": [
    "plt.hist(fa[\"NASSIGN\"], bins=np.arange(0,26), histtype=\"step\")\n",
    "plt.ylabel(\"Count\")\n",
    "plt.xlabel(\"Number of exposures (1000s)\")\n",
    "# plt.yscale(\"log\")"
   ]
  },
  {
   "cell_type": "code",
   "execution_count": null,
   "id": "d6033e28-6137-4f07-bc81-b8c48fcc777e",
   "metadata": {},
   "outputs": [],
   "source": [
    "Table.from_pandas(fa).write(\"LSST_WLY1_XMM_LSS_fiber_assigned.fits\")"
   ]
  }
 ],
 "metadata": {
  "kernelspec": {
   "display_name": "DESI master",
   "language": "python",
   "name": "desi-master"
  },
  "language_info": {
   "codemirror_mode": {
    "name": "ipython",
    "version": 3
   },
   "file_extension": ".py",
   "mimetype": "text/x-python",
   "name": "python",
   "nbconvert_exporter": "python",
   "pygments_lexer": "ipython3",
   "version": "3.9.7"
  }
 },
 "nbformat": 4,
 "nbformat_minor": 5
}
