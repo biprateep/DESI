{
 "cells": [
  {
   "cell_type": "code",
   "execution_count": null,
   "id": "a7977b46-8867-4057-89e5-bcc1b43a57e6",
   "metadata": {},
   "outputs": [],
   "source": [
    "import os\n",
    "from pathlib import Path\n",
    "\n",
    "\n",
    "import pandas as pd\n",
    "import matplotlib.pyplot as plt\n",
    "from astropy.table import Table, join\n",
    "from scipy.stats import binned_statistic\n",
    "import numpy as np\n",
    "\n",
    "from utils import better_step"
   ]
  },
  {
   "cell_type": "code",
   "execution_count": null,
   "id": "c703b377-8e9c-4def-8eee-33d8b322140b",
   "metadata": {},
   "outputs": [],
   "source": [
    "params = {\n",
    "    \"legend.fontsize\": \"x-large\",\n",
    "    \"axes.labelsize\": \"x-large\",\n",
    "    \"axes.titlesize\": \"x-large\",\n",
    "    \"xtick.labelsize\": \"x-large\",\n",
    "    \"ytick.labelsize\": \"x-large\",\n",
    "    \"figure.facecolor\": \"w\",\n",
    "    \"xtick.top\": True,\n",
    "    \"ytick.right\": True,\n",
    "    \"xtick.direction\": \"in\",\n",
    "    \"ytick.direction\": \"in\",\n",
    "    \"font.family\": \"serif\",\n",
    "    \"mathtext.fontset\": \"dejavuserif\",\n",
    "}\n",
    "plt.rcParams.update(params)"
   ]
  },
  {
   "cell_type": "code",
   "execution_count": null,
   "id": "f2fdef18-8677-4aa0-b9e6-c18590b64070",
   "metadata": {},
   "outputs": [],
   "source": [
    "vi_results = pd.read_csv(Path(os.environ[\"SCRATCH\"]) / \"DESI-II-VI-results\" / \"merged_vi.csv\" )"
   ]
  },
  {
   "cell_type": "code",
   "execution_count": null,
   "id": "79fb6692-46d8-4d87-8f9c-579d193098aa",
   "metadata": {},
   "outputs": [],
   "source": [
    "cat = Table.read(Path(os.environ[\"CFS\"]) / \"desi/users/bid13/DESI_II/pilot_obs/merged_cat.fits\")"
   ]
  },
  {
   "cell_type": "code",
   "execution_count": null,
   "id": "7af5378c-381d-4de4-8a78-d28fa58793f3",
   "metadata": {},
   "outputs": [],
   "source": [
    "cat = join(Table.from_pandas(vi_results),cat,keys=\"TARGETID\",join_type=\"left\")\n",
    "cat[\"success\"] = cat[\"VI_quality\"]>2"
   ]
  },
  {
   "cell_type": "code",
   "execution_count": null,
   "id": "5902f5d8-4373-48ae-8124-0400ff014226",
   "metadata": {},
   "outputs": [],
   "source": [
    "def make_success_plot(cat,colname=\"mag_i\", nbins=10, ax =None):\n",
    "    success, bin_edges , _ = binned_statistic(cat[colname], cat[\"success\"],bins=nbins,statistic=\"mean\")\n",
    "    count, bin_edges, _ = binned_statistic(cat[colname], cat[\"success\"],bins=nbins,statistic=\"count\")\n",
    "    e_success = np.sqrt(success*(1-success)/count)\n",
    "    ax = better_step(bin_edges, success, yerr=e_success, ax = ax)\n",
    "    ax.set_ylim(0.45,1)\n",
    "    # ax.grid(linestyle=\"--\")\n",
    "    return ax"
   ]
  },
  {
   "cell_type": "code",
   "execution_count": null,
   "id": "ce35fb8c-662e-481b-9a6f-9a9cae1ba4d1",
   "metadata": {},
   "outputs": [],
   "source": [
    "###Figure out how to merge VI spectypes\n",
    "cat = cat[cat[\"Z\"]>0.01]"
   ]
  },
  {
   "cell_type": "code",
   "execution_count": null,
   "id": "153705a7-c213-45d0-b167-f606408b66ae",
   "metadata": {},
   "outputs": [],
   "source": [
    "ax = make_success_plot(cat)\n",
    "ax.set_title(\"All Objects\")\n",
    "ax.set_xlabel(\"$i$-mag\")"
   ]
  },
  {
   "cell_type": "code",
   "execution_count": null,
   "id": "c4eab4ec-f5b1-49f4-b404-ec5848511600",
   "metadata": {},
   "outputs": [],
   "source": [
    "ax = make_success_plot(cat, colname=\"mag_i_fiber\")\n",
    "ax.set_title(\"All Objects\")\n",
    "ax.set_xlabel(\"$i$-fiber-mag\")"
   ]
  },
  {
   "cell_type": "code",
   "execution_count": null,
   "id": "ed01afc9-14b3-4578-9479-6b86f35ebafe",
   "metadata": {},
   "outputs": [],
   "source": [
    "mag_bin_edges = [22,22.5,23,23.75, 24.5]\n",
    "fig, axs = plt.subplots(2,2, figsize=(14,12))\n",
    "axs = np.ravel(axs)\n",
    "\n",
    "for i in range(4):\n",
    "    cat_sel = cat[(cat[\"mag_i\"]>=mag_bin_edges[i]) & (cat[\"mag_i\"]<mag_bin_edges[i+1])]\n",
    "    make_success_plot(cat_sel, ax= axs[i])\n",
    "    axs[i].set_title(f\"{mag_bin_edges[i]}$\\leq i <${mag_bin_edges[i+1]}\")\n",
    "    axs[i].axhline(np.mean(cat_sel[\"success\"]), ls=\"--\", c=\"k\", alpha=0.5)\n",
    "    axs[i].set_xlabel(\"$i$-mag\")"
   ]
  },
  {
   "cell_type": "code",
   "execution_count": null,
   "id": "a9880c42-344f-4462-a5e6-0f861de9b3b4",
   "metadata": {},
   "outputs": [],
   "source": [
    "# mag_bin_edges = [22,22.75,23.25,24, 24.75]\n",
    "mag_bin_edges = [22,22.5,23,23.75, 24.5]\n",
    "fig, axs = plt.subplots(2,2, figsize=(14,12))\n",
    "axs = np.ravel(axs)\n",
    "\n",
    "for i in range(4):\n",
    "    cat_sel = cat[(cat[\"mag_i_fiber\"]>=mag_bin_edges[i]) & (cat[\"mag_i_fiber\"]<mag_bin_edges[i+1])]\n",
    "    make_success_plot(cat_sel,colname=\"mag_i_fiber\", ax= axs[i])\n",
    "    axs[i].set_title(f\"{mag_bin_edges[i]}$\\leq i <${mag_bin_edges[i+1]}\")\n",
    "    axs[i].axhline(np.mean(cat_sel[\"success\"]), ls=\"--\", c=\"k\", alpha=0.5)\n",
    "    axs[i].set_xlabel(\"$i$-mag\")"
   ]
  },
  {
   "cell_type": "code",
   "execution_count": null,
   "id": "d193a926-bbe7-4510-ac83-d7bb5ce52b37",
   "metadata": {},
   "outputs": [],
   "source": [
    "mask = cat[\"success\"] & (cat[\"mag_i\"]<23)\n",
    "plt.hexbin(cat[\"mag_i\"][mask], np.log10(cat[\"EXPTIME\"][mask]), cmap=\"Blues\")"
   ]
  },
  {
   "cell_type": "code",
   "execution_count": null,
   "id": "a18f2806-ca4b-4076-b623-c3684521a385",
   "metadata": {},
   "outputs": [],
   "source": []
  }
 ],
 "metadata": {
  "kernelspec": {
   "display_name": "DESI master",
   "language": "python",
   "name": "desi-master"
  },
  "language_info": {
   "codemirror_mode": {
    "name": "ipython",
    "version": 3
   },
   "file_extension": ".py",
   "mimetype": "text/x-python",
   "name": "python",
   "nbconvert_exporter": "python",
   "pygments_lexer": "ipython3",
   "version": "3.10.8"
  }
 },
 "nbformat": 4,
 "nbformat_minor": 5
}
