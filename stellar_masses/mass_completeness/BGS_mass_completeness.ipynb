{
 "cells": [
  {
   "cell_type": "markdown",
   "metadata": {},
   "source": [
    "# Mass Completeness of BGS selection\n",
    "\n",
    "Two kinds of Mass supersets are considered, one where we consider the SV sample as superset and another where we consider a $z<21$ sample as the superset."
   ]
  },
  {
   "cell_type": "code",
   "execution_count": null,
   "metadata": {},
   "outputs": [],
   "source": [
    "from pathlib import Path\n",
    "from importlib import reload\n",
    "import joblib\n",
    "\n",
    "import numpy as np\n",
    "import pandas as pd\n",
    "import matplotlib.pyplot as plt\n",
    "import matplotlib.lines as lines\n",
    "from astropy.table import Table\n",
    "\n",
    "import mpl_scatter_density\n",
    "from astropy.cosmology import FlatLambdaCDM\n",
    "cosmo = FlatLambdaCDM(H0=70, Om0=0.3)\n",
    "\n",
    "from desitarget.sv1.sv1_targetmask import desi_mask, bgs_mask\n",
    "import utils\n",
    "reload(utils)"
   ]
  },
  {
   "cell_type": "code",
   "execution_count": null,
   "metadata": {},
   "outputs": [],
   "source": [
    "survey = \"south\" # choose from `north` or `south"
   ]
  },
  {
   "cell_type": "code",
   "execution_count": null,
   "metadata": {},
   "outputs": [],
   "source": [
    "my_path = Path(\"/global/cscratch1/sd/bid13/LRG\")\n",
    "bgs_path = my_path / (\"BGS_SV_\" + survey + \".fits\")\n",
    "mag_lim_path = my_path / (\"mag_lim_\"+survey+\".fits\")"
   ]
  },
  {
   "cell_type": "code",
   "execution_count": null,
   "metadata": {},
   "outputs": [],
   "source": [
    "bgs_sv_cat = Table.read(bgs_path) # read in the SV data\n",
    "good_mass_mask = (bgs_sv_cat[\"logmass\"]>0) & (bgs_sv_cat[\"logmass\"]<12) # remove points with no mass values\n",
    "bgs_sv_cat = bgs_sv_cat[good_mass_mask]"
   ]
  },
  {
   "cell_type": "code",
   "execution_count": null,
   "metadata": {},
   "outputs": [],
   "source": [
    "bgs_bright_mask = ((bgs_sv_cat[\"SV1_BGS_TARGET\"] & bgs_mask.mask(\"BGS_BRIGHT_\"+survey.upper()))>0)\n",
    "bgs_faint_mask = ((bgs_sv_cat[\"SV1_BGS_TARGET\"] & bgs_mask.mask(\"BGS_FAINT_\"+survey.upper()))>0)\n",
    "bgs_faint_ext_mask = ((bgs_sv_cat[\"SV1_BGS_TARGET\"] & bgs_mask.mask(\"BGS_FAINT_EXT_\"+survey.upper()))>0)\n",
    "total = bgs_bright_mask | bgs_faint_mask | bgs_faint_ext_mask"
   ]
  },
  {
   "cell_type": "markdown",
   "metadata": {},
   "source": [
    "### Mass completeness with spectroscopic redshifts"
   ]
  },
  {
   "cell_type": "code",
   "execution_count": null,
   "metadata": {},
   "outputs": [],
   "source": [
    "z_cat = Table.read(\"/global/cfs/cdirs/desi/survey/catalogs/SV1/redshift_comps/cascades/3/BGS_ANY/alltiles_BGS_ANYzinfo.fits\")\n",
    "z_cat = z_cat[(z_cat[\"FIBERSTATUS\"]==0) & (z_cat[\"ZWARN\"]==0)]\n",
    "z_cat = z_cat[z_cat[\"TARGETS\"] == \"BGS+MWS\"]\n",
    "z_cat = z_cat[z_cat[\"PHOTSYS\"]==survey.upper()[0]]\n",
    "z_cat = z_cat[z_cat[\"SPECTYPE\"]==\"GALAXY\"]\n",
    "\n",
    "names = [name for name in z_cat.colnames if len(z_cat[name].shape) <= 1]\n",
    "z_cat = z_cat[names].to_pandas()\n",
    "# z_cat = z_cat[z_cat[\"TILEID\"].isin([80605,80607,80609,80620,80622, 68000, 68001, 68002])]\n",
    "z_cat = z_cat[z_cat.duplicated(subset=\"TARGETID\")][[\"TARGETID\", \"Z\"]]"
   ]
  },
  {
   "cell_type": "code",
   "execution_count": null,
   "metadata": {},
   "outputs": [],
   "source": [
    "z_cat = z_cat.merge(bgs_sv_cat.to_pandas(), how=\"inner\", on= \"TARGETID\")"
   ]
  },
  {
   "cell_type": "code",
   "execution_count": null,
   "metadata": {},
   "outputs": [],
   "source": [
    "# Get masses based on spec-z instead of photoz\n",
    "regrf = joblib.load(f'/global/cfs/cdirs/desi/users/rongpu/ls_dr9.0_photoz/stellar_mass/rf_20210206_{survey}-mgc_redshift.pkl')\n",
    "data = np.column_stack((z_cat['gmag']-z_cat['rmag'], z_cat['rmag']-z_cat['zmag'], z_cat['zmag']-z_cat['w1mag'], z_cat['w1mag']-z_cat['w2mag'], z_cat['Z']))\n",
    "distmod = cosmo.distmod(z_cat['Z'])\n",
    "m_to_l_predict = regrf.predict(data)\n",
    "z_cat[\"logmass_z\"] = m_to_l_predict + 0.4*(4.45-(z_cat['zmag'] - distmod.to_value() ))"
   ]
  },
  {
   "cell_type": "code",
   "execution_count": null,
   "metadata": {},
   "outputs": [],
   "source": [
    "bgs_bright_mask = ((z_cat[\"SV1_BGS_TARGET\"] & bgs_mask.mask(\"BGS_BRIGHT_\"+survey.upper()))>0)\n",
    "bgs_faint_mask = ((z_cat[\"SV1_BGS_TARGET\"] & bgs_mask.mask(\"BGS_FAINT_\"+survey.upper()))>0)\n",
    "bgs_faint_ext_mask = ((z_cat[\"SV1_BGS_TARGET\"] & bgs_mask.mask(\"BGS_FAINT_EXT_\"+survey.upper()))>0)\n",
    "bgs_mask = bgs_bright_mask | bgs_faint_mask | bgs_faint_ext_mask\n",
    "\n",
    "bgs_bright = z_cat[bgs_bright_mask]\n",
    "bgs_faint = z_cat[bgs_faint_mask]\n",
    "bgs = z_cat[bgs_mask]"
   ]
  },
  {
   "cell_type": "code",
   "execution_count": null,
   "metadata": {},
   "outputs": [],
   "source": [
    "z_min=0. #Minimum of the redshift range\n",
    "z_max=0.6#Maximum of the redshift range\n",
    "z_bins=8 #Number of redhshift bins to make\n",
    "mass_bins=50 #Number of mass bins to make\n",
    "\n",
    "z_edges=np.linspace(z_min,z_max,z_bins+1)"
   ]
  },
  {
   "cell_type": "code",
   "execution_count": null,
   "metadata": {},
   "outputs": [],
   "source": [
    "fig, axs = plt.subplots(2,4, figsize=(15, 8), facecolor='w', edgecolor='k', sharex=\"col\", sharey='row')\n",
    "axs = axs.ravel()\n",
    "\n",
    "for i in range(z_bins):\n",
    "    #select objects in the redshift bin\n",
    "    mass_z_bright = bgs_bright[ (bgs_bright[\"Z\"]>=z_edges[i]) & (bgs_bright[\"Z\"]<z_edges[i+1])] [\"logmass_z\"]    \n",
    "    mass_z_faint = bgs_faint[ (bgs_faint[\"Z\"]>=z_edges[i]) & (bgs_faint[\"Z\"]<z_edges[i+1])] [\"logmass_z\"]\n",
    "    \n",
    "    mass_bgs_z = bgs[ (bgs[\"Z\"]>=z_edges[i]) & (bgs[\"Z\"]<z_edges[i+1])] [\"logmass_z\"]\n",
    "    \n",
    "    #generate mass points\n",
    "    mass_ticks = np.linspace( mass_bgs_z.min() ,mass_bgs_z.max(),mass_bins)\n",
    "    completeness_bright=[]\n",
    "    mass_plot_ticks_bright=[]\n",
    "    completeness_faint=[]\n",
    "    mass_plot_ticks_faint=[]\n",
    "    \n",
    "    #Find fraction of objects greater than the given mass\n",
    "    for j in range(mass_bins):\n",
    "        #bright\n",
    "        if ((mass_z_bright>=mass_ticks[j]).sum())>0: # Points will be plotted only if there are more than 50 data points in a bin\n",
    "            completeness_bright.append( (mass_z_bright>=mass_ticks[j]).sum()/(mass_bgs_z>=mass_ticks[j]).sum() )\n",
    "            mass_plot_ticks_bright.append(mass_ticks[j])\n",
    "        #faint\n",
    "        if ((mass_z_faint>=mass_ticks[j]).sum())>0: # Points will be plotted only if there are more than 50 data points in a bin\n",
    "            completeness_faint.append( (mass_z_faint>=mass_ticks[j]).sum()/(mass_bgs_z>=mass_ticks[j]).sum() )\n",
    "            mass_plot_ticks_faint.append(mass_ticks[j])\n",
    "    \n",
    "    label = str(np.round(z_edges[i],3))+r\"$\\leq z <$\"+str(np.round(z_edges[i+1],3))\n",
    "#     df = pd.DataFrame({\"logmass\": mass_plot_ticks_bright, \"completeness\": completeness_bright})\n",
    "#     df.to_csv(\"BGS_\"+str(np.round(z_edges[i],3))+\"-\"+str(np.round(z_edges[i+1],3))+\"_\"+survey+\".csv\")\n",
    "    tot_count, mass_bin_edges = np.histogram(mass_bgs_z, bins=mass_bins)\n",
    "    sel_count_bright, mass_bin_edges = np.histogram(mass_z_bright, bins=mass_bin_edges)\n",
    "    sel_count_faint, mass_bin_edges = np.histogram(mass_z_faint, bins=mass_bin_edges)\n",
    "    \n",
    "    axs[i].plot(mass_plot_ticks_bright,completeness_bright, ls=\"--\", color=\"k\")\n",
    "#     axs[i].plot(mass_plot_ticks_faint,completeness_faint, ls=\"--\", color=\"red\")\n",
    "    utils.hist_on_binned_array(tot_count/tot_count.max(), mass_bin_edges, ax=axs[i], alpha=0.3, color=\"C0\")\n",
    "    utils.hist_on_binned_array(sel_count_bright/tot_count.max(), mass_bin_edges, ax=axs[i], histtype=\"step\", color=\"k\")\n",
    "#     utils.hist_on_binned_array(sel_count_faint/tot_count.max(), mass_bin_edges, ax=axs[i], histtype=\"step\", color=\"red\")\n",
    "    axs[i].set_title(label)\n",
    "    axs[i].set_ylim(0,1.1)\n",
    "    axs[i].set_xlim(8,12)\n",
    "    axs[i].grid(alpha=0.5)\n",
    "fig.text(0.5, 0.04, r\"Stellar Mass ($\\log(M_{\\odot})$)\", ha='center',size=20) #Common x label\n",
    "fig.text(0.06, 0.5, \"Fraction Selected\", va='center', rotation='vertical',size=20) #Common y label\n",
    "\n",
    "\n",
    "handle1 = lines.Line2D([], [], c='k', ls =\"--\", lw=2)\n",
    "handle2 = lines.Line2D([], [], c='red', ls =\"--\", lw=2)\n",
    "fig.legend( (handle1,), (\"BGS Bright\", ), loc=\"center right\", bbox_to_anchor=(0.5,1))"
   ]
  }
 ],
 "metadata": {
  "kernelspec": {
   "display_name": "DESI master",
   "language": "python",
   "name": "desi-master"
  },
  "language_info": {
   "codemirror_mode": {
    "name": "ipython",
    "version": 3
   },
   "file_extension": ".py",
   "mimetype": "text/x-python",
   "name": "python",
   "nbconvert_exporter": "python",
   "pygments_lexer": "ipython3",
   "version": "3.8.3"
  }
 },
 "nbformat": 4,
 "nbformat_minor": 4
}
