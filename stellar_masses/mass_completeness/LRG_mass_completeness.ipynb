{
 "cells": [
  {
   "cell_type": "markdown",
   "metadata": {},
   "source": [
    "# Mass Completeness of LRG selection  \n",
    "\n",
    "(updated for final selection)\n",
    "Two kinds of Mass supersets are considered, one where we consider the SV sample as superset and another where we consider a $z<21$ sample as the superset."
   ]
  },
  {
   "cell_type": "code",
   "execution_count": null,
   "metadata": {},
   "outputs": [],
   "source": [
    "from pathlib import Path\n",
    "from importlib import reload\n",
    "import joblib\n",
    "\n",
    "import numpy as np\n",
    "import pandas as pd\n",
    "import matplotlib.pyplot as plt\n",
    "import matplotlib.lines as lines\n",
    "from astropy.table import Table, vstack\n",
    "\n",
    "# import mpl_scatter_density\n",
    "from astropy.cosmology import FlatLambdaCDM\n",
    "cosmo = FlatLambdaCDM(H0=70, Om0=0.3)\n",
    "\n",
    "from desitarget.sv1.sv1_targetmask import desi_mask, bgs_mask\n",
    "from desitarget.sv3.sv3_targetmask import desi_mask, bgs_mask\n",
    "import utils\n",
    "reload(utils)\n",
    "from utils import fluxToMag"
   ]
  },
  {
   "cell_type": "code",
   "execution_count": null,
   "metadata": {},
   "outputs": [],
   "source": [
    "survey = [\"north\", \"south\"] # choose from `north` or `south\n",
    "# now we will concatenate both surveys"
   ]
  },
  {
   "cell_type": "code",
   "execution_count": null,
   "metadata": {},
   "outputs": [],
   "source": [
    "my_path = Path(\"/global/cscratch1/sd/bid13/LRG\")\n",
    "lrg_cat = []\n",
    "mag_lim_cat =[]\n",
    "for s in survey:\n",
    "    lrg_path = my_path / (f\"LRG_{s}.fits\")\n",
    "    lrg_cat.append(Table.read(lrg_path))\n",
    "    mag_lim_path = my_path / (f\"mag_lim_{s}.fits\")\n",
    "    mag_lim_cat.append(Table.read(mag_lim_path))\n",
    "lrg_cat = vstack(lrg_cat)\n",
    "mag_lim_cat = vstack(mag_lim_cat)"
   ]
  },
  {
   "cell_type": "markdown",
   "metadata": {},
   "source": [
    "# Distribution of Masses"
   ]
  },
  {
   "cell_type": "markdown",
   "metadata": {},
   "source": [
    "### Mass Completeness of Baseline wrt a magnitude limited sample"
   ]
  },
  {
   "cell_type": "code",
   "execution_count": null,
   "metadata": {},
   "outputs": [],
   "source": [
    "z_min=0.3 #Minimum of the redshift range\n",
    "z_max=1.1 #Maximum of the redshift range\n",
    "z_bins=8 #Number of redhshift bins to make\n",
    "mass_bins=50 #Number of mass bins to make\n",
    "\n",
    "z_edges=np.linspace(z_min,z_max,z_bins+1)"
   ]
  },
  {
   "cell_type": "code",
   "execution_count": null,
   "metadata": {},
   "outputs": [],
   "source": [
    "good_mass_mask = (mag_lim_cat[\"logmass_photoz\"]>0)& (mag_lim_cat[\"logmass_photoz\"]<12)\n",
    "mag_lim_cat = mag_lim_cat[good_mass_mask]\n",
    "\n",
    "good_mass_mask = (lrg_cat[\"logmass_photoz\"]>0)& (lrg_cat[\"logmass_photoz\"]<12)\n",
    "lrg_cat = lrg_cat[good_mass_mask]"
   ]
  },
  {
   "cell_type": "code",
   "execution_count": null,
   "metadata": {},
   "outputs": [],
   "source": [
    "fig, axs = plt.subplots(2,4, figsize=(17, 8), facecolor='w', edgecolor='k', sharex=\"col\", sharey='row')\n",
    "axs = axs.ravel()\n",
    "\n",
    "for i in range(z_bins):\n",
    "    #select objects in the redshift bin\n",
    "    mass_z= lrg_cat[ (lrg_cat[\"zphot\"]>=z_edges[i]) & (lrg_cat[\"zphot\"]<z_edges[i+1])] [\"logmass_photoz\"]\n",
    "    \n",
    "    mass_z_mag_lim = mag_lim_cat[ (mag_lim_cat[\"zphot\"]>=z_edges[i]) & (mag_lim_cat[\"zphot\"]<z_edges[i+1])] [\"logmass_photoz\"]\n",
    "    \n",
    "    #generate mass points\n",
    "    mass_ticks = np.linspace( mass_z_mag_lim.min() ,mass_z_mag_lim.max(),mass_bins)\n",
    "    completeness=[]\n",
    "    mass_plot_ticks=[]\n",
    "    \n",
    "    #Find fraction of objects greater than the given mass\n",
    "    for j in range(mass_bins):\n",
    "        if ((mass_z>=mass_ticks[j]).sum())>50: # Points will be plotted only if there are more than 50 data points in a bin\n",
    "            completeness.append( (mass_z>=mass_ticks[j]).sum()/(mass_z_mag_lim>=mass_ticks[j]).sum() )\n",
    "            mass_plot_ticks.append(mass_ticks[j])\n",
    "        \n",
    "    \n",
    "    label = str(np.round(z_edges[i],3))+r\"$\\leq \\mathrm{z}_{phot} <$\"+str(np.round(z_edges[i+1],3))\n",
    "    tot_count, mass_bin_edges = np.histogram(mass_z_mag_lim, bins=mass_bins)\n",
    "    sel_count, mass_bin_edges = np.histogram(mass_z, bins=mass_bin_edges)\n",
    "    \n",
    "    axs[i].plot(mass_plot_ticks,completeness, ls=\"--\", color=\"k\")\n",
    "    \n",
    "    utils.hist_on_binned_array(tot_count/tot_count.max(), mass_bin_edges, ax=axs[i], alpha=0.3, color=\"C0\")\n",
    "    utils.hist_on_binned_array(sel_count/tot_count.max(), mass_bin_edges, ax=axs[i], histtype=\"step\", color=\"k\")\n",
    "    \n",
    "    axs[i].set_title(label, size=20)\n",
    "    axs[i].set_ylim(0,1.05)\n",
    "    axs[i].set_xlim(10.5,12)\n",
    "    axs[i].tick_params(axis='x', labelsize=15)\n",
    "    axs[i].tick_params(axis='y', labelsize=15)\n",
    "    axs[i].grid(alpha=0.5)\n",
    "    \n",
    "fig.text(0.5, 0.03, r\"$\\log_{10}(\\mathrm{M}_{\\star}[\\mathrm{M}_{\\odot}])$)\", ha='center',size=30) #Common x label\n",
    "fig.text(0.06, 0.5, \"Completeness\", va='center', rotation='vertical',size=30) #Common y label\n",
    "\n",
    "# plt.tight_layout()\n",
    "fig.savefig(\"mass_completeness.pdf\", dpi=300, bbox_inches=\"tight\")\n"
   ]
  },
  {
   "cell_type": "markdown",
   "metadata": {},
   "source": [
    "### Mass Completeness of Baseline wrt union of SV samples\n",
    "(i.e. Fraction of objects included that are above a given stellar mass threshold)"
   ]
  },
  {
   "cell_type": "code",
   "execution_count": null,
   "metadata": {
    "jupyter": {
     "source_hidden": true
    },
    "tags": []
   },
   "outputs": [],
   "source": [
    "# fig, axs = plt.subplots(2,5, figsize=(20, 8), facecolor='w', edgecolor='k', sharex=\"col\", sharey='row')\n",
    "# axs = axs.ravel()\n",
    "\n",
    "# for i in range(z_bins):\n",
    "#     #select objects in the redshift bin\n",
    "#     mass_z_opt = lrg_opt_cat[ (lrg_opt_cat[\"zphot\"]>=z_edges[i]) & (lrg_opt_cat[\"zphot\"]<z_edges[i+1])] [\"logmass\"]    \n",
    "#     mass_z_ir = lrg_ir_cat[ (lrg_ir_cat[\"zphot\"]>=z_edges[i]) & (lrg_ir_cat[\"zphot\"]<z_edges[i+1])] [\"logmass\"]\n",
    "    \n",
    "#     mass_sv_z = lrg_sv_cat[ (lrg_sv_cat[\"zphot\"]>=z_edges[i]) & (lrg_sv_cat[\"zphot\"]<z_edges[i+1])] [\"logmass\"]\n",
    "    \n",
    "#     #generate mass points\n",
    "#     mass_ticks = np.linspace( mass_sv_z.min() ,mass_sv_z.max(),mass_bins)\n",
    "#     completeness_opt=[]\n",
    "#     mass_plot_ticks_opt=[]\n",
    "#     completeness_ir=[]\n",
    "#     mass_plot_ticks_ir=[]\n",
    "    \n",
    "#     #Find fraction of objects greater than the given mass\n",
    "#     for j in range(mass_bins):\n",
    "#         #OPT\n",
    "#         if ((mass_z_opt>=mass_ticks[j]).sum())>50: # Points will be plotted only if there are more than 50 data points in a bin\n",
    "#             completeness_opt.append( (mass_z_opt>=mass_ticks[j]).sum()/(mass_sv_z>=mass_ticks[j]).sum() )\n",
    "#             mass_plot_ticks_opt.append(mass_ticks[j])\n",
    "#         #IR\n",
    "#         if ((mass_z_ir>=mass_ticks[j]).sum())>50: # Points will be plotted only if there are more than 50 data points in a bin\n",
    "#             completeness_ir.append( (mass_z_ir>=mass_ticks[j]).sum()/(mass_sv_z>=mass_ticks[j]).sum() )\n",
    "#             mass_plot_ticks_ir.append(mass_ticks[j])\n",
    "    \n",
    "#     label = str(np.round(z_edges[i],3))+r\"$\\leq z <$\"+str(np.round(z_edges[i+1],3))\n",
    "#     tot_count, mass_bin_edges = np.histogram(mass_sv_z, bins=mass_bins)\n",
    "#     sel_count_opt, mass_bin_edges = np.histogram(mass_z_opt, bins=mass_bin_edges)\n",
    "#     sel_count_ir, mass_bin_edges = np.histogram(mass_z_ir, bins=mass_bin_edges)\n",
    "    \n",
    "#     axs[i].plot(mass_plot_ticks_opt,completeness_opt, ls=\"--\", color=\"k\")\n",
    "#     axs[i].plot(mass_plot_ticks_ir,completeness_ir, ls=\"--\", color=\"red\")\n",
    "#     utils.hist_on_binned_array(tot_count/tot_count.max(), mass_bin_edges, ax=axs[i], alpha=0.3, color=\"C0\")\n",
    "#     utils.hist_on_binned_array(sel_count_opt/tot_count.max(), mass_bin_edges, ax=axs[i], histtype=\"step\", color=\"k\")\n",
    "#     utils.hist_on_binned_array(sel_count_ir/tot_count.max(), mass_bin_edges, ax=axs[i], histtype=\"step\", color=\"red\")\n",
    "#     axs[i].set_title(label)\n",
    "#     axs[i].set_ylim(0,1)\n",
    "#     axs[i].set_xlim(10,12)\n",
    "#     axs[i].grid(alpha=0.5)\n",
    "# fig.text(0.5, 0.04, r\"Stellar Mass ($\\log(M_{\\odot})$)\", ha='center',size=20) #Common x label\n",
    "# fig.text(0.06, 0.5, \"Fraction Selected\", va='center', rotation='vertical',size=20) #Common y label\n",
    "\n",
    "\n",
    "# handle1 = lines.Line2D([], [], c='k', ls =\"--\", lw=2)\n",
    "# handle2 = lines.Line2D([], [], c='red', ls =\"--\", lw=2)\n",
    "# fig.legend( (handle1,handle2), (\"OPT Selection\", \"IR Selection\"), loc=\"center right\", bbox_to_anchor=(0.5,1))"
   ]
  },
  {
   "cell_type": "markdown",
   "metadata": {},
   "source": [
    "### Location of massive objects"
   ]
  },
  {
   "cell_type": "code",
   "execution_count": null,
   "metadata": {},
   "outputs": [],
   "source": [
    "# high_mass = lrg_sv_cat[~(baseline_mask_opt | baseline_mask_ir)]\n",
    "# high_mass = high_mass[(high_mass[\"logmass\"]>11)&(high_mass[\"logmass\"]<11.5)]\n",
    "# high_mass = high_mass[(high_mass[\"zphot\"]>0.35) & (high_mass[\"zphot\"]<1.)]\n",
    "# high_mass = high_mass[(high_mass[\"zfibermag\"]<21.5)]\n",
    "sv_mask_opt = ((lrg_sv_cat[\"SV1_DESI_TARGET\"] & desi_mask.mask(\"LRG_SV_OPT_\"+survey.upper()))>0)\n",
    "sv_mask_ir = ((lrg_sv_cat[\"SV1_DESI_TARGET\"] & desi_mask.mask(\"LRG_SV_IR_\"+survey.upper()))>0)\n",
    "\n",
    "# high_mass = lrg_sv_cat[((~baseline_mask_opt) & sv_mask_opt)]\n",
    "high_mass = lrg_sv_cat[((~baseline_mask_ir) & sv_mask_ir)]\n",
    "high_mass = high_mass[(high_mass[\"logmass\"]>11)&(high_mass[\"logmass\"]<11.5)]\n",
    "high_mass = high_mass[(high_mass[\"zphot\"]>0.35) & (high_mass[\"zphot\"]<1.)]\n",
    "# high_mass = high_mass[(high_mass[\"zfibermag\"]<21.5)]"
   ]
  },
  {
   "cell_type": "code",
   "execution_count": null,
   "metadata": {},
   "outputs": [],
   "source": [
    "utils.ts_plot(lrg_ir_cat)"
   ]
  },
  {
   "cell_type": "markdown",
   "metadata": {},
   "source": [
    "### Mass completeness with spectroscopic redshifts"
   ]
  },
  {
   "cell_type": "code",
   "execution_count": null,
   "metadata": {},
   "outputs": [],
   "source": [
    "z_cat = Table.read(\"/global/cfs/cdirs/desi/survey/catalogs/SV1/redshift_comps/cascades/3/LRG/alltiles_LRGzinfo.fits\")\n",
    "\n",
    "z_cat = z_cat[(z_cat[\"FIBERSTATUS\"]==0) & (z_cat[\"ZWARN\"]==0)]\n",
    "z_cat = z_cat[z_cat[\"PHOTSYS\"]==survey.upper()[0]]\n",
    "z_cat = z_cat[z_cat[\"SPECTYPE\"]==\"GALAXY\"]\n",
    "z_cat = z_cat[z_cat[\"TARGETS\"] == \"QSO+LRG\"]\n",
    "\n",
    "names = [name for name in z_cat.colnames if len(z_cat[name].shape) <= 1]\n",
    "z_cat = z_cat[names].to_pandas()\n",
    "# z_cat = z_cat[z_cat[\"TILEID\"].isin([80605, 80607, 80609, 80620, 80622, 68000,\n",
    "#                                     68001, 68002, 70000, 70001, 70002, 70003,\n",
    "#                                     80668, 80670, 80672, 80674, 80676, 80678,\n",
    "#                                     80680, 80682, 80684, 80686, 80688, 80690,\n",
    "#                                     80692, 80694, 80696, 80698, 80700, 80702,\n",
    "#                                     80704, 80706, 80708, 80710, 80712])]\n",
    "z_cat = z_cat[z_cat.duplicated(subset=\"TARGETID\")][[\"TARGETID\", \"Z\"]]"
   ]
  },
  {
   "cell_type": "code",
   "execution_count": null,
   "metadata": {},
   "outputs": [],
   "source": [
    "z_cat = z_cat.merge(lrg_sv_cat.to_pandas(), how=\"inner\", on= \"TARGETID\")"
   ]
  },
  {
   "cell_type": "code",
   "execution_count": null,
   "metadata": {},
   "outputs": [],
   "source": [
    "# Get masses based on spec-z instead of photoz\n",
    "regrf = joblib.load(f'/global/cfs/cdirs/desi/users/rongpu/ls_dr9.0_photoz/stellar_mass/rf_20210206_{survey}-mgc_redshift.pkl')\n",
    "data = np.column_stack((z_cat['gmag']-z_cat['rmag'], z_cat['rmag']-z_cat['zmag'], z_cat['zmag']-z_cat['w1mag'], z_cat['w1mag']-z_cat['w2mag'], z_cat['Z']))\n",
    "distmod = cosmo.distmod(z_cat['Z'])\n",
    "m_to_l_predict = regrf.predict(data)\n",
    "z_cat[\"logmass_z\"] = m_to_l_predict + 0.4*(4.45-(z_cat['zmag'] - distmod.to_value() ))"
   ]
  },
  {
   "cell_type": "code",
   "execution_count": null,
   "metadata": {},
   "outputs": [],
   "source": [
    "sv_mask_opt = ((z_cat[\"SV1_DESI_TARGET\"] & desi_mask.mask(\"LRG_SV_OPT_\"+survey.upper()))>0)\n",
    "sv_mask_ir = ((z_cat[\"SV1_DESI_TARGET\"] & desi_mask.mask(\"LRG_SV_IR_\"+survey.upper()))>0)\n",
    "\n",
    "sv_mask = sv_mask_opt | sv_mask_ir\n",
    "good_mass_mask = (z_cat[\"logmass\"]>0) & (z_cat[\"logmass\"]<12) # remove points with no mass values\n",
    "z_cat = z_cat[sv_mask & good_mass_mask]\n",
    "\n",
    "\n",
    "baseline_mask_opt = ((z_cat[\"SV1_DESI_TARGET\"] & desi_mask.mask(\"LRG_OPT_\"+survey.upper()))>0)\n",
    "lrg_opt_cat = z_cat[baseline_mask_opt]\n",
    "\n",
    "baseline_mask_ir = ((z_cat[\"SV1_DESI_TARGET\"] & desi_mask.mask(\"LRG_IR_\"+survey.upper()))>0)\n",
    "lrg_ir_cat = z_cat[baseline_mask_ir]"
   ]
  },
  {
   "cell_type": "code",
   "execution_count": null,
   "metadata": {},
   "outputs": [],
   "source": [
    "fig, axs = plt.subplots(2,4, figsize=(15, 8), facecolor='w', edgecolor='k', sharex=\"col\", sharey='row')\n",
    "axs = axs.ravel()\n",
    "\n",
    "for i in range(z_bins):\n",
    "    #select objects in the redshift bin\n",
    "    mass_z_opt = lrg_opt_cat[ (lrg_opt_cat[\"Z\"]>=z_edges[i]) & (lrg_opt_cat[\"Z\"]<z_edges[i+1])] [\"logmass_z\"]    \n",
    "    mass_z_ir = lrg_ir_cat[ (lrg_ir_cat[\"Z\"]>=z_edges[i]) & (lrg_ir_cat[\"Z\"]<z_edges[i+1])] [\"logmass_z\"]\n",
    "    \n",
    "    mass_sv_z = z_cat[ (z_cat[\"Z\"]>=z_edges[i]) & (z_cat[\"Z\"]<z_edges[i+1])] [\"logmass_z\"]\n",
    "    \n",
    "    #generate mass points\n",
    "    mass_ticks = np.linspace( mass_sv_z.min() ,mass_sv_z.max(),mass_bins)\n",
    "    completeness_opt=[]\n",
    "    mass_plot_ticks_opt=[]\n",
    "    completeness_ir=[]\n",
    "    mass_plot_ticks_ir=[]\n",
    "    \n",
    "    #Find fraction of objects greater than the given mass\n",
    "    for j in range(mass_bins):\n",
    "        #OPT\n",
    "        if ((mass_z_opt>=mass_ticks[j]).sum())>50: # Points will be plotted only if there are more than 50 data points in a bin\n",
    "            completeness_opt.append( (mass_z_opt>=mass_ticks[j]).sum()/(mass_sv_z>=mass_ticks[j]).sum() )\n",
    "            mass_plot_ticks_opt.append(mass_ticks[j])\n",
    "        #IR\n",
    "        if ((mass_z_ir>=mass_ticks[j]).sum())>50: # Points will be plotted only if there are more than 50 data points in a bin\n",
    "            completeness_ir.append( (mass_z_ir>=mass_ticks[j]).sum()/(mass_sv_z>=mass_ticks[j]).sum() )\n",
    "            mass_plot_ticks_ir.append(mass_ticks[j])\n",
    "    \n",
    "    label = str(np.round(z_edges[i],3))+r\"$\\leq z <$\"+str(np.round(z_edges[i+1],3))\n",
    "    tot_count, mass_bin_edges = np.histogram(mass_sv_z, bins=mass_bins)\n",
    "    sel_count_opt, mass_bin_edges = np.histogram(mass_z_opt, bins=mass_bin_edges)\n",
    "    sel_count_ir, mass_bin_edges = np.histogram(mass_z_ir, bins=mass_bin_edges)\n",
    "    \n",
    "    axs[i].plot(mass_plot_ticks_opt,completeness_opt, ls=\"--\", color=\"k\")\n",
    "    axs[i].plot(mass_plot_ticks_ir,completeness_ir, ls=\"--\", color=\"red\")\n",
    "    utils.hist_on_binned_array(tot_count/tot_count.max(), mass_bin_edges, ax=axs[i], alpha=0.3, color=\"C0\")\n",
    "    utils.hist_on_binned_array(sel_count_opt/tot_count.max(), mass_bin_edges, ax=axs[i], histtype=\"step\", color=\"k\")\n",
    "    utils.hist_on_binned_array(sel_count_ir/tot_count.max(), mass_bin_edges, ax=axs[i], histtype=\"step\", color=\"red\")\n",
    "    axs[i].set_title(label)\n",
    "    axs[i].set_ylim(0,1)\n",
    "    axs[i].set_xlim(10,12)\n",
    "    axs[i].grid(alpha=0.5)\n",
    "fig.text(0.5, 0.04, r\"Stellar Mass ($\\log(M_{\\odot})$)\", ha='center',size=20) #Common x label\n",
    "fig.text(0.06, 0.5, \"Fraction Selected\", va='center', rotation='vertical',size=20) #Common y label\n",
    "\n",
    "\n",
    "handle1 = lines.Line2D([], [], c='k', ls =\"--\", lw=2)\n",
    "handle2 = lines.Line2D([], [], c='red', ls =\"--\", lw=2)\n",
    "fig.legend( (handle1,handle2), (\"OPT Selection\", \"IR Selection\"), loc=\"center right\", bbox_to_anchor=(0.5,1))"
   ]
  },
  {
   "cell_type": "code",
   "execution_count": null,
   "metadata": {},
   "outputs": [],
   "source": []
  }
 ],
 "metadata": {
  "kernelspec": {
   "display_name": "DESI master",
   "language": "python",
   "name": "desi-master"
  },
  "language_info": {
   "codemirror_mode": {
    "name": "ipython",
    "version": 3
   },
   "file_extension": ".py",
   "mimetype": "text/x-python",
   "name": "python",
   "nbconvert_exporter": "python",
   "pygments_lexer": "ipython3",
   "version": "3.9.7"
  }
 },
 "nbformat": 4,
 "nbformat_minor": 4
}
