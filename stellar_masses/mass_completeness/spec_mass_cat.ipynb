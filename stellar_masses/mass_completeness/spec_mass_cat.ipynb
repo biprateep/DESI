{
 "cells": [
  {
   "cell_type": "markdown",
   "metadata": {},
   "source": [
    "# Make mass catalogs for objects using spectroscopic redshifts"
   ]
  },
  {
   "cell_type": "code",
   "execution_count": null,
   "metadata": {},
   "outputs": [],
   "source": [
    "from pathlib import Path\n",
    "from importlib import reload\n",
    "import joblib\n",
    "\n",
    "import numpy as np\n",
    "import pandas as pd\n",
    "import matplotlib.pyplot as plt\n",
    "import matplotlib.lines as lines\n",
    "from astropy.table import Table, vstack, join\n",
    "\n",
    "import mpl_scatter_density\n",
    "from astropy.cosmology import FlatLambdaCDM\n",
    "cosmo = FlatLambdaCDM(H0=70, Om0=0.3)\n",
    "\n",
    "from desitarget.sv1.sv1_targetmask import desi_mask, bgs_mask\n",
    "import utils\n",
    "reload(utils)"
   ]
  },
  {
   "cell_type": "markdown",
   "metadata": {},
   "source": [
    "# Create BGS Catalog"
   ]
  },
  {
   "cell_type": "code",
   "execution_count": null,
   "metadata": {},
   "outputs": [],
   "source": [
    "my_path = Path(\"/global/cscratch1/sd/bid13/LRG\")\n",
    "bgs_path_n = my_path / (\"BGS_SV_north.fits\")\n",
    "bgs_path_s = my_path / (\"BGS_SV_south.fits\")"
   ]
  },
  {
   "cell_type": "code",
   "execution_count": null,
   "metadata": {},
   "outputs": [],
   "source": [
    "bgs_sv_cat = vstack([Table.read(bgs_path_n), Table.read(bgs_path_s)]) # read in the SV data\n",
    "names = [name for name in bgs_sv_cat.colnames if len(bgs_sv_cat[name].shape) <= 1]\n",
    "bgs_sv_cat = bgs_sv_cat[names].to_pandas()"
   ]
  },
  {
   "cell_type": "code",
   "execution_count": null,
   "metadata": {},
   "outputs": [],
   "source": [
    "# z_cat = Table.read(\"/global/cfs/cdirs/desi/survey/catalogs/SV1/redshift_comps/cascades/3.1/BGS_ANY/alltiles_BGS_ANYzinfo.fits\")\n",
    "# names = [name for name in z_cat.colnames if len(z_cat[name].shape) <= 1]\n",
    "# z_cat = z_cat[names].to_pandas()\n",
    "z_cat = Table.read(\"/global/cfs/cdirs/desi/survey/catalogs/SV1/redshift_comps/denali/testdenali/All/alltiles_Allzinfo.fits\")\n",
    "z_cat = z_cat[(z_cat[\"SV1_DESI_TARGET\"] & desi_mask.mask(\"BGS_ANY\"))>0]\n",
    "names = [name for name in z_cat.colnames if len(z_cat[name].shape) <= 1]\n",
    "z_cat = z_cat[names].to_pandas()"
   ]
  },
  {
   "cell_type": "code",
   "execution_count": null,
   "metadata": {},
   "outputs": [],
   "source": [
    "z_cat[\"logmass\"] = -99"
   ]
  },
  {
   "cell_type": "code",
   "execution_count": null,
   "metadata": {},
   "outputs": [],
   "source": [
    "z_cat_merged = z_cat.merge(bgs_sv_cat, on=\"TARGETID\", how=\"left\")"
   ]
  },
  {
   "cell_type": "code",
   "execution_count": null,
   "metadata": {},
   "outputs": [],
   "source": [
    "regrf_n = joblib.load(f'/global/cfs/cdirs/desi/users/rongpu/ls_dr9.0_photoz/stellar_mass/rf/rf_20210206_north.pkl')\n",
    "regrf_s = joblib.load(f'/global/cfs/cdirs/desi/users/rongpu/ls_dr9.0_photoz/stellar_mass/rf/rf_20210206_south.pkl')\n",
    "# # Get masses based on spec-z instead of photoz\n",
    "# regrf_n = joblib.load(f'/global/cfs/cdirs/desi/users/rongpu/ls_dr9.0_photoz/stellar_mass/rf/rf_20210206_north-mgc_redshift.pkl')\n",
    "# # Get masses based on spec-z instead of photoz\n",
    "# regrf_s = joblib.load(f'/global/cfs/cdirs/desi/users/rongpu/ls_dr9.0_photoz/stellar_mass/rf/rf_20210206_south-mgc_redshift.pkl')"
   ]
  },
  {
   "cell_type": "code",
   "execution_count": null,
   "metadata": {},
   "outputs": [],
   "source": [
    "good_mask = (np.isfinite(z_cat_merged[\"gmag\"]) & np.isfinite(z_cat_merged[\"rmag\"]) & np.isfinite(z_cat_merged[\"zmag\"]))\n",
    "good_mask &= (np.isfinite(z_cat_merged[\"w1mag\"]) & np.isfinite(z_cat_merged[\"w2mag\"]))\n",
    "good_mask &= (z_cat_merged[\"FIBERSTATUS\"]==0)\n",
    "mask_north = (z_cat_merged[\"PHOTSYS_x\"]==b\"N\")\n",
    "mask_south = (z_cat_merged[\"PHOTSYS_x\"]==b\"S\")"
   ]
  },
  {
   "cell_type": "code",
   "execution_count": null,
   "metadata": {},
   "outputs": [],
   "source": [
    "#North\n",
    "mask = good_mask & mask_north\n",
    "data = np.column_stack((z_cat_merged['gmag']-z_cat_merged['rmag'], z_cat_merged['rmag']-z_cat_merged['zmag'], z_cat_merged['zmag']-z_cat_merged['w1mag'], z_cat_merged['w1mag']-z_cat_merged['w2mag'], z_cat_merged['Z']))\n",
    "data = data[mask]\n",
    "distmod = cosmo.distmod(z_cat_merged['Z'])\n",
    "distmod = distmod[mask]\n",
    "m_to_l_predict = regrf_n.predict(data)\n",
    "z_cat.loc[mask,\"logmass\"] = m_to_l_predict + 0.4*(4.45-(z_cat_merged['zmag'][mask] - distmod.to_value() ))"
   ]
  },
  {
   "cell_type": "code",
   "execution_count": null,
   "metadata": {},
   "outputs": [],
   "source": [
    "#South\n",
    "mask = good_mask & mask_south\n",
    "data = np.column_stack((z_cat_merged['gmag']-z_cat_merged['rmag'], z_cat_merged['rmag']-z_cat_merged['zmag'], z_cat_merged['zmag']-z_cat_merged['w1mag'], z_cat_merged['w1mag']-z_cat_merged['w2mag'], z_cat_merged['Z']))\n",
    "data = data[mask]\n",
    "distmod = cosmo.distmod(z_cat_merged['Z'])\n",
    "distmod = distmod[mask]\n",
    "m_to_l_predict = regrf_s.predict(data)\n",
    "z_cat.loc[mask,\"logmass\"] = m_to_l_predict + 0.4*(4.45-(z_cat_merged['zmag'][mask] - distmod.to_value() ))"
   ]
  },
  {
   "cell_type": "code",
   "execution_count": null,
   "metadata": {},
   "outputs": [],
   "source": [
    "# z_cat_fin = Table.read(\"/global/cfs/cdirs/desi/survey/catalogs/SV1/redshift_comps/cascades/3.1/BGS_ANY/alltiles_BGS_ANYzinfo.fits\")\n",
    "z_cat_fin = Table.read(\"/global/cfs/cdirs/desi/survey/catalogs/SV1/redshift_comps/denali/testdenali/All/alltiles_Allzinfo.fits\")\n",
    "z_cat_fin = z_cat_fin[(z_cat_fin[\"SV1_DESI_TARGET\"] & desi_mask.mask(\"BGS_ANY\"))>0]\n",
    "z_cat_fin[\"logmass\"] =z_cat[\"logmass\"]"
   ]
  },
  {
   "cell_type": "code",
   "execution_count": null,
   "metadata": {},
   "outputs": [],
   "source": [
    "z_cat_fin.write(my_path/\"alltiles_BGS_ANYzinfo_stellar_mass_photo-z.fits\")"
   ]
  },
  {
   "cell_type": "markdown",
   "metadata": {},
   "source": [
    "# LRG"
   ]
  },
  {
   "cell_type": "code",
   "execution_count": null,
   "metadata": {},
   "outputs": [],
   "source": [
    "my_path = Path(\"/global/cscratch1/sd/bid13/LRG\")\n",
    "lrg_path_n = my_path / (\"LRG_SV_north.fits\")\n",
    "lrg_path_s = my_path / (\"LRG_SV_south.fits\")"
   ]
  },
  {
   "cell_type": "code",
   "execution_count": null,
   "metadata": {},
   "outputs": [],
   "source": [
    "lrg_sv_cat = vstack([Table.read(lrg_path_n), Table.read(lrg_path_s)]) # read in the SV data\n",
    "names = [name for name in lrg_sv_cat.colnames if len(lrg_sv_cat[name].shape) <= 1]\n",
    "lrg_sv_cat = lrg_sv_cat[names].to_pandas()"
   ]
  },
  {
   "cell_type": "code",
   "execution_count": null,
   "metadata": {},
   "outputs": [],
   "source": [
    "# z_cat = Table.read(\"/global/cfs/cdirs/desi/survey/catalogs/SV1/redshift_comps/cascades/3.1/LRG/alltiles_LRGzinfo.fits\")\n",
    "# names = [name for name in z_cat.colnames if len(z_cat[name].shape) <= 1]\n",
    "# z_cat = z_cat[names].to_pandas()\n",
    "\n",
    "# z_cat = Table.read(\"/global/cfs/cdirs/desi/survey/catalogs/SV1/redshift_comps/denali/testdenali/All/alltiles_Allzinfo.fits\")\n",
    "z_cat = Table.read(\"/global/cfs/cdirs/desi/survey/catalogs/SV3/LSS/LSScats/v0/LRGAlltiles_full.dat.fits\")\n",
    "# z_cat = z_cat[(z_cat[\"SV1_DESI_TARGET\"] & desi_mask.mask(\"LRG\"))>0]\n",
    "names = [name for name in z_cat.colnames if len(z_cat[name].shape) <= 1]\n",
    "z_cat = z_cat[names].to_pandas()"
   ]
  },
  {
   "cell_type": "code",
   "execution_count": null,
   "metadata": {},
   "outputs": [],
   "source": [
    "z_cat[\"logmass\"] = -99"
   ]
  },
  {
   "cell_type": "code",
   "execution_count": null,
   "metadata": {},
   "outputs": [],
   "source": [
    "z_cat_merged = z_cat.merge(lrg_sv_cat, on=\"TARGETID\", how=\"left\")"
   ]
  },
  {
   "cell_type": "code",
   "execution_count": null,
   "metadata": {},
   "outputs": [],
   "source": [
    "# Get masses based on spec-z instead of photoz\n",
    "regrf_n = joblib.load(f'/global/cfs/cdirs/desi/users/rongpu/ls_dr9.0_photoz/stellar_mass/rf/rf_20210206_north-mgc_redshift.pkl')\n",
    "# Get masses based on spec-z instead of photoz\n",
    "regrf_s = joblib.load(f'/global/cfs/cdirs/desi/users/rongpu/ls_dr9.0_photoz/stellar_mass/rf/rf_20210206_south-mgc_redshift.pkl')"
   ]
  },
  {
   "cell_type": "code",
   "execution_count": null,
   "metadata": {},
   "outputs": [],
   "source": [
    "good_mask = (np.isfinite(z_cat_merged[\"gmag\"]) & np.isfinite(z_cat_merged[\"rmag\"]) & np.isfinite(z_cat_merged[\"zmag\"]))\n",
    "good_mask &= (np.isfinite(z_cat_merged[\"w1mag\"]) & np.isfinite(z_cat_merged[\"w2mag\"]))\n",
    "good_mask &= (z_cat_merged[\"FIBERSTATUS\"]==0)\n",
    "mask_north = (z_cat_merged[\"PHOTSYS_x\"]==b\"N\")\n",
    "mask_south = (z_cat_merged[\"PHOTSYS_x\"]==b\"S\")"
   ]
  },
  {
   "cell_type": "code",
   "execution_count": null,
   "metadata": {},
   "outputs": [],
   "source": [
    "#North\n",
    "mask = good_mask & mask_north\n",
    "data = np.column_stack((z_cat_merged['gmag']-z_cat_merged['rmag'], z_cat_merged['rmag']-z_cat_merged['zmag'], z_cat_merged['zmag']-z_cat_merged['w1mag'], z_cat_merged['w1mag']-z_cat_merged['w2mag'], z_cat_merged['Z']))\n",
    "data = data[mask]\n",
    "distmod = cosmo.distmod(z_cat_merged['Z'])\n",
    "distmod = distmod[mask]\n",
    "m_to_l_predict = regrf_n.predict(data)\n",
    "z_cat.loc[mask,\"logmass\"] = m_to_l_predict + 0.4*(4.45-(z_cat_merged['zmag'][mask] - distmod.to_value() ))"
   ]
  },
  {
   "cell_type": "code",
   "execution_count": null,
   "metadata": {},
   "outputs": [],
   "source": [
    "#South\n",
    "mask = good_mask & mask_south\n",
    "data = np.column_stack((z_cat_merged['gmag']-z_cat_merged['rmag'], z_cat_merged['rmag']-z_cat_merged['zmag'], z_cat_merged['zmag']-z_cat_merged['w1mag'], z_cat_merged['w1mag']-z_cat_merged['w2mag'], z_cat_merged['Z']))\n",
    "data = data[mask]\n",
    "distmod = cosmo.distmod(z_cat_merged['Z'])\n",
    "distmod = distmod[mask]\n",
    "m_to_l_predict = regrf_s.predict(data)\n",
    "z_cat.loc[mask,\"logmass\"] = m_to_l_predict + 0.4*(4.45-(z_cat_merged['zmag'][mask] - distmod.to_value() ))"
   ]
  },
  {
   "cell_type": "code",
   "execution_count": null,
   "metadata": {},
   "outputs": [],
   "source": [
    "# z_cat_fin = Table.read(\"/global/cfs/cdirs/desi/survey/catalogs/SV1/redshift_comps/cascades/3.1/LRG/alltiles_LRGzinfo.fits\")\n",
    "z_cat_fin = Table.read(\"/global/cfs/cdirs/desi/survey/catalogs/SV3/LSS/LSScats/v0/LRGAlltiles_full.dat.fits\")\n",
    "# z_cat_fin = z_cat_fin[(z_cat_fin[\"SV1_DESI_TARGET\"] & desi_mask.mask(\"LRG\"))>0]\n",
    "z_cat_fin[\"logmass\"] =z_cat[\"logmass\"]"
   ]
  },
  {
   "cell_type": "code",
   "execution_count": null,
   "metadata": {},
   "outputs": [],
   "source": [
    "z_cat_fin.write(my_path/\"LRGAlltiles_full_stellar_mass.fits\")"
   ]
  },
  {
   "cell_type": "markdown",
   "metadata": {},
   "source": [
    "# Secondary Targets"
   ]
  },
  {
   "cell_type": "code",
   "execution_count": null,
   "metadata": {},
   "outputs": [],
   "source": [
    "import desispec.io"
   ]
  },
  {
   "cell_type": "code",
   "execution_count": null,
   "metadata": {},
   "outputs": [],
   "source": [
    "cat = pd.read_csv(\"/global/cscratch1/sd/bid13/test/LowMassAGN.txt\", delim_whitespace=True)"
   ]
  },
  {
   "cell_type": "code",
   "execution_count": null,
   "metadata": {},
   "outputs": [],
   "source": [
    "Z = []\n",
    "gmag =[]\n",
    "rmag = []\n",
    "zmag = []\n",
    "w1mag = []\n",
    "w2mag = []\n",
    "PHOTSYS=[]\n",
    "for i in range(len(cat)):\n",
    "    z_temp = Table.read(cat[\"Path\"][i]+cat[\"Zbest_Files\"][i])\n",
    "    z_temp = float(z_temp[z_temp[\"TARGETID\"]==cat[\"#TARGETID\"][i]][\"Z\"])\n",
    "    Z.append(z_temp)\n",
    "    fibm_temp = desispec.io.read_spectra((cat[\"Path\"][i]+cat[\"Zbest_Files\"][i]).replace(\"zbest\",\"coadd\")).fibermap\n",
    "    f = 22.5 - 2.5 * np.log10(float(fibm_temp[fibm_temp[\"TARGETID\"]==cat[\"#TARGETID\"][i]][\"FLUX_G\"]))\n",
    "    gmag.append(f)\n",
    "    f = 22.5 - 2.5 * np.log10(float(fibm_temp[fibm_temp[\"TARGETID\"]==cat[\"#TARGETID\"][i]][\"FLUX_R\"]))\n",
    "    rmag.append(f)\n",
    "    f = 22.5 - 2.5 * np.log10(float(fibm_temp[fibm_temp[\"TARGETID\"]==cat[\"#TARGETID\"][i]][\"FLUX_Z\"]))\n",
    "    zmag.append(f)\n",
    "    f = 22.5 - 2.5 * np.log10(float(fibm_temp[fibm_temp[\"TARGETID\"]==cat[\"#TARGETID\"][i]][\"FLUX_W1\"]))\n",
    "    w1mag.append(f)\n",
    "    f = 22.5 - 2.5 * np.log10(float(fibm_temp[fibm_temp[\"TARGETID\"]==cat[\"#TARGETID\"][i]][\"FLUX_W2\"]))\n",
    "    w2mag.append(f)\n",
    "    f = fibm_temp[fibm_temp[\"TARGETID\"]==cat[\"#TARGETID\"][i]][\"PHOTSYS\"]\n",
    "    PHOTSYS.append(f)\n",
    "Z = np.array(Z)\n",
    "gmag =np.array(gmag)\n",
    "rmag = np.array(rmag)\n",
    "zmag = np.array(zmag)\n",
    "w1mag = np.array(w1mag)\n",
    "w2mag = np.array(w2mag)\n",
    "PHOTSYS= np.array(PHOTSYS)"
   ]
  },
  {
   "cell_type": "code",
   "execution_count": null,
   "metadata": {},
   "outputs": [],
   "source": [
    "data = np.column_stack((gmag-rmag, rmag-zmag, zmag-w1mag, w1mag-w2mag, Z))"
   ]
  },
  {
   "cell_type": "code",
   "execution_count": null,
   "metadata": {},
   "outputs": [],
   "source": [
    "mask = np.all(np.isfinite(data), axis=1)\n",
    "mask_n = (PHOTSYS==\"N\")\n",
    "mask_s = (PHOTSYS==\"S\")"
   ]
  },
  {
   "cell_type": "code",
   "execution_count": null,
   "metadata": {},
   "outputs": [],
   "source": [
    "cat[\"logmass\"] = -99"
   ]
  },
  {
   "cell_type": "code",
   "execution_count": null,
   "metadata": {},
   "outputs": [],
   "source": [
    "PHOTSYS = PHOTSYS[:,0].astype(str)"
   ]
  },
  {
   "cell_type": "code",
   "execution_count": null,
   "metadata": {},
   "outputs": [],
   "source": [
    "# Get masses based on spec-z instead of photoz\n",
    "regrf_n = joblib.load(f'/global/cfs/cdirs/desi/users/rongpu/ls_dr9.0_photoz/stellar_mass/rf/rf_20210206_north-mgc_redshift.pkl')\n",
    "# Get masses based on spec-z instead of photoz\n",
    "regrf_s = joblib.load(f'/global/cfs/cdirs/desi/users/rongpu/ls_dr9.0_photoz/stellar_mass/rf/rf_20210206_south-mgc_redshift.pkl')"
   ]
  },
  {
   "cell_type": "code",
   "execution_count": null,
   "metadata": {},
   "outputs": [],
   "source": [
    "cat = cat[mask]\n",
    "data = data[mask]\n",
    "Z=Z[mask]\n",
    "cat[\"PHOTSYS\"] = PHOTSYS[mask]\n",
    "cat[\"Z\"]=Z\n",
    "zmag = zmag[mask]"
   ]
  },
  {
   "cell_type": "code",
   "execution_count": null,
   "metadata": {},
   "outputs": [],
   "source": [
    "cat = cat.reset_index(drop=True)"
   ]
  },
  {
   "cell_type": "code",
   "execution_count": null,
   "metadata": {},
   "outputs": [],
   "source": [
    "for i in range(len(cat)):\n",
    "    distmod = cosmo.distmod(Z[i])\n",
    "    if cat[\"PHOTSYS\"][i] ==\"N\":\n",
    "        m_to_l_predict = regrf_n.predict(data[i][np.newaxis,:])\n",
    "        cat.loc[i,\"logmass\"] = m_to_l_predict + 0.4*(4.45-(zmag[i] - distmod.to_value() ))\n",
    "    if cat[\"PHOTSYS\"][i] ==\"S\":\n",
    "        m_to_l_predict = regrf_s.predict(data[i][np.newaxis,:])\n",
    "        cat.loc[i,\"logmass\"] = m_to_l_predict + 0.4*(4.45-(zmag[i] - distmod.to_value() ))"
   ]
  },
  {
   "cell_type": "code",
   "execution_count": null,
   "metadata": {},
   "outputs": [],
   "source": [
    "cat.to_csv(\"/global/cscratch1/sd/bid13/test/LowMassAGN_mass.txt\")"
   ]
  },
  {
   "cell_type": "code",
   "execution_count": null,
   "metadata": {},
   "outputs": [],
   "source": []
  }
 ],
 "metadata": {
  "kernelspec": {
   "display_name": "DESI master",
   "language": "python",
   "name": "desi-master"
  },
  "language_info": {
   "codemirror_mode": {
    "name": "ipython",
    "version": 3
   },
   "file_extension": ".py",
   "mimetype": "text/x-python",
   "name": "python",
   "nbconvert_exporter": "python",
   "pygments_lexer": "ipython3",
   "version": "3.8.3"
  }
 },
 "nbformat": 4,
 "nbformat_minor": 4
}
