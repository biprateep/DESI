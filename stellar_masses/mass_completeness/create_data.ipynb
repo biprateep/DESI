{
 "cells": [
  {
   "cell_type": "markdown",
   "metadata": {},
   "source": [
    "# Create data sets for LRG stellar mass completeness studies"
   ]
  },
  {
   "cell_type": "code",
   "execution_count": null,
   "metadata": {},
   "outputs": [],
   "source": [
    "from pathlib import Path\n",
    "from importlib import reload\n",
    "\n",
    "from astropy.table import Table, vstack, hstack\n",
    "import numpy as np\n",
    "\n",
    "from desitarget.sv3.sv3_targetmask import desi_mask\n",
    "from tqdm import tqdm\n",
    "from joblib import Parallel, delayed\n",
    "import utils\n",
    "reload(utils)"
   ]
  },
  {
   "cell_type": "code",
   "execution_count": null,
   "metadata": {},
   "outputs": [],
   "source": [
    "img_path = Path(\"/global/cfs/cdirs/cosmo/data/legacysurvey/dr9/\")\n",
    "mass_path = Path(\"/global/cfs/cdirs/desi/users/rongpu/ls_dr9.0_photoz/stellar_mass\")\n",
    "my_path = Path(\"/global/cscratch1/sd/bid13/LRG\")\n",
    "rongpu_path = Path(\"/global/cscratch1/sd/rongpu/target/catalogs/dr9.0/0.57.0\")"
   ]
  },
  {
   "cell_type": "code",
   "execution_count": null,
   "metadata": {},
   "outputs": [],
   "source": [
    "survey = \"north\" # choose from `north` or `south\n",
    "selection = \"IR\" # choose from `OPT` or `IR`\n",
    "n_workers=16\n",
    "\n",
    "sweep_path = img_path / survey / \"sweep\" / \"9.0\"\n",
    "mass_path = mass_path / survey\n",
    "photo_z_path = img_path / survey / \"sweep\" / \"9.0-photo-z\""
   ]
  },
  {
   "cell_type": "markdown",
   "metadata": {},
   "source": [
    "## Make LRG catalogs from the sweep files"
   ]
  },
  {
   "cell_type": "code",
   "execution_count": null,
   "metadata": {
    "scrolled": true,
    "tags": []
   },
   "outputs": [],
   "source": [
    "load_path = my_path / f\"LRG_{survey}.fits\"\n",
    "cat = []\n",
    "sweep_files = list(sweep_path.glob(\"sweep*\"))\n",
    "\n",
    "\n",
    "# def process_sweep(sweep_file):\n",
    "for sweep_file in tqdm(sweep_files):\n",
    "    sweep = Table.read(sweep_file)\n",
    "    quality_mask, sweep = utils.LRG_quality_cut(sweep)\n",
    "    lrg_mask, sweep = utils.LRG_cut(sweep, survey=survey)\n",
    "\n",
    "    keep_columns = [\"OBJID\", \"gmag\", \"rmag\", \"zmag\", \"w1mag\", \"w2mag\", \"gfibermag\", \"rfibermag\", \n",
    "                    \"zfibermag\"]\n",
    "    sweep.keep_columns(keep_columns)\n",
    "    photo_z = Table.read(photo_z_path / sweep_file.name.replace(\".fits\",\"-pz.fits\"))\n",
    "    sweep[\"zphot\"] = photo_z[quality_mask][lrg_mask][\"Z_PHOT_MEDIAN\"]\n",
    "    \n",
    "    #This mass is based on photo-z\n",
    "    logmass = np.load(mass_path / sweep_file.name.replace(\".fits\",\"_stellar_mass.npy\") )\n",
    "    sweep[\"logmass_photoz\"] = logmass[quality_mask][lrg_mask]\n",
    "    \n",
    "    # return sweep\n",
    "    cat.append(sweep)\n",
    "\n",
    "# cat = Parallel(n_jobs=1)(delayed(process_sweep)(sweep_file) for sweep_file in tqdm(sweep_files))\n",
    "\n",
    "print(\"\\nSaving file...\")\n",
    "cat = vstack(cat, metadata_conflicts=\"silent\")\n",
    "cat.write(load_path, format=\"fits\")\n",
    "print(f\"Catalog saved at {str(load_path)}\")"
   ]
  },
  {
   "cell_type": "markdown",
   "metadata": {},
   "source": [
    "## Make magnitude limited sample"
   ]
  },
  {
   "cell_type": "code",
   "execution_count": null,
   "metadata": {},
   "outputs": [],
   "source": [
    "load_path = my_path / (\"mag_lim_\"+survey+\".fits\")\n",
    "cat=[]\n",
    "sweep_files = list(sweep_path.glob(\"sweep*\"))\n",
    "\n",
    "for ind, sweep_file in enumerate(sweep_files):\n",
    "    sweep = Table.read(sweep_file)\n",
    "    quality_mask, sweep = utils.LRG_quality_cut(sweep)\n",
    "    \n",
    "    sweep[\"gmag\"] = utils.fluxToMag(sweep[\"FLUX_G\"] / sweep[\"MW_TRANSMISSION_G\"])\n",
    "    sweep[\"rmag\"] = utils.fluxToMag(sweep[\"FLUX_R\"] / sweep[\"MW_TRANSMISSION_R\"])\n",
    "    sweep[\"zmag\"] = utils.fluxToMag(sweep[\"FLUX_Z\"] / sweep[\"MW_TRANSMISSION_Z\"])\n",
    "    sweep[\"w1mag\"] = utils.fluxToMag(sweep[\"FLUX_W1\"] / sweep[\"MW_TRANSMISSION_W1\"])\n",
    "    sweep[\"w2mag\"] = utils.fluxToMag(sweep[\"FLUX_W2\"] / sweep[\"MW_TRANSMISSION_W2\"])\n",
    "    sweep[\"zfibermag\"] = utils.fluxToMag(sweep[\"FIBERFLUX_Z\"] / sweep[\"MW_TRANSMISSION_Z\"])\n",
    "    \n",
    "    stellar_mask = (\n",
    "        sweep[\"zmag\"] - sweep[\"w1mag\"]\n",
    "            > 0.8 * (sweep[\"rmag\"] - sweep[\"zmag\"]) - 0.6)\n",
    "    if survey == \"north\":\n",
    "        select_mask = (sweep[\"zfibermag\"] < 21.61)\n",
    "    if survey == \"south\":\n",
    "        select_mask = (sweep[\"zfibermag\"] < 21.6)\n",
    "        \n",
    "    sweep = sweep[select_mask & stellar_mask]\n",
    "    \n",
    "    keep_columns = [\"OBJID\", \"gmag\", \"rmag\",\"zmag\",\"w1mag\",\"w2mag\", \"zfibermag\"]\n",
    "#     keep_columns = [\"OBJID\", \"EBV\" ]\n",
    "    sweep.keep_columns(keep_columns)\n",
    "    \n",
    "    photo_z = Table.read(photo_z_path / sweep_file.name.replace(\".fits\",\"-pz.fits\"))\n",
    "    sweep[\"zphot\"] = photo_z[quality_mask][select_mask & stellar_mask][\"Z_PHOT_MEDIAN\"]\n",
    "    sweep[\"zphot_std\"] = photo_z[quality_mask][select_mask & stellar_mask][\"Z_PHOT_STD\"]\n",
    "\n",
    "    logmass = np.load(mass_path / sweep_file.name.replace(\".fits\",\"_stellar_mass.npy\") )\n",
    "    sweep[\"logmass_photoz\"] = logmass[quality_mask][select_mask & stellar_mask]\n",
    "\n",
    "    cat.append(sweep)\n",
    "    print(f\"Processed file {ind+1} of {len(sweep_files)}\", end=\"\\r\")\n",
    "cat = vstack(cat, metadata_conflicts=\"silent\")"
   ]
  },
  {
   "cell_type": "code",
   "execution_count": null,
   "metadata": {},
   "outputs": [],
   "source": [
    "print(\"\\nSaving file...\")\n",
    "cat.write(load_path, format=\"fits\")\n",
    "print(f\"Catalog saved at {str(load_path)}\")"
   ]
  },
  {
   "cell_type": "markdown",
   "metadata": {},
   "source": [
    "# Make catalogs from official target lists generated by Rongpu"
   ]
  },
  {
   "cell_type": "code",
   "execution_count": null,
   "metadata": {},
   "outputs": [],
   "source": [
    "basic_path = rongpu_path / (\"dr9_sv3_lrg_\"+ survey+ \"_0.57.0_basic.fits\")\n",
    "photom_path = rongpu_path / (\"dr9_sv3_lrg_\"+ survey+ \"_0.57.0_photom.fits\")\n",
    "vagc_path = rongpu_path / (\"dr9_sv3_lrg_\"+ survey+ \"_0.57.0_more_1.fits\")"
   ]
  },
  {
   "cell_type": "code",
   "execution_count": null,
   "metadata": {},
   "outputs": [],
   "source": [
    "cat = Table.read(basic_path)\n",
    "photo_cat = Table.read(photom_path)\n",
    "\n",
    "# cat = hstack([cat, photo_cat])\n",
    "vagc_cat = Table.read(vagc_path)\n",
    "cat[\"gmag\"] = utils.fluxToMag(photo_cat[\"FLUX_G\"] / photo_cat[\"MW_TRANSMISSION_G\"])\n",
    "cat[\"rmag\"] = utils.fluxToMag(photo_cat[\"FLUX_R\"] / photo_cat[\"MW_TRANSMISSION_R\"])\n",
    "cat[\"zmag\"] = utils.fluxToMag(photo_cat[\"FLUX_Z\"] / photo_cat[\"MW_TRANSMISSION_Z\"])\n",
    "cat[\"w1mag\"] = utils.fluxToMag(photo_cat[\"FLUX_W1\"] / photo_cat[\"MW_TRANSMISSION_W1\"])\n",
    "cat[\"w2mag\"] = utils.fluxToMag(photo_cat[\"FLUX_W2\"] / photo_cat[\"MW_TRANSMISSION_W2\"])\n",
    "cat[\"zfibermag\"] = utils.fluxToMag(photo_cat[\"FIBERFLUX_Z\"] / photo_cat[\"MW_TRANSMISSION_Z\"])\n",
    "cat[\"zfibertotmag\"] = utils.fluxToMag(photo_cat[\"FIBERTOTFLUX_Z\"] )\n",
    "cat[\"MORPHTYPE\"] = photo_cat[\"MORPHTYPE\"]\n",
    "\n",
    "cat[\"zphot\"] =  vagc_cat[\"Z_PHOT_MEDIAN\"]\n",
    "cat[\"logmass\"] = vagc_cat[\"stellar_mass\"]\n",
    "cat[\"gaia_g\"] = photo_cat[\"GAIA_PHOT_G_MEAN_MAG\"]\n",
    "\n",
    "load_path = my_path / (\"LRG_SV3_\" + survey +\".fits\")\n",
    "\n",
    "cat.write(load_path, format=\"fits\", overwrite=True)"
   ]
  },
  {
   "cell_type": "markdown",
   "metadata": {},
   "source": [
    "# Make catalogs for BGS"
   ]
  },
  {
   "cell_type": "code",
   "execution_count": null,
   "metadata": {},
   "outputs": [],
   "source": [
    "basic_path = rongpu_path / (\"dr9_sv1_bgs_any_\"+ survey+ \"_0.49.0_basic.fits\")\n",
    "photom_path = rongpu_path / (\"dr9_sv1_bgs_any_\"+ survey+ \"_0.49.0_photom.fits\")\n",
    "vagc_path = rongpu_path / (\"dr9_sv1_bgs_any_\"+ survey+ \"_0.49.0_more_1.fits\")"
   ]
  },
  {
   "cell_type": "code",
   "execution_count": null,
   "metadata": {},
   "outputs": [],
   "source": [
    "cat = Table.read(basic_path)\n",
    "photo_cat = Table.read(photom_path)\n",
    "\n",
    "# cat = hstack([cat, photo_cat])\n",
    "vagc_cat = Table.read(vagc_path)\n",
    "cat[\"gmag\"] = utils.fluxToMag(photo_cat[\"FLUX_G\"] / photo_cat[\"MW_TRANSMISSION_G\"])\n",
    "cat[\"rmag\"] = utils.fluxToMag(photo_cat[\"FLUX_R\"] / photo_cat[\"MW_TRANSMISSION_R\"])\n",
    "cat[\"zmag\"] = utils.fluxToMag(photo_cat[\"FLUX_Z\"] / photo_cat[\"MW_TRANSMISSION_Z\"])\n",
    "cat[\"w1mag\"] = utils.fluxToMag(photo_cat[\"FLUX_W1\"] / photo_cat[\"MW_TRANSMISSION_W1\"])\n",
    "cat[\"w2mag\"] = utils.fluxToMag(photo_cat[\"FLUX_W2\"] / photo_cat[\"MW_TRANSMISSION_W2\"])\n",
    "cat[\"zfibermag\"] = utils.fluxToMag(photo_cat[\"FIBERFLUX_Z\"] / photo_cat[\"MW_TRANSMISSION_Z\"])\n",
    "\n",
    "cat[\"zphot\"] =  vagc_cat[\"Z_PHOT_MEDIAN\"]\n",
    "cat[\"logmass\"] = vagc_cat[\"stellar_mass\"]\n",
    "\n",
    "load_path = my_path / (\"BGS_SV_\" + survey +\".fits\")\n",
    "\n",
    "cat.write(load_path, format=\"fits\", overwrite=True)"
   ]
  },
  {
   "cell_type": "code",
   "execution_count": null,
   "metadata": {},
   "outputs": [],
   "source": [
    "photo_cat = Table.read(rongpu_path / (\"dr9_sv1_lrg_\"+ survey+ \"_0.49.0_more_1.fits\"))"
   ]
  },
  {
   "cell_type": "markdown",
   "metadata": {},
   "source": [
    "# Make LRG catalog from the official file generated by DESI_TARGET"
   ]
  },
  {
   "cell_type": "code",
   "execution_count": null,
   "metadata": {},
   "outputs": [],
   "source": [
    "load_path = my_path / (\"LRG_SV1.fits\")\n",
    "target_path = Path(\"/global/project/projectdirs/desi/target/catalogs/dr9/0.52.0/targets/sv1/resolve/dark\")\n",
    "cat = []\n",
    "target_files = list(target_path.glob(\"sv1*\"))\n",
    "for ind, target_file in enumerate(target_files):\n",
    "    target = Table.read(target_file)\n",
    "    lrg_mask = (target[\"SV1_DESI_TARGET\"] & desi_mask.mask(\"LRG\")>0)\n",
    "    \n",
    "    target = target[lrg_mask]\n",
    "    target[\"gmag\"] = utils.fluxToMag(target[\"FLUX_G\"] / target[\"MW_TRANSMISSION_G\"])\n",
    "    target[\"rmag\"] = utils.fluxToMag(target[\"FLUX_R\"] / target[\"MW_TRANSMISSION_R\"])\n",
    "    target[\"zmag\"] = utils.fluxToMag(target[\"FLUX_Z\"] / target[\"MW_TRANSMISSION_Z\"])\n",
    "    target[\"w1mag\"] = utils.fluxToMag(target[\"FLUX_W1\"] / target[\"MW_TRANSMISSION_W1\"])\n",
    "    target[\"zfibermag\"] = utils.fluxToMag(target[\"FIBERFLUX_Z\"] / target[\"MW_TRANSMISSION_Z\"])\n",
    "    target[\"zfibertotmag\"] = utils.fluxToMag(target[\"FIBERTOTFLUX_Z\"] )\n",
    "    target[\"gaiagmag\"] = target[\"GAIA_PHOT_G_MEAN_MAG\"]\n",
    "    keep_columns = [\"TARGETID\",  \"FLUX_IVAR_W1\", \"FLUX_IVAR_W2\", \"RA\", \"DEC\"]\n",
    "                    # \"gmag\", \"rmag\", \"zmag\", \"w1mag\", \"zfibermag\", \"zfibertotmag\", \"gaiagmag\",\n",
    "                    # \"SV1_DESI_TARGET\" ]\n",
    "    target.keep_columns(keep_columns)\n",
    "    \n",
    "\n",
    "    cat.append(target)\n",
    "    print(f\"Processed file {ind+1} of {len(target_files)}\", end=\"\\r\")\n",
    "\n",
    "print(\"\\nSaving file...\")\n",
    "cat = vstack(cat, metadata_conflicts=\"silent\")\n",
    "cat.write(load_path, format=\"fits\")\n",
    "print(f\"Catalog saved at {str(load_path)}\")"
   ]
  },
  {
   "cell_type": "code",
   "execution_count": null,
   "metadata": {},
   "outputs": [],
   "source": []
  }
 ],
 "metadata": {
  "kernelspec": {
   "display_name": "DESI master",
   "language": "python",
   "name": "desi-master"
  },
  "language_info": {
   "codemirror_mode": {
    "name": "ipython",
    "version": 3
   },
   "file_extension": ".py",
   "mimetype": "text/x-python",
   "name": "python",
   "nbconvert_exporter": "python",
   "pygments_lexer": "ipython3",
   "version": "3.9.7"
  }
 },
 "nbformat": 4,
 "nbformat_minor": 4
}
