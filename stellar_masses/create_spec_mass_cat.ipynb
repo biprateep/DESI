{
 "cells": [
  {
   "cell_type": "markdown",
   "metadata": {},
   "source": [
    "# Make mass catalogs using spectroscopic redshifts"
   ]
  },
  {
   "cell_type": "code",
   "execution_count": 1,
   "metadata": {},
   "outputs": [],
   "source": [
    "import joblib\n",
    "from pathlib import Path\n",
    "\n",
    "\n",
    "import numpy as np\n",
    "import pandas as pd\n",
    "import matplotlib.pyplot as plt\n",
    "from astropy.table import Table, vstack, join\n",
    "\n",
    "\n",
    "#Define cosmology\n",
    "from astropy.cosmology import FlatLambdaCDM\n",
    "cosmo = FlatLambdaCDM(H0=70, Om0=0.3)"
   ]
  },
  {
   "cell_type": "markdown",
   "metadata": {},
   "source": [
    "### Cat Paths"
   ]
  },
  {
   "cell_type": "code",
   "execution_count": 2,
   "metadata": {},
   "outputs": [],
   "source": [
    "release = \"everest\""
   ]
  },
  {
   "cell_type": "code",
   "execution_count": 3,
   "metadata": {},
   "outputs": [],
   "source": [
    "# file_name = f\"zall-tilecumulative-{release}.fits\"\n",
    "# file_name = f\"zall-pix-{release}.fits\"\n",
    "file_name = \"zpix-sv3-dark.fits\""
   ]
  },
  {
   "cell_type": "code",
   "execution_count": 4,
   "metadata": {},
   "outputs": [],
   "source": [
    "cat_path = Path(f\"/global/cfs/cdirs/desi/spectro/redux/{release}/zcatalog\")\n",
    "out_path = Path(f\"/global/cscratch1/sd/bid13/{release}_stellar_masses\")"
   ]
  },
  {
   "cell_type": "code",
   "execution_count": 5,
   "metadata": {},
   "outputs": [],
   "source": [
    "def fluxToMag(flux):\n",
    "    return 22.5 - 2.5 * np.log10(flux)\n",
    "\n",
    "def mw_transmission(cat,band):\n",
    "    band_coeffs = {\"u\":3.995, \"g\": 3.214, \"r\": 2.165, \"i\": 1.592, \"z\": 1.211, \"Y\": 1.064,\n",
    "              \"W1\": 0.184,\"W2\": 0.113,\"W3\": 0.0241,\"W4\": 0.00910}\n",
    "    A = band_coeffs[band]*cat[\"EBV\"]\n",
    "    return 10**(A/-2.5)"
   ]
  },
  {
   "cell_type": "markdown",
   "metadata": {},
   "source": [
    "read in cat and get extinction corrected mags"
   ]
  },
  {
   "cell_type": "code",
   "execution_count": 6,
   "metadata": {},
   "outputs": [
    {
     "name": "stderr",
     "output_type": "stream",
     "text": [
      "WARNING: hdu= was not specified but multiple tables are present, reading in first available table (hdu=1) [astropy.io.fits.connect]\n",
      "<ipython-input-5-d8de523ab563>:2: RuntimeWarning: divide by zero encountered in log10\n",
      "  return 22.5 - 2.5 * np.log10(flux)\n",
      "<ipython-input-5-d8de523ab563>:2: RuntimeWarning: invalid value encountered in log10\n",
      "  return 22.5 - 2.5 * np.log10(flux)\n"
     ]
    }
   ],
   "source": [
    "cat = Table.read(cat_path/file_name)\n",
    "\n",
    "cat[\"MW_TRANSMISSION_G\"] = mw_transmission(cat,\"g\")\n",
    "cat[\"MW_TRANSMISSION_R\"] =  mw_transmission(cat,\"r\")\n",
    "cat[\"MW_TRANSMISSION_Z\"] = mw_transmission(cat,\"z\")\n",
    "cat[\"MW_TRANSMISSION_W1\"] = mw_transmission(cat,\"W1\")\n",
    "cat[\"MW_TRANSMISSION_W2\"] = mw_transmission(cat,\"W2\")\n",
    "\n",
    "cat[\"logmass\"] = -99.0\n",
    "cat[\"gmag\"] = fluxToMag(cat[\"FLUX_G\"] / cat[\"MW_TRANSMISSION_G\"])\n",
    "cat[\"rmag\"] = fluxToMag(cat[\"FLUX_R\"] / cat[\"MW_TRANSMISSION_R\"])\n",
    "cat[\"zmag\"] = fluxToMag(cat[\"FLUX_Z\"] / cat[\"MW_TRANSMISSION_Z\"])\n",
    "cat[\"w1mag\"] = fluxToMag(cat[\"FLUX_W1\"] / cat[\"MW_TRANSMISSION_W1\"])\n",
    "cat[\"w2mag\"] = fluxToMag(cat[\"FLUX_W2\"] / cat[\"MW_TRANSMISSION_W2\"])"
   ]
  },
  {
   "cell_type": "markdown",
   "metadata": {},
   "source": [
    "Load Pre-trained Random Forest models"
   ]
  },
  {
   "cell_type": "code",
   "execution_count": 7,
   "metadata": {},
   "outputs": [
    {
     "name": "stderr",
     "output_type": "stream",
     "text": [
      "/global/homes/b/bid13/.local/lib/python3.8/site-packages/sklearn/base.py:324: UserWarning: Trying to unpickle estimator DecisionTreeRegressor from version 0.23.1 when using version 1.0. This might lead to breaking code or invalid results. Use at your own risk. For more info please refer to:\n",
      "https://scikit-learn.org/stable/modules/model_persistence.html#security-maintainability-limitations\n",
      "  warnings.warn(\n",
      "/global/homes/b/bid13/.local/lib/python3.8/site-packages/sklearn/base.py:324: UserWarning: Trying to unpickle estimator RandomForestRegressor from version 0.23.1 when using version 1.0. This might lead to breaking code or invalid results. Use at your own risk. For more info please refer to:\n",
      "https://scikit-learn.org/stable/modules/model_persistence.html#security-maintainability-limitations\n",
      "  warnings.warn(\n"
     ]
    }
   ],
   "source": [
    "#MODELS TRAINED USING MGC REDSHIFT\n",
    "regrf_n = joblib.load(f'/global/cfs/cdirs/desi/users/rongpu/ls_dr9.0_photoz/stellar_mass/rf/rf_20210206_north-mgc_redshift.pkl')\n",
    "regrf_s = joblib.load(f'/global/cfs/cdirs/desi/users/rongpu/ls_dr9.0_photoz/stellar_mass/rf/rf_20210206_south-mgc_redshift.pkl')\n",
    "#MODELS TRAINED USING LEGACY SURVEY PHOTO-z\n",
    "# regrf_n = joblib.load(f'/global/cfs/cdirs/desi/users/rongpu/ls_dr9.0_photoz/stellar_mass/rf/rf_20210206_north.pkl')\n",
    "# regrf_s = joblib.load(f'/global/cfs/cdirs/desi/users/rongpu/ls_dr9.0_photoz/stellar_mass/rf/rf_20210206_south.pkl')"
   ]
  },
  {
   "cell_type": "markdown",
   "metadata": {},
   "source": [
    "Mass prediction only possible for objects with all the fluxes"
   ]
  },
  {
   "cell_type": "code",
   "execution_count": 8,
   "metadata": {},
   "outputs": [],
   "source": [
    "good_mask = (np.isfinite(cat[\"gmag\"]) & np.isfinite(cat[\"rmag\"]) & np.isfinite(cat[\"zmag\"]))\n",
    "good_mask &= (np.isfinite(cat[\"w1mag\"]) & np.isfinite(cat[\"w2mag\"]))\n",
    "# good_mask &= (cat[\"FIBERSTATUS\"]==0)\n",
    "mask_north = (cat[\"PHOTSYS\"]==b\"N\")\n",
    "mask_south = (cat[\"PHOTSYS\"]==b\"S\")"
   ]
  },
  {
   "cell_type": "code",
   "execution_count": 9,
   "metadata": {},
   "outputs": [
    {
     "name": "stderr",
     "output_type": "stream",
     "text": [
      "<ipython-input-9-3495d2f7ddb3>:3: RuntimeWarning: invalid value encountered in subtract\n",
      "  data = np.column_stack((cat['gmag']-cat['rmag'], cat['rmag']-cat['zmag'], cat['zmag']-cat['w1mag'], cat['w1mag']-cat['w2mag'], cat['Z']))\n"
     ]
    }
   ],
   "source": [
    "#North\n",
    "mask = good_mask & mask_north\n",
    "data = np.column_stack((cat['gmag']-cat['rmag'], cat['rmag']-cat['zmag'], cat['zmag']-cat['w1mag'], cat['w1mag']-cat['w2mag'], cat['Z']))\n",
    "data = data[mask]\n",
    "distmod = cosmo.distmod(cat['Z'])\n",
    "distmod = distmod[mask]\n",
    "m_to_l_predict = regrf_n.predict(data)\n",
    "cat[\"logmass\"][mask] = m_to_l_predict + 0.4*(4.45-(cat['zmag'][mask] - distmod.to_value() ))"
   ]
  },
  {
   "cell_type": "code",
   "execution_count": 10,
   "metadata": {},
   "outputs": [
    {
     "name": "stderr",
     "output_type": "stream",
     "text": [
      "<ipython-input-10-f8fd00987317>:3: RuntimeWarning: invalid value encountered in subtract\n",
      "  data = np.column_stack((cat['gmag']-cat['rmag'], cat['rmag']-cat['zmag'], cat['zmag']-cat['w1mag'], cat['w1mag']-cat['w2mag'], cat['Z']))\n"
     ]
    }
   ],
   "source": [
    "#South\n",
    "mask = good_mask & mask_south\n",
    "data = np.column_stack((cat['gmag']-cat['rmag'], cat['rmag']-cat['zmag'], cat['zmag']-cat['w1mag'], cat['w1mag']-cat['w2mag'], cat['Z']))\n",
    "data = data[mask]\n",
    "distmod = cosmo.distmod(cat['Z'])\n",
    "distmod = distmod[mask]\n",
    "m_to_l_predict = regrf_s.predict(data)\n",
    "cat[\"logmass\"][mask] = m_to_l_predict + 0.4*(4.45-(cat['zmag'][mask] - distmod.to_value() ))"
   ]
  },
  {
   "cell_type": "code",
   "execution_count": 11,
   "metadata": {},
   "outputs": [],
   "source": [
    "cat.write(out_path / (\"stellar_mass_specz_\" + file_name))"
   ]
  }
 ],
 "metadata": {
  "kernelspec": {
   "display_name": "ls-cutout",
   "language": "python",
   "name": "ls-cutout"
  },
  "language_info": {
   "codemirror_mode": {
    "name": "ipython",
    "version": 3
   },
   "file_extension": ".py",
   "mimetype": "text/x-python",
   "name": "python",
   "nbconvert_exporter": "python",
   "pygments_lexer": "ipython3",
   "version": "3.8.10"
  }
 },
 "nbformat": 4,
 "nbformat_minor": 4
}
