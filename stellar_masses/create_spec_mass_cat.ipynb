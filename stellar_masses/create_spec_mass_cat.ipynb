{
 "cells": [
  {
   "cell_type": "markdown",
   "metadata": {},
   "source": [
    "# Make mass catalogs using spectroscopic redshifts"
   ]
  },
  {
   "cell_type": "code",
   "execution_count": null,
   "metadata": {},
   "outputs": [],
   "source": [
    "import joblib\n",
    "from pathlib import Path\n",
    "\n",
    "\n",
    "import numpy as np\n",
    "import pandas as pd\n",
    "import matplotlib.pyplot as plt\n",
    "from astropy.table import Table, vstack, join\n",
    "\n",
    "\n",
    "#Define cosmology\n",
    "from astropy.cosmology import FlatLambdaCDM\n",
    "cosmo = FlatLambdaCDM(H0=70, Om0=0.3)"
   ]
  },
  {
   "cell_type": "markdown",
   "metadata": {},
   "source": [
    "### Cat Paths"
   ]
  },
  {
   "cell_type": "code",
   "execution_count": null,
   "metadata": {},
   "outputs": [],
   "source": [
    "release = \"iron\""
   ]
  },
  {
   "cell_type": "code",
   "execution_count": null,
   "metadata": {},
   "outputs": [],
   "source": [
    "file_name = f\"zall-tilecumulative-{release}.fits\"\n",
    "# file_name = f\"zall-pix-{release}.fits\"\n",
    "#file_name = \"zpix-sv3-dark.fits\""
   ]
  },
  {
   "cell_type": "code",
   "execution_count": null,
   "metadata": {},
   "outputs": [],
   "source": [
    "cat_path = Path(f\"/global/cfs/cdirs/desi/spectro/redux/{release}/zcatalog\")\n",
    "out_path = Path(f\"/global/cfs/cdirs/desi/science/gqp/stellar_masses\")"
   ]
  },
  {
   "cell_type": "code",
   "execution_count": null,
   "metadata": {},
   "outputs": [],
   "source": [
    "def fluxToMag(flux):\n",
    "    return 22.5 - 2.5 * np.log10(flux)\n",
    "\n",
    "def mw_transmission(cat,band):\n",
    "    band_coeffs = {\"u\":3.995, \"g\": 3.214, \"r\": 2.165, \"i\": 1.592, \"z\": 1.211, \"Y\": 1.064,\n",
    "              \"W1\": 0.184,\"W2\": 0.113,\"W3\": 0.0241,\"W4\": 0.00910}\n",
    "    A = band_coeffs[band]*cat[\"EBV\"]\n",
    "    return 10**(A/-2.5)"
   ]
  },
  {
   "cell_type": "markdown",
   "metadata": {},
   "source": [
    "read in cat and get extinction corrected mags"
   ]
  },
  {
   "cell_type": "code",
   "execution_count": null,
   "metadata": {},
   "outputs": [],
   "source": [
    "cat = Table.read(cat_path/file_name)\n",
    "\n",
    "cat[\"MW_TRANSMISSION_G\"] = mw_transmission(cat,\"g\")\n",
    "cat[\"MW_TRANSMISSION_R\"] =  mw_transmission(cat,\"r\")\n",
    "cat[\"MW_TRANSMISSION_Z\"] = mw_transmission(cat,\"z\")\n",
    "cat[\"MW_TRANSMISSION_W1\"] = mw_transmission(cat,\"W1\")\n",
    "cat[\"MW_TRANSMISSION_W2\"] = mw_transmission(cat,\"W2\")\n",
    "\n",
    "cat[\"logmass\"] = -99.0\n",
    "cat[\"gmag\"] = fluxToMag(cat[\"FLUX_G\"] / cat[\"MW_TRANSMISSION_G\"])\n",
    "cat[\"rmag\"] = fluxToMag(cat[\"FLUX_R\"] / cat[\"MW_TRANSMISSION_R\"])\n",
    "cat[\"zmag\"] = fluxToMag(cat[\"FLUX_Z\"] / cat[\"MW_TRANSMISSION_Z\"])\n",
    "cat[\"w1mag\"] = fluxToMag(cat[\"FLUX_W1\"] / cat[\"MW_TRANSMISSION_W1\"])\n",
    "cat[\"w2mag\"] = fluxToMag(cat[\"FLUX_W2\"] / cat[\"MW_TRANSMISSION_W2\"])"
   ]
  },
  {
   "cell_type": "markdown",
   "metadata": {},
   "source": [
    "Load Pre-trained Random Forest models"
   ]
  },
  {
   "cell_type": "code",
   "execution_count": null,
   "metadata": {},
   "outputs": [],
   "source": [
    "#MODELS TRAINED USING MGC REDSHIFT\n",
    "regrf_n = joblib.load(f'/global/cfs/cdirs/desi/users/rongpu/ls_dr9.0_photoz/stellar_mass/rf/rf_20210206_north-mgc_redshift.pkl')\n",
    "regrf_s = joblib.load(f'/global/cfs/cdirs/desi/users/rongpu/ls_dr9.0_photoz/stellar_mass/rf/rf_20210206_south-mgc_redshift.pkl')\n",
    "#MODELS TRAINED USING LEGACY SURVEY PHOTO-z\n",
    "# regrf_n = joblib.load(f'/global/cfs/cdirs/desi/users/rongpu/ls_dr9.0_photoz/stellar_mass/rf/rf_20210206_north.pkl')\n",
    "# regrf_s = joblib.load(f'/global/cfs/cdirs/desi/users/rongpu/ls_dr9.0_photoz/stellar_mass/rf/rf_20210206_south.pkl')"
   ]
  },
  {
   "cell_type": "markdown",
   "metadata": {},
   "source": [
    "Mass prediction only possible for objects with all the fluxes"
   ]
  },
  {
   "cell_type": "code",
   "execution_count": null,
   "metadata": {},
   "outputs": [],
   "source": [
    "good_mask = (np.isfinite(cat[\"gmag\"]) & np.isfinite(cat[\"rmag\"]) & np.isfinite(cat[\"zmag\"]))\n",
    "good_mask &= (np.isfinite(cat[\"w1mag\"]) & np.isfinite(cat[\"w2mag\"]))\n",
    "# good_mask &= (cat[\"FIBERSTATUS\"]==0)\n",
    "mask_north = (cat[\"PHOTSYS\"]==b\"N\")\n",
    "mask_south = (cat[\"PHOTSYS\"]==b\"S\")"
   ]
  },
  {
   "cell_type": "code",
   "execution_count": null,
   "metadata": {},
   "outputs": [],
   "source": [
    "#North\n",
    "mask = good_mask & mask_north\n",
    "data = np.column_stack((cat['gmag']-cat['rmag'], cat['rmag']-cat['zmag'], cat['zmag']-cat['w1mag'], cat['w1mag']-cat['w2mag'], cat['Z']))\n",
    "data = data[mask]\n",
    "distmod = cosmo.distmod(cat['Z'].value)\n",
    "distmod = distmod[mask]\n",
    "m_to_l_predict = regrf_n.predict(data)\n",
    "cat[\"logmass\"][mask] = m_to_l_predict + 0.4*(4.45-(cat['zmag'][mask] - distmod.to_value() ))"
   ]
  },
  {
   "cell_type": "code",
   "execution_count": null,
   "metadata": {},
   "outputs": [],
   "source": [
    "#South\n",
    "mask = good_mask & mask_south\n",
    "data = np.column_stack((cat['gmag']-cat['rmag'], cat['rmag']-cat['zmag'], cat['zmag']-cat['w1mag'], cat['w1mag']-cat['w2mag'], cat['Z']))\n",
    "data = data[mask]\n",
    "distmod = cosmo.distmod(cat['Z'].value)\n",
    "distmod = distmod[mask]\n",
    "m_to_l_predict = regrf_s.predict(data)\n",
    "cat[\"logmass\"][mask] = m_to_l_predict + 0.4*(4.45-(cat['zmag'][mask] - distmod.to_value() ))"
   ]
  },
  {
   "cell_type": "code",
   "execution_count": null,
   "metadata": {},
   "outputs": [],
   "source": [
    "cat.write(out_path /release/ (\"stellar_mass_specz_\" + file_name))"
   ]
  },
  {
   "cell_type": "code",
   "execution_count": null,
   "metadata": {},
   "outputs": [],
   "source": []
  }
 ],
 "metadata": {
  "kernelspec": {
   "display_name": "DESI master",
   "language": "python",
   "name": "desi-master"
  },
  "language_info": {
   "codemirror_mode": {
    "name": "ipython",
    "version": 3
   },
   "file_extension": ".py",
   "mimetype": "text/x-python",
   "name": "python",
   "nbconvert_exporter": "python",
   "pygments_lexer": "ipython3",
   "version": "3.8.10"
  },
  "nbdime-conflicts": {
   "local_diff": [
    {
     "diff": [
      {
       "diff": [
        {
         "key": 0,
         "op": "addrange",
         "valuelist": [
          "3.10.8"
         ]
        },
        {
         "key": 0,
         "length": 1,
         "op": "removerange"
        }
       ],
       "key": "version",
       "op": "patch"
      }
     ],
     "key": "language_info",
     "op": "patch"
    }
   ],
   "remote_diff": [
    {
     "diff": [
      {
       "diff": [
        {
         "key": 0,
         "op": "addrange",
         "valuelist": [
          "3.9.7"
         ]
        },
        {
         "key": 0,
         "length": 1,
         "op": "removerange"
        }
       ],
       "key": "version",
       "op": "patch"
      }
     ],
     "key": "language_info",
     "op": "patch"
    }
   ]
  }
 },
 "nbformat": 4,
 "nbformat_minor": 4
}
