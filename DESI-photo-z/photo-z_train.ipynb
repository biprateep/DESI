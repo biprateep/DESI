{
 "cells": [
  {
   "cell_type": "code",
   "execution_count": null,
   "id": "2852260f-20de-4d65-9e81-b4d07df9d75e",
   "metadata": {
    "tags": []
   },
   "outputs": [],
   "source": [
    "from pathlib import Path\n",
    "import numpy  as np\n",
    "from astropy.table import Table\n",
    "import matplotlib.pyplot as plt"
   ]
  },
  {
   "cell_type": "code",
   "execution_count": null,
   "id": "5ca0c4f6-2955-4e0a-9e34-7bd1047bd045",
   "metadata": {
    "tags": []
   },
   "outputs": [],
   "source": [
    "south_cat_path = Path(\"/global/cfs/cdirs/desicollab/users/rongpu/data/ls_dr9.0_desi_photoz/rf/final_pz_specz_combined_south.fits\")\n",
    "north_cat_path = Path(\"/global/cfs/cdirs/desicollab/users/rongpu/data/ls_dr9.0_desi_photoz/rf/final_pz_specz_combined_north.fits\")"
   ]
  },
  {
   "cell_type": "code",
   "execution_count": null,
   "id": "c2a1400a-d490-4c62-8a17-0c17a0b68d94",
   "metadata": {
    "tags": []
   },
   "outputs": [],
   "source": [
    "# north_cat = Table.read(north_cat_path)\n",
    "cat = Table.read(south_cat_path)"
   ]
  },
  {
   "cell_type": "code",
   "execution_count": null,
   "id": "a305165d-f350-41ea-aaf1-a3497987bd73",
   "metadata": {
    "tags": []
   },
   "outputs": [],
   "source": [
    "mask = (cat['NOBS_G']>=1) & (cat['NOBS_R']>=1) & (cat['NOBS_Z']>=1)\n",
    "print(np.sum(mask), np.sum(~mask), np.sum(mask)/len(mask))"
   ]
  },
  {
   "cell_type": "code",
   "execution_count": null,
   "id": "2648b688-18f7-4e46-a53d-d394d0e49b4a",
   "metadata": {
    "tags": []
   },
   "outputs": [],
   "source": [
    "# photometric bands\n",
    "bands = ['g', 'r', 'z', 'w1', 'w2']\n",
    "bands_allcap = ['G', 'R', 'Z', 'W1', 'W2']\n",
    "\n",
    "mag_max = 30\n",
    "mag_fill = 100\n",
    "mask = np.ones(len(cat), dtype=bool)\n",
    "for band in bands_allcap:\n",
    "    mask = (cat['FLUX_'+band]/cat['MW_TRANSMISSION_'+band]<10**(0.4*(22.5-mag_max)))\n",
    "    cat['FLUX_'+band][mask] = 10**(0.4*(22.5-mag_fill)) * cat['MW_TRANSMISSION_'+band][mask]\n",
    "for band in ['G', 'R', 'Z']:\n",
    "    mask = (cat['FIBERFLUX_'+band]/cat['MW_TRANSMISSION_'+band]<10**(0.4*(22.5-mag_max)))\n",
    "    cat['FIBERFLUX_'+band][mask] = 10**(0.4*(22.5-mag_fill)) * cat['MW_TRANSMISSION_'+band][mask]"
   ]
  },
  {
   "cell_type": "code",
   "execution_count": null,
   "id": "7afecf26-4115-4614-86bd-93cf31efe957",
   "metadata": {
    "tags": []
   },
   "outputs": [],
   "source": [
    "cat['gmag'] = 22.5 - 2.5*np.log10(cat['FLUX_G']/cat['MW_TRANSMISSION_G'])\n",
    "cat['rmag'] = 22.5 - 2.5*np.log10(cat['FLUX_R']/cat['MW_TRANSMISSION_R'])\n",
    "cat['zmag'] = 22.5 - 2.5*np.log10(cat['FLUX_Z']/cat['MW_TRANSMISSION_Z'])\n",
    "cat['w1mag'] = 22.5 - 2.5*np.log10(cat['FLUX_W1']/cat['MW_TRANSMISSION_W1'])\n",
    "cat['w2mag'] = 22.5 - 2.5*np.log10(cat['FLUX_W2']/cat['MW_TRANSMISSION_W2'])\n",
    "\n",
    "cat['gfibermag'] = 22.5 - 2.5*np.log10(cat['FIBERFLUX_G']/cat['MW_TRANSMISSION_G'])\n",
    "cat['rfibermag'] = 22.5 - 2.5*np.log10(cat['FIBERFLUX_R']/cat['MW_TRANSMISSION_R'])\n",
    "cat['zfibermag'] = 22.5 - 2.5*np.log10(cat['FIBERFLUX_Z']/cat['MW_TRANSMISSION_Z'])"
   ]
  },
  {
   "cell_type": "code",
   "execution_count": null,
   "id": "c96d4408-e1fe-473d-928d-508414d9b656",
   "metadata": {
    "tags": []
   },
   "outputs": [],
   "source": [
    "mask = (cat['gmag']-cat['rmag']==0) | (cat['rmag']-cat['zmag']==0) | (cat['zmag']-cat['w1mag']==0)\n",
    "print(np.sum(mask), 'objects have zero color in g-r, r-z or z-W1 but still kept')\n",
    "mask = (cat['w1mag']-cat['w2mag']==0)\n",
    "print(np.sum(mask), 'objects with zero color W1-W2 but still kept')\n",
    "\n",
    "# axis ratio\n",
    "e = np.array(np.sqrt(cat['SHAPE_E1']**2+cat['SHAPE_E2']**2))\n",
    "q = (1+e)/(1-e)\n",
    "\n",
    "# shape probability (definition of shape probability in Soo et al. 2017)\n",
    "p = np.ones(len(cat))*0.5\n",
    "# DCHISQ[:, 2] is DCHISQ_EXP; DCHISQ[:, 3] is DCHISQ_DEV\n",
    "mask_chisq = (cat['DCHISQ'][:, 3]>0) & (cat['DCHISQ'][:, 2]>0)\n",
    "p[mask_chisq] = cat['DCHISQ'][:, 3][mask_chisq]/(cat['DCHISQ'][:, 3]+cat['DCHISQ'][:, 2])[mask_chisq]\n",
    "\n"
   ]
  },
  {
   "cell_type": "code",
   "execution_count": null,
   "id": "18d9a762-d923-4078-8cbc-bdcfaf33482d",
   "metadata": {},
   "outputs": [],
   "source": [
    "# np.unique(south_cat.columns['SURVEY'])\n",
    "south_cat.columns"
   ]
  },
  {
   "cell_type": "code",
   "execution_count": null,
   "id": "c7d4ae07-7016-41ca-8de2-34ec93e575bc",
   "metadata": {},
   "outputs": [],
   "source": [
    "def prepare_phot(cat):\n",
    "    for m in [\"G\",\"R\", \"Z\", \"W1\", \"W2\"]:\n",
    "        cat[f\"MAG_{m}\"] = 22.5 - 2.5*np.log10(np.clip(cat[f\"FLUX_{m}\"] / cat[f\"MW_TRANSMISSION_{m}\"], 1e-16, None))\n",
    "        # cat[f\"MAG_IVAR_{m}\"] = 22.5 - 2.5*np.log10(np.clip(cat[f\"FLUX_{m}\"] / cat[f\"MW_TRANSMISSION_{m}\"], 1e-16, None))\n",
    "\n",
    "#Do the same thing for fiber mag\n",
    "\n"
   ]
  },
  {
   "cell_type": "markdown",
   "id": "23f89c27-98df-4fef-864c-c2862158b83b",
   "metadata": {
    "tags": []
   },
   "source": [
    "# NOTES: \n",
    "Features rongpu used: r-band magnitude and fiber-magnitude, g − r, r − z, z − W1 and W1 − W2 colors, half-light radius,\n",
    "aspect ratio (ratio between semiminor and semimajor axes), and a shape parameter that quantifies if a galaxy is better fitted by an exponential profile or a de Vaucouleurs profile.\n",
    "\n",
    "\n",
    "- What if we train the model using Flux scales rather than mag scales?\n",
    "- Do we keep north and south separate or use as an input flag\n",
    "- Look at the histograms for the distributions, maybe use logistic scaling? What happens to calibration with log scaling\n",
    "- What metric are we looking for? MSE of median vs CDE loss\n",
    "- Distance based epistemic uncertainty?\n",
    "- Try aperture photometry vs model photometry\n",
    "\n",
    "- https://github.com/rongpu/desi-photoz/tree/master/dr9_desi\n",
    "\n",
    "- https://desi.lbl.gov/DocDB/cgi-bin/private/RetrieveFile?docid=7584;filename=CWR_revised.pdf;version=2"
   ]
  },
  {
   "cell_type": "code",
   "execution_count": null,
   "id": "1c6faa03-69c0-4e44-8b15-194014bfe347",
   "metadata": {
    "tags": []
   },
   "outputs": [],
   "source": [
    "plt.hist(south_cat[\"Z_SPEC\"],bins=100,histtype=\"step\")\n",
    "plt.hist(north_cat[\"Z_SPEC\"],bins=100,histtype=\"step\")\n",
    "\n",
    "plt.yscale(\"log\")"
   ]
  },
  {
   "cell_type": "code",
   "execution_count": null,
   "id": "bc8d8d96-59ea-49ec-8260-87a756849dc4",
   "metadata": {},
   "outputs": [],
   "source": [
    "from collections import deque"
   ]
  },
  {
   "cell_type": "code",
   "execution_count": null,
   "id": "ef113dce-4342-4681-889e-b6642660e5b3",
   "metadata": {
    "tags": []
   },
   "outputs": [],
   "source": [
    "%%timeit\n",
    "a = []\n",
    "for i in range(8000000):\n",
    "    a.append(i*3)"
   ]
  },
  {
   "cell_type": "code",
   "execution_count": null,
   "id": "abf2d175-b566-4f00-8739-5ee76a673065",
   "metadata": {
    "tags": []
   },
   "outputs": [],
   "source": [
    "%%timeit\n",
    "a = deque()\n",
    "for i in range(8000000):\n",
    "    a.append(i*3)"
   ]
  },
  {
   "cell_type": "code",
   "execution_count": null,
   "id": "1c69a865-3bbf-4171-ba4c-df84ab9d98dc",
   "metadata": {},
   "outputs": [],
   "source": []
  }
 ],
 "metadata": {
  "kernelspec": {
   "display_name": "Pytorch-MAE",
   "language": "python",
   "name": "pytorch-mae"
  },
  "language_info": {
   "codemirror_mode": {
    "name": "ipython",
    "version": 3
   },
   "file_extension": ".py",
   "mimetype": "text/x-python",
   "name": "python",
   "nbconvert_exporter": "python",
   "pygments_lexer": "ipython3",
   "version": "3.10.9"
  }
 },
 "nbformat": 4,
 "nbformat_minor": 5
}
