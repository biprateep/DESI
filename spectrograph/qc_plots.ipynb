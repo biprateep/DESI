{
 "cells": [
  {
   "cell_type": "markdown",
   "metadata": {},
   "source": [
    "### Plot the CCD dark image statistics"
   ]
  },
  {
   "cell_type": "code",
   "execution_count": null,
   "metadata": {},
   "outputs": [],
   "source": [
    "import numpy as np, matplotlib.pyplot as plt, pandas as pd, datashader as ds\n",
    "\n",
    "from pathlib import Path\n",
    "from astropy.io import fits\n",
    "from scipy import stats\n",
    "from datashader import transfer_functions as tf"
   ]
  },
  {
   "cell_type": "code",
   "execution_count": null,
   "metadata": {},
   "outputs": [],
   "source": [
    "#set camera name\n",
    "camera = \"B0\""
   ]
  },
  {
   "cell_type": "code",
   "execution_count": null,
   "metadata": {},
   "outputs": [],
   "source": [
    "cuts = pd.read_csv(\"cuts.txt\", delim_whitespace = True)"
   ]
  },
  {
   "cell_type": "code",
   "execution_count": null,
   "metadata": {},
   "outputs": [],
   "source": [
    "#generate file path\n",
    "data_path = \"../../\"\n",
    "file_path = data_path + \"dark-stat-\" + camera + \".fits\""
   ]
  },
  {
   "cell_type": "code",
   "execution_count": null,
   "metadata": {},
   "outputs": [],
   "source": [
    "#read fits file into data frame\n",
    "fitsfile = fits.open(file_path)\n",
    "median_img = fitsfile[\"MEDIAN\"].data\n",
    "iqr_img = fitsfile[\"IQR\"].data\n",
    "\n",
    "#ravel data and fix byte order\n",
    "median = median_img.ravel().newbyteorder().byteswap()\n",
    "iqr = iqr_img.ravel().newbyteorder().byteswap()"
   ]
  },
  {
   "cell_type": "code",
   "execution_count": null,
   "metadata": {},
   "outputs": [],
   "source": [
    "def fast_scatter(x,y,ax,x_range=None, y_range=None, **kwargs):\n",
    "    if x_range == None:\n",
    "        x_range=(np.min(x), np.max(x))\n",
    "    if y_range == None:\n",
    "        y_range=(np.min(y), np.max(y))\n",
    "                 \n",
    "    df = pd.DataFrame({\"x\":x, \"y\":y})\n",
    "    cvs = ds.Canvas(plot_width = 700, plot_height = 700, x_range=x_range, y_range=y_range)\n",
    "    agg = cvs.points(df, 'x', 'y')\n",
    "    ds.transfer_functions.Image.border=0\n",
    "    img = tf.shade(agg, cmap = [\"white\", \"black\"])\n",
    "    ax.imshow(img.to_masked_array(), origin=\"lower\",cmap=\"binary\", extent=(x_range[0],x_range[1],y_range[0], y_range[1]), interpolation=None)\n",
    "    return ax"
   ]
  },
  {
   "cell_type": "code",
   "execution_count": null,
   "metadata": {},
   "outputs": [],
   "source": [
    "fig, ax = plt.subplots(1,1, figsize=(10,10))\n",
    "x_range = (np.min(median),0.05)\n",
    "y_range = (0,0.04)\n",
    "ax = fast_scatter(median, iqr,ax,x_range, y_range)\n",
    "ax.set_xlabel(\"median (percentile)\", size=20)\n",
    "ax.set_ylabel(\"iqr (percentile)\", size =20)\n",
    "cuts_cam = cuts[cuts[\"camera\"]==camera]\n",
    "ax.axvline(cuts_cam[\"med_min\"].to_numpy(),c=\"k\", ls=\"--\")\n",
    "ax.axvline(cuts_cam[\"med_max\"].to_numpy(), c=\"k\", ls=\"--\")\n",
    "ax.axhline(cuts_cam[\"iqr_min\"].to_numpy(),c=\"k\", ls=\"--\")\n",
    "ax.axhline(cuts_cam[\"iqr_max\"].to_numpy(),c=\"k\", ls=\"--\")\n",
    "\n",
    "plt.ylim(-0.01,0.03)\n",
    "\n",
    "#Uncomment if you want to plot axes in percentiles\n",
    "\n",
    "# #convert ticks to percentile scale\n",
    "# x_ticks = ax.get_xticks()\n",
    "# x_percs = [np.round(stats.percentileofscore(median, p),4) for p in x_ticks]\n",
    "# # ax.set_xticks(x_ticks)\n",
    "# ax.set_xticklabels(x_percs)\n",
    "\n",
    "# y_ticks = ax.get_yticks()\n",
    "# y_percs = [np.round(stats.percentileofscore(median, p),4) for p in y_ticks]\n",
    "# # ax.set_yticks(y_ticks)\n",
    "# ax.set_yticklabels(y_percs)\n",
    "# plt.title(\"Camera: B0\", size=20)"
   ]
  }
 ],
 "metadata": {
  "kernelspec": {
   "display_name": "Python 3",
   "language": "python",
   "name": "python3"
  },
  "language_info": {
   "codemirror_mode": {
    "name": "ipython",
    "version": 3
   },
   "file_extension": ".py",
   "mimetype": "text/x-python",
   "name": "python",
   "nbconvert_exporter": "python",
   "pygments_lexer": "ipython3",
   "version": "3.7.6"
  }
 },
 "nbformat": 4,
 "nbformat_minor": 4
}
