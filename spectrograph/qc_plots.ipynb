{
 "cells": [
  {
   "cell_type": "markdown",
   "metadata": {},
   "source": [
    "# Plot Dark image statistics and Masks"
   ]
  },
  {
   "cell_type": "code",
   "execution_count": null,
   "metadata": {},
   "outputs": [],
   "source": [
    "import numpy as np, matplotlib.pyplot as plt, pandas as pd, datashader as ds\n",
    "\n",
    "from pathlib import Path\n",
    "from astropy.io import fits\n",
    "from scipy import stats\n",
    "from scipy.ndimage.morphology import binary_closing\n",
    "from functools import partial\n",
    "from mpl_ext import dsshow"
   ]
  },
  {
   "cell_type": "code",
   "execution_count": null,
   "metadata": {},
   "outputs": [],
   "source": [
    "%matplotlib widget"
   ]
  },
  {
   "cell_type": "code",
   "execution_count": null,
   "metadata": {},
   "outputs": [],
   "source": [
    "cuts = pd.read_csv(\"cuts.txt\", delim_whitespace = True)"
   ]
  },
  {
   "cell_type": "code",
   "execution_count": null,
   "metadata": {},
   "outputs": [],
   "source": [
    "data_path = \"../../\""
   ]
  },
  {
   "cell_type": "markdown",
   "metadata": {},
   "source": [
    "# Plot Stats"
   ]
  },
  {
   "cell_type": "code",
   "execution_count": null,
   "metadata": {},
   "outputs": [],
   "source": [
    "#set camera name\n",
    "camera = \"B5\""
   ]
  },
  {
   "cell_type": "code",
   "execution_count": null,
   "metadata": {},
   "outputs": [],
   "source": [
    "#read fits file into data frame\n",
    "fitsfile = fits.open(data_path + \"dark-stat-\" + camera + \".fits\")\n",
    "median_img = fitsfile[\"MEDIAN\"].data\n",
    "iqr_img = fitsfile[\"IQR\"].data\n",
    "\n",
    "#ravel data and fix byte order\n",
    "median = median_img.ravel().newbyteorder().byteswap()\n",
    "iqr = iqr_img.ravel().newbyteorder().byteswap()\n",
    "\n",
    "df = pd.DataFrame({\"median\": median, \"iqr\": iqr})"
   ]
  },
  {
   "cell_type": "code",
   "execution_count": null,
   "metadata": {},
   "outputs": [],
   "source": [
    "#Fast, interactive scatter plot of the pixel values along with the thresholds\n",
    "fig, ax = plt.subplots(1,1, figsize=(10,5))\n",
    "\n",
    "dyn = partial(ds.tf.dynspread, max_px=40, threshold=0.5)\n",
    "\n",
    "da = dsshow(df, ds.Point('median', 'iqr'), spread_fn=dyn, aspect=\"auto\", ax=ax)\n",
    "\n",
    "cut = cuts[cuts[\"camera\"]==camera]\n",
    "med_min = float(cut[\"med_min\"])\n",
    "med_max = float(cut[\"med_max\"])\n",
    "iqr_min = float(cut[\"iqr_min\"])\n",
    "iqr_max = float(cut[\"iqr_max\"])\n",
    "\n",
    "plt.axvline(med_min, color=\"k\", ls=\"--\")\n",
    "plt.axvline(med_max, color=\"k\", ls=\"--\")\n",
    "plt.axhline(iqr_min, color=\"k\", ls=\"--\")\n",
    "plt.axhline(iqr_max, color=\"k\", ls=\"--\")\n",
    "\n",
    "plt.xlabel(\"Median\")\n",
    "plt.ylabel(\"IQR\")\n",
    "plt.colorbar(da)"
   ]
  },
  {
   "cell_type": "code",
   "execution_count": null,
   "metadata": {
    "jupyter": {
     "source_hidden": true
    }
   },
   "outputs": [],
   "source": [
    "#Uncomment if you want to plot axes in percentiles\n",
    "\n",
    "# #convert ticks to percentile scale\n",
    "# x_ticks = ax.get_xticks()\n",
    "# x_percs = [np.round(stats.percentileofscore(median, p),4) for p in x_ticks]\n",
    "# # ax.set_xticks(x_ticks)\n",
    "# ax.set_xticklabels(x_percs)\n",
    "\n",
    "# y_ticks = ax.get_yticks()\n",
    "# y_percs = [np.round(stats.percentileofscore(median, p),4) for p in y_ticks]\n",
    "# # ax.set_yticks(y_ticks)\n",
    "# ax.set_yticklabels(y_percs)\n",
    "# plt.title(\"Camera: B0\", size=20)"
   ]
  },
  {
   "cell_type": "code",
   "execution_count": null,
   "metadata": {},
   "outputs": [],
   "source": [
    "#Cuts in percentile\n",
    "minmed=stats.percentileofscore(median, med_min)\n",
    "print(\"Min Median:\", minmed)\n",
    "maxmed=stats.percentileofscore(median, med_max)\n",
    "print(\"Max Median:\", maxmed)\n",
    "miniqr=stats.percentileofscore(iqr, iqr_min)\n",
    "print(\"Min IQR:\", miniqr)\n",
    "maxiqr=stats.percentileofscore(iqr, iqr_max)\n",
    "print(\"Max IQR:\", maxiqr)"
   ]
  },
  {
   "cell_type": "markdown",
   "metadata": {},
   "source": [
    "# Generate  and Plot Mask"
   ]
  },
  {
   "cell_type": "code",
   "execution_count": null,
   "metadata": {},
   "outputs": [],
   "source": [
    "def create_mask(median_img, iqr_img, minmed, maxmed, miniqr, maxiqr, colfrac=0.4, closeiter=20):\n",
    "    #Create the masks\n",
    "    mask   = np.zeros(median_img.shape, dtype=np.int32)\n",
    "    \n",
    "    minmed = np.percentile(median_img, minmed)\n",
    "    maxmed = np.percentile(median_img, maxmed)\n",
    "    miniqr = np.percentile(iqr_img, miniqr)\n",
    "    maxiqr = np.percentile(iqr_img, maxiqr)\n",
    "    \n",
    "    #Set the Bad flag absed on thresholds\n",
    "    mask[(median_img>maxmed)|(median_img<minmed)|(iqr_img>maxiqr)|(iqr_img<miniqr)] |= 1\n",
    "    \n",
    "    #Close incompletely blocked regions\n",
    "    closed_mask = binary_closing(mask, iterations=closeiter, structure=np.ones([2,2]).astype(np.int32)) #returns binary array\n",
    "    closed_mask[closed_mask] = 1\n",
    "    mask |= closed_mask\n",
    "    \n",
    "    #Block entire columns above a certain threshold per amplifier\n",
    "    bad_pix = (mask>0)\n",
    "    bad_pix_upper = bad_pix[0:bad_pix.shape[0]//2,:]\n",
    "    bad_pix_lower = bad_pix[bad_pix.shape[0]//2:bad_pix.shape[0],:]\n",
    "    bad_frac_upper = np.sum(bad_pix_upper, axis=0)/(bad_pix.shape[0]//2)\n",
    "    bad_frac_lower = np.sum(bad_pix_lower, axis=0)/(bad_pix.shape[0]//2)\n",
    "    bad_cols_upper = np.where(bad_frac_upper>=colfrac)\n",
    "    bad_cols_lower = np.where(bad_frac_lower>=colfrac)\n",
    "    mask[0:bad_pix.shape[0]//2,bad_cols_upper] |= 1\n",
    "    mask[bad_pix.shape[0]//2:bad_pix.shape[0],bad_cols_lower] |= 1\n",
    "    \n",
    "    return mask"
   ]
  },
  {
   "cell_type": "markdown",
   "metadata": {},
   "source": [
    "### Plot Mask"
   ]
  },
  {
   "cell_type": "code",
   "execution_count": null,
   "metadata": {},
   "outputs": [],
   "source": [
    "# mask_img = fits.open(data_path + \"pixmask-\" + camera + \".fits\")[0].data\n",
    "mask_img = create_mask(median_img, iqr_img, minmed, maxmed, miniqr, maxiqr, closeiter=20 )\n",
    "\n",
    "print(\"Blocked Percent:\", np.sum(mask_img>0)*100/np.product(mask_img.shape))"
   ]
  },
  {
   "cell_type": "code",
   "execution_count": null,
   "metadata": {},
   "outputs": [],
   "source": [
    "plt.figure(figsize=(12,12))\n",
    "plt.imshow(mask_img, cmap=\"binary\", vmin=0, vmax=1, origin=\"lower\" )\n",
    "plt.grid()\n",
    "plt.show()"
   ]
  },
  {
   "cell_type": "code",
   "execution_count": null,
   "metadata": {},
   "outputs": [],
   "source": []
  }
 ],
 "metadata": {
  "kernelspec": {
   "display_name": "widgets",
   "language": "python",
   "name": "widgets"
  },
  "language_info": {
   "codemirror_mode": {
    "name": "ipython",
    "version": 3
   },
   "file_extension": ".py",
   "mimetype": "text/x-python",
   "name": "python",
   "nbconvert_exporter": "python",
   "pygments_lexer": "ipython3",
   "version": "3.8.5"
  }
 },
 "nbformat": 4,
 "nbformat_minor": 4
}
