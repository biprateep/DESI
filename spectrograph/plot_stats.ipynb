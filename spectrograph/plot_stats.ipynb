{
 "cells": [
  {
   "cell_type": "markdown",
   "metadata": {},
   "source": [
    "### Plot the CCD dark image statistics"
   ]
  },
  {
   "cell_type": "code",
   "execution_count": null,
   "metadata": {},
   "outputs": [],
   "source": [
    "from pathlib import Path\n",
    "\n",
    "import numpy as np\n",
    "import matplotlib.pyplot as plt\n",
    "from astropy.io import fits\n",
    "import pandas as pd\n",
    "from scipy import stats"
   ]
  },
  {
   "cell_type": "code",
   "execution_count": null,
   "metadata": {},
   "outputs": [],
   "source": [
    "def to_percentile(a, kind=\"rank\"):\n",
    "    \"\"\"\n",
    "    converts array elements to their percentile value.\n",
    "    This behaves like scipy.stats.percentileofscore but acts on the whole array\n",
    "    \"\"\"\n",
    "    assert a.ndim == 1, \"Only 1D arrays are supported\"\n",
    "    \n",
    "    kinds = {\"rank\":\"average\", \"weak\":\"max\", \"strict\":\"min\", \"mean\":\"mean\"}\n",
    "    assert kind in kinds.keys(), \"Supported value for kind\"\n",
    "    \n",
    "    if kind in [\"rank\", \"average\"]:\n",
    "        return stats.rankdata(a, kinds[kind])*100/len(a)\n",
    "    if kind == \"strict\":\n",
    "        return (stats.rankdata(a, 'min')-1)*100/len(a)\n",
    "    if kind == \"mean\":\n",
    "        return (stats.rankdata(a, 'max') + (stats.rankdata(a, 'min')-1))*100/(2*len(a))"
   ]
  },
  {
   "cell_type": "code",
   "execution_count": null,
   "metadata": {},
   "outputs": [],
   "source": [
    "data_path = \"/global/cscratch1/sd/bid13/desi_masks_dark/\"\n",
    "cuts = pd.read_csv(\"cuts.txt\", delim_whitespace=True)"
   ]
  },
  {
   "cell_type": "code",
   "execution_count": null,
   "metadata": {},
   "outputs": [],
   "source": [
    "camera = \"B0\""
   ]
  },
  {
   "cell_type": "code",
   "execution_count": null,
   "metadata": {},
   "outputs": [],
   "source": [
    "file_path = data_path + \"dark-stat-\" + camera + \".fits\""
   ]
  },
  {
   "cell_type": "code",
   "execution_count": null,
   "metadata": {},
   "outputs": [],
   "source": [
    "fitsfile = fits.open(file_path)\n",
    "median_img = fitsfile[\"MEDIAN\"].data\n",
    "iqr_img = fitsfile[\"IQR\"].data"
   ]
  },
  {
   "cell_type": "code",
   "execution_count": null,
   "metadata": {},
   "outputs": [],
   "source": [
    "x= median_img.ravel()\n",
    "y = iqr_img.ravel()\n",
    "perc = np.linspace(0,100, 9)\n",
    "perc_label_x = np.percentile(x,perc)\n",
    "perc_label_y = np.percentile(y,perc)\n",
    "plt.figure(figsize=(10,10))\n",
    "plt.plot(x, y,\".\", rasterized = True)\n",
    "\n",
    "plt.xlim(-0.1,1)\n",
    "plt.ylim(-0.05,0.5)\n",
    "# plt.xticks(perc_label_x, np.round(perc, 2))\n",
    "# plt.yticks(perc_label_y, np.round(perc, 2))\n",
    "# plt.axhline(0, rasterized = True)\n",
    "# plt.axhline(0.0180, rasterized = True)\n",
    "# plt.axvline(-0.01)\n",
    "# plt.axvline(0.0370)\n",
    "\n",
    "# plt.axhline(0, rasterized = True)\n",
    "# plt.axhline(0.0180, rasterized = True)\n",
    "# plt.axvline(-0.01)\n",
    "# plt.axvline(0.0370)"
   ]
  },
  {
   "cell_type": "code",
   "execution_count": null,
   "metadata": {},
   "outputs": [],
   "source": [
    "import pandas as pd"
   ]
  },
  {
   "cell_type": "code",
   "execution_count": null,
   "metadata": {},
   "outputs": [],
   "source": [
    "df = pd.DataFrame({\"x\":x.byteswap().newbyteorder(), \"y\":y.byteswap().newbyteorder()})"
   ]
  },
  {
   "cell_type": "code",
   "execution_count": null,
   "metadata": {},
   "outputs": [],
   "source": [
    "df.plot.scatter(x=\"x\", y=\"y\")"
   ]
  },
  {
   "cell_type": "code",
   "execution_count": null,
   "metadata": {},
   "outputs": [],
   "source": []
  }
 ],
 "metadata": {
  "kernelspec": {
   "display_name": "DESI master",
   "language": "python",
   "name": "desi-master"
  },
  "language_info": {
   "codemirror_mode": {
    "name": "ipython",
    "version": 3
   },
   "file_extension": ".py",
   "mimetype": "text/x-python",
   "name": "python",
   "nbconvert_exporter": "python",
   "pygments_lexer": "ipython3",
   "version": "3.6.6"
  }
 },
 "nbformat": 4,
 "nbformat_minor": 4
}
